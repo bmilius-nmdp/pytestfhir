{
 "cells": [
  {
   "cell_type": "code",
   "execution_count": 1,
   "id": "c3669487",
   "metadata": {},
   "outputs": [
    {
     "name": "stdout",
     "output_type": "stream",
     "text": [
      "Help on Parameters in module fhirclient.r3.models.parameters object:\n",
      "\n",
      "class Parameters(fhirclient.r3.models.resource.Resource)\n",
      " |  Parameters(jsondict=None, strict=True)\n",
      " |  \n",
      " |  Operation Request or Response.\n",
      " |  \n",
      " |  This special resource type is used to represent an operation request and\n",
      " |  response (operations.html). It has no other use, and there is no RESTful\n",
      " |  endpoint associated with it.\n",
      " |  \n",
      " |  Method resolution order:\n",
      " |      Parameters\n",
      " |      fhirclient.r3.models.resource.Resource\n",
      " |      fhirclient.r3.models.fhirabstractresource.FHIRAbstractResource\n",
      " |      fhirclient.r3.models.fhirabstractbase.FHIRAbstractBase\n",
      " |      builtins.object\n",
      " |  \n",
      " |  Methods defined here:\n",
      " |  \n",
      " |  __init__(self, jsondict=None, strict=True)\n",
      " |      Initialize all valid properties.\n",
      " |      \n",
      " |      :raises: FHIRValidationError on validation errors, unless strict is False\n",
      " |      :param dict jsondict: A JSON dictionary to use for initialization\n",
      " |      :param bool strict: If True (the default), invalid variables will raise a TypeError\n",
      " |  \n",
      " |  elementProperties(self)\n",
      " |      Returns a list of tuples, one tuple for each property that should\n",
      " |      be serialized, as: (\"name\", \"json_name\", type, is_list, \"of_many\", not_optional)\n",
      " |  \n",
      " |  ----------------------------------------------------------------------\n",
      " |  Data and other attributes defined here:\n",
      " |  \n",
      " |  resource_type = 'Parameters'\n",
      " |  \n",
      " |  ----------------------------------------------------------------------\n",
      " |  Methods inherited from fhirclient.r3.models.fhirabstractresource.FHIRAbstractResource:\n",
      " |  \n",
      " |  as_json(self)\n",
      " |      Serializes to JSON by inspecting `elementProperties()` and creating\n",
      " |      a JSON dictionary of all registered properties. Checks:\n",
      " |      \n",
      " |      - whether required properties are not None (and lists not empty)\n",
      " |      - whether not-None properties are of the correct type\n",
      " |      \n",
      " |      :raises: FHIRValidationError if properties have the wrong type or if\n",
      " |          required properties are empty\n",
      " |      :returns: A validated dict object that can be JSON serialized\n",
      " |  \n",
      " |  create(self, server)\n",
      " |      Attempt to create the receiver on the given server, using a POST\n",
      " |      command.\n",
      " |      \n",
      " |      :param FHIRServer server: The server to create the receiver on\n",
      " |      :returns: None or the response JSON on success\n",
      " |  \n",
      " |  delete(self, server=None)\n",
      " |      Delete the receiver from the given server with a DELETE command.\n",
      " |      \n",
      " |      :param FHIRServer server: The server to update the receiver on;\n",
      " |          optional, will use the instance's `server` if needed.\n",
      " |      :returns: None or the response JSON on success\n",
      " |  \n",
      " |  process(self, server)\n",
      " |      For processing transaction or batch bundles.\n",
      " |      Attempt to create the receiver on the given server, using a POST\n",
      " |      command.\n",
      " |      \n",
      " |      :param FHIRServer server: The server to create the receiver on\n",
      " |      :returns: None or the response JSON on success\n",
      " |  \n",
      " |  relativeBase(self)\n",
      " |  \n",
      " |  relativePath(self)\n",
      " |  \n",
      " |  search(self, struct=None)\n",
      " |      Search can be started via a dictionary containing a search\n",
      " |      construct.\n",
      " |      \n",
      " |      Calling this method with a search struct will return a `FHIRSearch`\n",
      " |      object representing the search struct, with \"$type\" and \"id\" added.\n",
      " |      \n",
      " |      :param dict struct: An optional search structure\n",
      " |      :returns: A FHIRSearch instance\n",
      " |  \n",
      " |  update(self, server=None)\n",
      " |      Update the receiver's representation on the given server, issuing\n",
      " |      a PUT command.\n",
      " |      \n",
      " |      :param FHIRServer server: The server to update the receiver on;\n",
      " |          optional, will use the instance's `server` if needed.\n",
      " |      :returns: None or the response JSON on success\n",
      " |  \n",
      " |  ----------------------------------------------------------------------\n",
      " |  Class methods inherited from fhirclient.r3.models.fhirabstractresource.FHIRAbstractResource:\n",
      " |  \n",
      " |  read(rem_id, server) from builtins.type\n",
      " |      Read the resource with the given id from the given server. The\n",
      " |      passed-in server instance must support a `request_json()` method call,\n",
      " |      taking a relative path as first (and only mandatory) argument.\n",
      " |      \n",
      " |      :param str rem_id: The id of the resource on the remote server\n",
      " |      :param FHIRServer server: An instance of a FHIR server or compatible class\n",
      " |      :returns: An instance of the receiving class\n",
      " |  \n",
      " |  read_from(path, server) from builtins.type\n",
      " |      Requests data from the given REST path on the server and creates\n",
      " |      an instance of the receiving class.\n",
      " |      \n",
      " |      :param str path: The REST path to read from\n",
      " |      :param FHIRServer server: An instance of a FHIR server or compatible class\n",
      " |      :returns: An instance of the receiving class\n",
      " |  \n",
      " |  where(struct) from builtins.type\n",
      " |      Search can be started via a dictionary containing a search\n",
      " |      construct.\n",
      " |      \n",
      " |      Calling this method with a search struct will return a `FHIRSearch`\n",
      " |      object representing the search struct\n",
      " |      \n",
      " |      :param dict struct: A search structure\n",
      " |      :returns: A FHIRSearch instance\n",
      " |  \n",
      " |  ----------------------------------------------------------------------\n",
      " |  Readonly properties inherited from fhirclient.r3.models.fhirabstractresource.FHIRAbstractResource:\n",
      " |  \n",
      " |  server\n",
      " |      Walks the owner hierarchy until it finds an owner with a server.\n",
      " |  \n",
      " |  ----------------------------------------------------------------------\n",
      " |  Methods inherited from fhirclient.r3.models.fhirabstractbase.FHIRAbstractBase:\n",
      " |  \n",
      " |  didResolveReference(self, refid, resolved)\n",
      " |      Called by `FHIRResource` when it resolves a reference. Stores the\n",
      " |      resolved reference into the `_resolved` dictionary.\n",
      " |      \n",
      " |      :param refid: The id of the resource that was resolved\n",
      " |      :param refid: The resolved resource, ready to be cached\n",
      " |  \n",
      " |  owningBundle(self)\n",
      " |      Walks the owner hierarchy and returns the next parent that is a\n",
      " |      `Bundle` instance.\n",
      " |  \n",
      " |  owningResource(self)\n",
      " |      Walks the owner hierarchy and returns the next parent that is a\n",
      " |      `DomainResource` instance.\n",
      " |  \n",
      " |  resolvedReference(self, refid)\n",
      " |      Returns the resolved reference with the given id, if it has been\n",
      " |      resolved already. If it hasn't, forwards the call to its owner if it\n",
      " |      has one.\n",
      " |      \n",
      " |      You should probably use `resolve()` on the `FHIRReference` itself.\n",
      " |      \n",
      " |      :param refid: The id of the resource to resolve\n",
      " |      :returns: An instance of `Resource`, if it was found\n",
      " |  \n",
      " |  update_with_json(self, jsondict)\n",
      " |      Update the receiver with data in a JSON dictionary.\n",
      " |      \n",
      " |      :raises: FHIRValidationError on validation errors\n",
      " |      :param dict jsondict: The JSON dictionary to use to update the receiver\n",
      " |      :returns: None on success, a list of errors if there were errors\n",
      " |  \n",
      " |  ----------------------------------------------------------------------\n",
      " |  Class methods inherited from fhirclient.r3.models.fhirabstractbase.FHIRAbstractBase:\n",
      " |  \n",
      " |  with_json(jsonobj) from builtins.type\n",
      " |      Initialize an element from a JSON dictionary or array.\n",
      " |      \n",
      " |      If the JSON dictionary has a \"resourceType\" entry and the specified\n",
      " |      resource type is not the receiving classes type, uses\n",
      " |      `FHIRElementFactory` to return a correct class instance.\n",
      " |      \n",
      " |      :raises: TypeError on anything but dict or list of dicts\n",
      " |      :raises: FHIRValidationError if instantiation fails\n",
      " |      :param jsonobj: A dict or list of dicts to instantiate from\n",
      " |      :returns: An instance or a list of instances created from JSON data\n",
      " |  \n",
      " |  with_json_and_owner(jsonobj, owner) from builtins.type\n",
      " |      Instantiates by forwarding to `with_json()`, then remembers the\n",
      " |      \"owner\" of the instantiated elements. The \"owner\" is the resource\n",
      " |      containing the receiver and is used to resolve contained resources.\n",
      " |      \n",
      " |      :raises: TypeError on anything but dict or list of dicts\n",
      " |      :raises: FHIRValidationError if instantiation fails\n",
      " |      :param dict jsonobj: Decoded JSON dictionary (or list thereof)\n",
      " |      :param FHIRElement owner: The owning parent\n",
      " |      :returns: An instance or a list of instances created from JSON data\n",
      " |  \n",
      " |  ----------------------------------------------------------------------\n",
      " |  Data descriptors inherited from fhirclient.r3.models.fhirabstractbase.FHIRAbstractBase:\n",
      " |  \n",
      " |  __dict__\n",
      " |      dictionary for instance variables (if defined)\n",
      " |  \n",
      " |  __weakref__\n",
      " |      list of weak references to the object (if defined)\n",
      "\n"
     ]
    }
   ],
   "source": [
    "import json\n",
    "import requests\n",
    "import fhirclient.r3.models.parameters as par\n",
    "\n",
    "myparameters = par.Parameters()\n",
    "help(myparameters)"
   ]
  },
  {
   "cell_type": "code",
   "execution_count": 2,
   "id": "bea84ef8",
   "metadata": {},
   "outputs": [
    {
     "name": "stdout",
     "output_type": "stream",
     "text": [
      "('id', 'id', <class 'str'>, False, None, False)\n",
      "('implicitRules', 'implicitRules', <class 'str'>, False, None, False)\n",
      "('language', 'language', <class 'str'>, False, None, False)\n",
      "('meta', 'meta', <class 'fhirclient.r3.models.meta.Meta'>, False, None, False)\n",
      "('parameter', 'parameter', <class 'fhirclient.r3.models.parameters.ParametersParameter'>, True, None, False)\n"
     ]
    }
   ],
   "source": [
    "for eproperty in myparameters.elementProperties():\n",
    "    print(eproperty)"
   ]
  },
  {
   "cell_type": "code",
   "execution_count": 3,
   "id": "70a32474",
   "metadata": {},
   "outputs": [
    {
     "name": "stdout",
     "output_type": "stream",
     "text": [
      "{'resourceType': 'Parameters'}\n"
     ]
    }
   ],
   "source": [
    "print(myparameters.as_json())"
   ]
  },
  {
   "cell_type": "code",
   "execution_count": 4,
   "id": "dbb63e64",
   "metadata": {},
   "outputs": [
    {
     "name": "stdout",
     "output_type": "stream",
     "text": [
      "('extension', 'extension', <class 'fhirclient.r3.models.extension.Extension'>, True, None, False)\n",
      "('id', 'id', <class 'str'>, False, None, False)\n",
      "('modifierExtension', 'modifierExtension', <class 'fhirclient.r3.models.extension.Extension'>, True, None, False)\n",
      "('name', 'name', <class 'str'>, False, None, True)\n",
      "('part', 'part', <class 'fhirclient.r3.models.parameters.ParametersParameter'>, True, None, False)\n",
      "('resource', 'resource', <class 'fhirclient.r3.models.resource.Resource'>, False, None, False)\n",
      "('valueAddress', 'valueAddress', <class 'fhirclient.r3.models.address.Address'>, False, 'value', False)\n",
      "('valueAge', 'valueAge', <class 'fhirclient.r3.models.age.Age'>, False, 'value', False)\n",
      "('valueAnnotation', 'valueAnnotation', <class 'fhirclient.r3.models.annotation.Annotation'>, False, 'value', False)\n",
      "('valueAttachment', 'valueAttachment', <class 'fhirclient.r3.models.attachment.Attachment'>, False, 'value', False)\n",
      "('valueBase64Binary', 'valueBase64Binary', <class 'str'>, False, 'value', False)\n",
      "('valueBoolean', 'valueBoolean', <class 'bool'>, False, 'value', False)\n",
      "('valueCode', 'valueCode', <class 'str'>, False, 'value', False)\n",
      "('valueCodeableConcept', 'valueCodeableConcept', <class 'fhirclient.r3.models.codeableconcept.CodeableConcept'>, False, 'value', False)\n",
      "('valueCoding', 'valueCoding', <class 'fhirclient.r3.models.coding.Coding'>, False, 'value', False)\n",
      "('valueContactPoint', 'valueContactPoint', <class 'fhirclient.r3.models.contactpoint.ContactPoint'>, False, 'value', False)\n",
      "('valueCount', 'valueCount', <class 'fhirclient.r3.models.count.Count'>, False, 'value', False)\n",
      "('valueDate', 'valueDate', <class 'fhirclient.r3.models.fhirdate.FHIRDate'>, False, 'value', False)\n",
      "('valueDateTime', 'valueDateTime', <class 'fhirclient.r3.models.fhirdate.FHIRDate'>, False, 'value', False)\n",
      "('valueDecimal', 'valueDecimal', <class 'float'>, False, 'value', False)\n",
      "('valueDistance', 'valueDistance', <class 'fhirclient.r3.models.distance.Distance'>, False, 'value', False)\n",
      "('valueDuration', 'valueDuration', <class 'fhirclient.r3.models.duration.Duration'>, False, 'value', False)\n",
      "('valueHumanName', 'valueHumanName', <class 'fhirclient.r3.models.humanname.HumanName'>, False, 'value', False)\n",
      "('valueId', 'valueId', <class 'str'>, False, 'value', False)\n",
      "('valueIdentifier', 'valueIdentifier', <class 'fhirclient.r3.models.identifier.Identifier'>, False, 'value', False)\n",
      "('valueInstant', 'valueInstant', <class 'fhirclient.r3.models.fhirdate.FHIRDate'>, False, 'value', False)\n",
      "('valueInteger', 'valueInteger', <class 'int'>, False, 'value', False)\n",
      "('valueMarkdown', 'valueMarkdown', <class 'str'>, False, 'value', False)\n",
      "('valueMeta', 'valueMeta', <class 'fhirclient.r3.models.meta.Meta'>, False, 'value', False)\n",
      "('valueMoney', 'valueMoney', <class 'fhirclient.r3.models.money.Money'>, False, 'value', False)\n",
      "('valueOid', 'valueOid', <class 'str'>, False, 'value', False)\n",
      "('valuePeriod', 'valuePeriod', <class 'fhirclient.r3.models.period.Period'>, False, 'value', False)\n",
      "('valuePositiveInt', 'valuePositiveInt', <class 'int'>, False, 'value', False)\n",
      "('valueQuantity', 'valueQuantity', <class 'fhirclient.r3.models.quantity.Quantity'>, False, 'value', False)\n",
      "('valueRange', 'valueRange', <class 'fhirclient.r3.models.range.Range'>, False, 'value', False)\n",
      "('valueRatio', 'valueRatio', <class 'fhirclient.r3.models.ratio.Ratio'>, False, 'value', False)\n",
      "('valueReference', 'valueReference', <class 'fhirclient.r3.models.fhirreference.FHIRReference'>, False, 'value', False)\n",
      "('valueSampledData', 'valueSampledData', <class 'fhirclient.r3.models.sampleddata.SampledData'>, False, 'value', False)\n",
      "('valueSignature', 'valueSignature', <class 'fhirclient.r3.models.signature.Signature'>, False, 'value', False)\n",
      "('valueString', 'valueString', <class 'str'>, False, 'value', False)\n",
      "('valueTime', 'valueTime', <class 'fhirclient.r3.models.fhirdate.FHIRDate'>, False, 'value', False)\n",
      "('valueTiming', 'valueTiming', <class 'fhirclient.r3.models.timing.Timing'>, False, 'value', False)\n",
      "('valueUnsignedInt', 'valueUnsignedInt', <class 'int'>, False, 'value', False)\n",
      "('valueUri', 'valueUri', <class 'str'>, False, 'value', False)\n"
     ]
    }
   ],
   "source": [
    "ppar = par.ParametersParameter()\n",
    "for eproperty in ppar.elementProperties():\n",
    "    print(eproperty)"
   ]
  },
  {
   "cell_type": "code",
   "execution_count": 5,
   "id": "01b35a7a",
   "metadata": {},
   "outputs": [
    {
     "name": "stdout",
     "output_type": "stream",
     "text": [
      "1\n",
      "('name', 'name', <class 'str'>, False, None, True)\n"
     ]
    }
   ],
   "source": [
    "required = []\n",
    "for element in ppar.elementProperties():\n",
    "    if element[5] == True:\n",
    "        required.append(element)\n",
    "print(len(required))\n",
    "if len(required) != 0:\n",
    "    for element in required:\n",
    "        print(element)"
   ]
  },
  {
   "cell_type": "code",
   "execution_count": 6,
   "id": "b315ae7a",
   "metadata": {},
   "outputs": [],
   "source": [
    "ppar.name = \"test\""
   ]
  },
  {
   "cell_type": "code",
   "execution_count": 7,
   "id": "9f5d0ec9",
   "metadata": {},
   "outputs": [
    {
     "data": {
      "text/plain": [
       "{'name': 'test'}"
      ]
     },
     "execution_count": 7,
     "metadata": {},
     "output_type": "execute_result"
    }
   ],
   "source": [
    "ppar.as_json()"
   ]
  },
  {
   "cell_type": "code",
   "execution_count": 8,
   "id": "7aef5dc2",
   "metadata": {},
   "outputs": [
    {
     "data": {
      "text/plain": [
       "{'parameter': [{'name': 'test'}], 'resourceType': 'Parameters'}"
      ]
     },
     "execution_count": 8,
     "metadata": {},
     "output_type": "execute_result"
    }
   ],
   "source": [
    "myparameters.parameter = [ppar]\n",
    "myparameters.as_json()"
   ]
  },
  {
   "cell_type": "code",
   "execution_count": 9,
   "id": "171beca2",
   "metadata": {},
   "outputs": [
    {
     "name": "stdout",
     "output_type": "stream",
     "text": [
      "{\n",
      "    \"parameter\": [\n",
      "        {\n",
      "            \"name\": \"test\"\n",
      "        }\n",
      "    ],\n",
      "    \"resourceType\": \"Parameters\"\n",
      "}\n"
     ]
    }
   ],
   "source": [
    "print(json.dumps(myparameters.as_json(), indent=4))"
   ]
  },
  {
   "cell_type": "code",
   "execution_count": null,
   "id": "6be1aff7",
   "metadata": {},
   "outputs": [],
   "source": []
  },
  {
   "cell_type": "code",
   "execution_count": 10,
   "id": "1b0880b3",
   "metadata": {},
   "outputs": [
    {
     "data": {
      "text/plain": [
       "{'parameter': [{'name': 'coding',\n",
       "   'valueCoding': {'code': '%', 'system': 'http://unitsofmeasure.org'}}],\n",
       " 'resourceType': 'Parameters'}"
      ]
     },
     "execution_count": 10,
     "metadata": {},
     "output_type": "execute_result"
    }
   ],
   "source": [
    "# import fhirclient.r3.models.codeableconcept as cc\n",
    "import fhirclient.r3.models.coding as c\n",
    "# pvcc = cc.CodeableConcept()\n",
    "coding = c.Coding()\n",
    "coding.system = \"http://unitsofmeasure.org\"\n",
    "coding.code = \"%\"\n",
    "ppar.valueCoding = coding\n",
    "ppar.name = \"coding\"\n",
    "myparameters.parameter = [ppar]\n",
    "myparameters.as_json()\n",
    "# print(json.dumps(pvcc.as_json(), indent=4))\n"
   ]
  },
  {
   "cell_type": "code",
   "execution_count": 11,
   "id": "26af2657",
   "metadata": {},
   "outputs": [
    {
     "name": "stdout",
     "output_type": "stream",
     "text": [
      "{\n",
      "    \"parameter\": [\n",
      "        {\n",
      "            \"name\": \"coding\",\n",
      "            \"valueCoding\": {\n",
      "                \"code\": \"%\",\n",
      "                \"system\": \"http://unitsofmeasure.org\"\n",
      "            }\n",
      "        }\n",
      "    ],\n",
      "    \"resourceType\": \"Parameters\"\n",
      "}\n"
     ]
    }
   ],
   "source": [
    "print(json.dumps(myparameters.as_json(), indent=4))"
   ]
  },
  {
   "cell_type": "code",
   "execution_count": 12,
   "id": "6da67ed8",
   "metadata": {},
   "outputs": [],
   "source": [
    "import requests"
   ]
  },
  {
   "cell_type": "code",
   "execution_count": 13,
   "id": "8e3cbaac",
   "metadata": {},
   "outputs": [
    {
     "name": "stdout",
     "output_type": "stream",
     "text": [
      "<?xml version=\"1.0\" encoding=\"UTF-8\"?>\r\n",
      "<!DOCTYPE HTML\r\n",
      "       \"http://www.w3.org/TR/xhtml1/DTD/xhtml1-transitional.dtd\">\r\n",
      "\r\n",
      "<html xmlns=\"http://www.w3.org/1999/xhtml\" xml:lang=\"en\" lang=\"en\">\r\n",
      "<head>\r\n",
      "    <title>Results from lookup</title>\r\n",
      "  <meta charset=\"utf-8\"/>\r\n",
      "  <meta charset=\"utf-8\" http-equiv=\"X-UA-Compatible\" content=\"IE=edge\" />\r\n",
      "  <meta content=\"width=device-width, initial-scale=1.0\" name=\"viewport\"/>\r\n",
      "  <meta content=\"http://hl7.org/fhir\" name=\"author\"/>\r\n",
      "\r\n",
      "  <link rel=\"stylesheet\" href=\"/fhir.css\"/>\r\n",
      "\r\n",
      "\r\n",
      "    <!-- Bootstrap core CSS -->\r\n",
      "  <link rel=\"stylesheet\" href=\"/dist/css/bootstrap.css\"/>\r\n",
      "  <link rel=\"stylesheet\" href=\"/assets/css/bootstrap-fhir.css\"/>\r\n",
      "\r\n",
      "    <!-- Project extras -->\r\n",
      "  <link rel=\"stylesheet\" href=\"/assets/css/project.css\"/>\r\n",
      "  <link rel=\"stylesheet\" href=\"/assets/css/pygments-manni.css\"/>\r\n",
      "\r\n",
      "    <!-- FHIR Server stuff -->\r\n",
      "  <link rel=\"stylesheet\" href=\"/css/tags.css\"/>\r\n",
      "\r\n",
      "    <!-- HTML5 shim and Respond.js IE8 support of HTML5 elements and media queries -->\r\n",
      "    <!-- [if lt IE 9]>\r\n",
      "  <script src=\"/assets/js/html5shiv.js\"></script>\r\n",
      "  <script src=\"/assets/js/respond.min.js\"></script>\r\n",
      "  <![endif] -->\r\n",
      "\r\n",
      "    <!-- Favicons -->\r\n",
      "  <link sizes=\"144x144\" rel=\"apple-touch-icon-precomposed\" href=\"/assets/ico/apple-touch-icon-144-precomposed.png\"/>\r\n",
      "  <link sizes=\"114x114\" rel=\"apple-touch-icon-precomposed\" href=\"/assets/ico/apple-touch-icon-114-precomposed.png\"/>\r\n",
      "  <link sizes=\"72x72\" rel=\"apple-touch-icon-precomposed\" href=\"/assets/ico/apple-touch-icon-72-precomposed.png\"/>\r\n",
      "  <link rel=\"apple-touch-icon-precomposed\" href=\"/assets/ico/apple-touch-icon-57-precomposed.png\"/>\r\n",
      "  <link rel=\"shortcut icon\" href=\"/assets/ico/favicon.png\"/>\r\n",
      "<script type=\"text/javascript\" src=\"/js/json2.js\"></script>\r\n",
      "<script type=\"text/javascript\" src=\"/js/statuspage.js\"></script>\r\n",
      "<script type=\"text/javascript\" src=\"/js/jquery-1.6.2.min.js\"></script>\r\n",
      "<script type=\"text/javascript\" src=\"/js/jquery-ui-1.8.16.custom.min.js\"></script>\r\n",
      "<link rel=\"stylesheet\" href=\"/css/jquery.ui.all.css\">\r\n",
      "<script src=\"/js/jquery-1.6.2.js\"></script>\r\n",
      "<script src=\"/js/jquery.ui.core.js\"></script>\r\n",
      "<script src=\"/js/jquery.ui.widget.js\"></script>\r\n",
      "<script src=\"/js/jquery.ui.mouse.js\"></script>\r\n",
      "<script src=\"/js/jquery.ui.resizable.js\"></script>\r\n",
      "<script src=\"/js/jquery.ui.draggable.js\"></script>\r\n",
      "<script type=\"text/javascript\" src=\"/js/jtip.js\"></script>\r\n",
      "<script type=\"text/javascript\" src=\"/js/jcookie.js\"></script>\r\n",
      "<script type=\"text/javascript\" src=\"/js/hl7connect.js\"></script>\r\n",
      "<script type=\"text/javascript\" src=\"/js/fhir-gw.js\"></script>\r\n",
      "</head>\r\n",
      "\r\n",
      "<body>\r\n",
      "\r\n",
      "  <div id=\"segment-navbar\" class=\"segment\">  <!-- segment-breadcrumb -->\r\n",
      "    <div id=\"stripe\"> </div>\r\n",
      "    <div class=\"container\">  <!-- container -->\r\n",
      "    <div style=\"background-color: #ad1f2f; padding: 6px; color: white;\">  <!-- container -->\r\n",
      "  <a href=\"http://www.hl7.org/fhir\" style=\"color: gold\" title=\"Fast Healthcare Interoperability Resources - Home Page\"><img border=\"0\" src=\"/icon-fhir-16.png\" style=\"vertical-align: text-bottom\"/> <b>FHIR</b></a>\r\n",
      "\r\n",
      "  &copy; HL7.org\r\n",
      "  &nbsp;|&nbsp;\r\n",
      "  <a href=\"/\" style=\"color: gold\">Server Home</a>   &nbsp;|&nbsp;\r\n",
      "  <a href=\"http://www.healthintersections.com.au\" style=\"color: gold\">Health Intersections</a> FHIR Server v1.9.378\r\n",
      "  &nbsp;|&nbsp;\r\n",
      "  <a href=\"http://hl7.org/fhir/R4\" style=\"color: gold\">FHIR Version 4.0.1</a>\r\n",
      "&nbsp;|&nbsp;User: Registered User (Unknown)  &nbsp;\r\n",
      "    </div>  <!-- /container -->\r\n",
      "    </div>  <!-- /container -->\r\n",
      "</div>\r\n",
      "\r\n",
      "  <!-- /segment-breadcrumb -->\r\n",
      "\r\n",
      "  <div id=\"segment-content\" class=\"segment\">  <!-- segment-content -->\r\n",
      "  <div class=\"container\">  <!-- container -->\r\n",
      "            <div class=\"row\">\r\n",
      "              <div class=\"inner-wrapper\">\r\n",
      " <div id=\"div-cnt\" class=\"col-9\">\r\n",
      "\r\n",
      "\r\n",
      "<h2>Results from lookup</h2>\r\n",
      "<hr/>\r\n",
      "<pre class=\"xml\">\r\n",
      "<font color=\"maroon\"><b>{</b></font><br>&nbsp;&nbsp;&quot;<font color=\"Navy\">resourceType</font>&quot; <font color=\"maroon\"><b>:</b></font> &quot;Parameters&quot;,<br>&nbsp;&nbsp;&quot;<font color=\"Navy\">parameter</font>&quot; <font color=\"maroon\"><b>:</b></font> <font color=\"maroon\"><b>[</b></font><br>&nbsp;&nbsp;&nbsp;&nbsp;<font color=\"maroon\"><b>{</b></font><br>&nbsp;&nbsp;&nbsp;&nbsp;&nbsp;&nbsp;&quot;<font color=\"Navy\">name</font>&quot; <font color=\"maroon\"><b>:</b></font> &quot;name&quot;,<br>&nbsp;&nbsp;&nbsp;&nbsp;&nbsp;&nbsp;&quot;<font color=\"Navy\">valueString</font>&quot; <font color=\"maroon\"><b>:</b></font> &quot;UCUM&quot;<br>&nbsp;&nbsp;&nbsp;&nbsp;<font color=\"maroon\"><b>}</b></font>,<br>&nbsp;&nbsp;&nbsp;&nbsp;<font color=\"maroon\"><b>{</b></font><br>&nbsp;&nbsp;&nbsp;&nbsp;&nbsp;&nbsp;&quot;<font color=\"Navy\">name</font>&quot; <font color=\"maroon\"><b>:</b></font> &quot;version&quot;,<br>&nbsp;&nbsp;&nbsp;&nbsp;&nbsp;&nbsp;&quot;<font color=\"Navy\">valueString</font>&quot; <font color=\"maroon\"><b>:</b></font> &quot;2.0.1&quot;<br>&nbsp;&nbsp;&nbsp;&nbsp;<font color=\"maroon\"><b>}</b></font>,<br>&nbsp;&nbsp;&nbsp;&nbsp;<font color=\"maroon\"><b>{</b></font><br>&nbsp;&nbsp;&nbsp;&nbsp;&nbsp;&nbsp;&quot;<font color=\"Navy\">name</font>&quot; <font color=\"maroon\"><b>:</b></font> &quot;display&quot;,<br>&nbsp;&nbsp;&nbsp;&nbsp;&nbsp;&nbsp;&quot;<font color=\"Navy\">valueString</font>&quot; <font color=\"maroon\"><b>:</b></font> &quot;(unity)&quot;<br>&nbsp;&nbsp;&nbsp;&nbsp;<font color=\"maroon\"><b>}</b></font><br>&nbsp;&nbsp;<font color=\"maroon\"><b>]</b></font><br><font color=\"maroon\"><b>}</b></font><br>\r\n",
      "</pre>\r\n",
      "<p><br/></div>\r\n",
      "\r\n",
      "\r\n",
      "        </div>  <!-- /inner-wrapper -->\r\n",
      "            </div>  <!-- /row -->\r\n",
      "        </div>  <!-- /container -->\r\n",
      "    </div>  <!-- /segment-content -->\r\n",
      "\r\n",
      "\r\n",
      "  <div id=\"segment-footer\" class=\"segment\">  <!-- segment-footer -->\r\n",
      "    <div class=\"container\">  <!-- container -->\r\n",
      "      <div class=\"inner-wrapper\">\r\n",
      "        <p>\r\n",
      "        <a href=\"http://tx.fhir.org/r4/\" style=\"color: gold\">Server Home</a>.&nbsp;|&nbsp;FHIR &copy; HL7.org 2011+. &nbsp;|&nbsp; FHIR Version <a href=\"http://hl7.org/fhir/R4\" style=\"color: gold\">4.0.1</a>\r\n",
      "        | Request-id: 140-291642        </span>\r\n",
      "        </p>\r\n",
      "      </div>  <!-- /inner-wrapper -->\r\n",
      "    </div>  <!-- /container -->\r\n",
      "  </div>  <!-- /segment-footer -->\r\n",
      "\r\n",
      "\r\n",
      "  <div id=\"segment-post-footer\" class=\"segment hidden\">  <!-- segment-post-footer -->\r\n",
      "    <div class=\"container\">  <!-- container -->\r\n",
      "    </div>  <!-- /container -->\r\n",
      "  </div>  <!-- /segment-post-footer -->\r\n",
      "\r\n",
      "\r\n",
      "\r\n",
      "\r\n",
      "\r\n",
      "      <!-- JS and analytics only. -->\r\n",
      "      <!-- Bootstrap core JavaScript\r\n",
      "================================================== -->\r\n",
      "  <!-- Placed at the end of the document so the pages load faster -->\r\n",
      "<script src=\"/assets/js/jquery.js\"/>\r\n",
      "<script src=\"/dist/js/bootstrap.min.js\"/>\r\n",
      "<script src=\"/assets/js/respond.min.js\"/>\r\n",
      "\r\n",
      "<script src=\"/assets/js/fhir.js\"/>\r\n",
      "\r\n",
      "  <!-- Analytics Below\r\n",
      "================================================== -->\r\n",
      "\r\n",
      "\r\n",
      "\r\n",
      "</body>\r\n",
      "</html>\r\n",
      "\n"
     ]
    }
   ],
   "source": [
    "r = requests.get('http://tx.fhir.org/r4/CodeSystem/$lookup?system=http://unitsofmeasure.org&code=%25%2F100%7BWBC%7D?_format=JSON')\n",
    "print(r.text)"
   ]
  },
  {
   "cell_type": "code",
   "execution_count": 14,
   "id": "087c053c",
   "metadata": {},
   "outputs": [
    {
     "name": "stdout",
     "output_type": "stream",
     "text": [
      "{\n",
      "    \"resourceType\": \"Parameters\",\n",
      "    \"parameter\": [\n",
      "        {\n",
      "            \"name\": \"name\",\n",
      "            \"valueString\": \"UCUM\"\n",
      "        },\n",
      "        {\n",
      "            \"name\": \"version\",\n",
      "            \"valueString\": \"2.0.1\"\n",
      "        },\n",
      "        {\n",
      "            \"name\": \"display\",\n",
      "            \"valueString\": \"percent\"\n",
      "        }\n",
      "    ]\n",
      "}\n"
     ]
    }
   ],
   "source": [
    "headers = {'Content-Type': 'application/json', 'Accept': 'application/json'}\n",
    "r = requests.post(\"http://tx.fhir.org/r4/CodeSystem/$lookup\", json=myparameters.as_json(), headers=headers)\n",
    "r.headers\n",
    "# help(r)\n",
    "print(json.dumps(r.json(), indent=4))"
   ]
  },
  {
   "cell_type": "code",
   "execution_count": 15,
   "id": "a63b0041",
   "metadata": {},
   "outputs": [
    {
     "name": "stdout",
     "output_type": "stream",
     "text": [
      "{'parameter': [{'name': 'coding', 'valueCoding': {'code': '%', 'system': 'http://unitsofmeasure.org'}}], 'resourceType': 'Parameters'}\n"
     ]
    }
   ],
   "source": [
    "print(myparameters.as_json())"
   ]
  },
  {
   "cell_type": "code",
   "execution_count": 16,
   "id": "fb3c763f",
   "metadata": {},
   "outputs": [
    {
     "name": "stdout",
     "output_type": "stream",
     "text": [
      "{'parameter': [{'name': 'coding', 'valueCoding': {'code': '%', 'system': 'http://unitsofmeasure.org'}}], 'resourceType': 'Parameters'}\n"
     ]
    }
   ],
   "source": [
    "with open('parameters.json', 'r') as h:\n",
    "  pjs = json.load(h)\n",
    "fparameters = par.Parameters(pjs)\n",
    "print(fparameters.as_json())"
   ]
  },
  {
   "cell_type": "code",
   "execution_count": 17,
   "id": "86b13b9c",
   "metadata": {},
   "outputs": [
    {
     "data": {
      "text/plain": [
       "{'Connection': 'keep-alive', 'Content-Type': 'application/fhir+json', 'Content-Length': '180', 'Cache-control': 'public, max-age=600', 'Date': 'Sat, 03 Jul 2021 11:55:57 GMT', 'Pragma': 'no-cache', 'X-Request-Id': '140-291645', 'Access-Control-Allow-Origin': '*', 'Access-Control-Expose-Headers': 'Content-Location, Location', 'Access-Control-Allow-Methods': 'GET, POST, PUT, PATCH, DELETE', 'X-GDPR-Disclosure': 'All access to this server is logged as AuditEvent Resources, and these store your ip address (and logged in user, if one exists). Also, your IP address is logged with Google Analytics for building geomaps of server usage. Your continued use of the API constitutes agreement to these terms. See [link] for erasure requests', 'Last-Modified': 'Sat, 03 Jul 2021 11:55:57 GMT', 'Server': 'Health Intersections FHIR Server'}"
      ]
     },
     "execution_count": 17,
     "metadata": {},
     "output_type": "execute_result"
    }
   ],
   "source": [
    "headers = {'Content-Type': 'application/json', 'Accept': 'application/json'}\n",
    "r = requests.post(\"http://tx.fhir.org/r4/CodeSystem/$lookup\", json=fparameters.as_json(), headers=headers)\n",
    "r.headers\n",
    "# help(r)\n",
    "# print(json.dumps(r.json(), indent=4))"
   ]
  },
  {
   "cell_type": "code",
   "execution_count": 18,
   "id": "b5d35050",
   "metadata": {},
   "outputs": [
    {
     "name": "stdout",
     "output_type": "stream",
     "text": [
      "{\n",
      "    \"resourceType\": \"Parameters\",\n",
      "    \"parameter\": [\n",
      "        {\n",
      "            \"name\": \"name\",\n",
      "            \"valueString\": \"UCUM\"\n",
      "        },\n",
      "        {\n",
      "            \"name\": \"version\",\n",
      "            \"valueString\": \"2.0.1\"\n",
      "        },\n",
      "        {\n",
      "            \"name\": \"display\",\n",
      "            \"valueString\": \"percent\"\n",
      "        }\n",
      "    ]\n",
      "}\n"
     ]
    }
   ],
   "source": [
    "print(json.dumps(r.json(), indent=4))"
   ]
  },
  {
   "cell_type": "code",
   "execution_count": 19,
   "id": "2bddc746",
   "metadata": {},
   "outputs": [
    {
     "data": {
      "text/plain": [
       "'%'"
      ]
     },
     "execution_count": 19,
     "metadata": {},
     "output_type": "execute_result"
    }
   ],
   "source": [
    "myparameters.parameter[0].valueCoding.code"
   ]
  },
  {
   "cell_type": "code",
   "execution_count": 20,
   "id": "55efb008",
   "metadata": {},
   "outputs": [],
   "source": [
    "myparameters.parameter[0].valueCoding.code = \"%\""
   ]
  },
  {
   "cell_type": "code",
   "execution_count": 21,
   "id": "06e5d663",
   "metadata": {},
   "outputs": [
    {
     "data": {
      "text/plain": [
       "'%'"
      ]
     },
     "execution_count": 21,
     "metadata": {},
     "output_type": "execute_result"
    }
   ],
   "source": [
    "myparameters.parameter[0].valueCoding.code"
   ]
  },
  {
   "cell_type": "code",
   "execution_count": 22,
   "id": "7d5cd01c",
   "metadata": {},
   "outputs": [
    {
     "name": "stdout",
     "output_type": "stream",
     "text": [
      "{\n",
      "    \"resourceType\": \"Parameters\",\n",
      "    \"parameter\": [\n",
      "        {\n",
      "            \"name\": \"name\",\n",
      "            \"valueString\": \"UCUM\"\n",
      "        },\n",
      "        {\n",
      "            \"name\": \"version\",\n",
      "            \"valueString\": \"2.0.1\"\n",
      "        },\n",
      "        {\n",
      "            \"name\": \"display\",\n",
      "            \"valueString\": \"percent\"\n",
      "        }\n",
      "    ]\n",
      "}\n"
     ]
    }
   ],
   "source": [
    "headers = {'Content-Type': 'application/json', 'Accept': 'application/json'}\n",
    "r = requests.post(\"http://tx.fhir.org/r4/CodeSystem/$lookup\", json=myparameters.as_json(), headers=headers)\n",
    "r.headers\n",
    "# help(r)\n",
    "print(json.dumps(r.json(), indent=4))"
   ]
  },
  {
   "cell_type": "code",
   "execution_count": 23,
   "id": "59511907",
   "metadata": {},
   "outputs": [
    {
     "data": {
      "text/plain": [
       "'http://tx.fhir.org/r4/CodeSystem/$lookup'"
      ]
     },
     "execution_count": 23,
     "metadata": {},
     "output_type": "execute_result"
    }
   ],
   "source": [
    "r.url"
   ]
  },
  {
   "cell_type": "code",
   "execution_count": 24,
   "id": "5c3af76b",
   "metadata": {},
   "outputs": [
    {
     "data": {
      "text/plain": [
       "200"
      ]
     },
     "execution_count": 24,
     "metadata": {},
     "output_type": "execute_result"
    }
   ],
   "source": [
    "r.status_code"
   ]
  },
  {
   "cell_type": "code",
   "execution_count": 25,
   "id": "77158f1b",
   "metadata": {},
   "outputs": [
    {
     "name": "stdout",
     "output_type": "stream",
     "text": [
      "{'resourceType': 'Parameters', 'parameter': [{'name': 'name', 'valueString': 'UCUM'}, {'name': 'version', 'valueString': '2.0.1'}, {'name': 'display', 'valueString': 'percent'}]}\n"
     ]
    }
   ],
   "source": [
    "if r.status_code == 200:\n",
    "    print(r.json())"
   ]
  },
  {
   "cell_type": "code",
   "execution_count": 26,
   "id": "ab508988",
   "metadata": {},
   "outputs": [
    {
     "data": {
      "text/plain": [
       "'Parameters'"
      ]
     },
     "execution_count": 26,
     "metadata": {},
     "output_type": "execute_result"
    }
   ],
   "source": [
    "x = r.json()\n",
    "x[\"resourceType\"]"
   ]
  },
  {
   "cell_type": "code",
   "execution_count": 29,
   "id": "e5834f41",
   "metadata": {},
   "outputs": [
    {
     "name": "stdout",
     "output_type": "stream",
     "text": [
      "('resourceType', 'Parameters')\n",
      "('parameter', [{'name': 'name', 'valueString': 'UCUM'}, {'name': 'version', 'valueString': '2.0.1'}, {'name': 'display', 'valueString': 'percent'}])\n"
     ]
    }
   ],
   "source": [
    "for i in x.items():\n",
    "    print(i)"
   ]
  },
  {
   "cell_type": "code",
   "execution_count": 27,
   "id": "a3a67ca2",
   "metadata": {},
   "outputs": [
    {
     "data": {
      "text/plain": [
       "[{'name': 'name', 'valueString': 'UCUM'},\n",
       " {'name': 'version', 'valueString': '2.0.1'},\n",
       " {'name': 'display', 'valueString': 'percent'}]"
      ]
     },
     "execution_count": 27,
     "metadata": {},
     "output_type": "execute_result"
    }
   ],
   "source": [
    "x['parameter']"
   ]
  },
  {
   "cell_type": "code",
   "execution_count": 28,
   "id": "50e8e378",
   "metadata": {},
   "outputs": [
    {
     "name": "stdout",
     "output_type": "stream",
     "text": [
      "percent\n"
     ]
    }
   ],
   "source": [
    "for i in x['parameter']:\n",
    "    if i['name'] == 'display':\n",
    "        print(i['valueString'])"
   ]
  },
  {
   "cell_type": "code",
   "execution_count": 33,
   "id": "1f49efd8",
   "metadata": {},
   "outputs": [
    {
     "name": "stdout",
     "output_type": "stream",
     "text": [
      "percent\n"
     ]
    }
   ],
   "source": [
    "if r.status_code == 200:\n",
    "    for i in r.json()['parameter']:\n",
    "        if i['name'] == 'display':\n",
    "            print(i['valueString'])"
   ]
  },
  {
   "cell_type": "code",
   "execution_count": null,
   "id": "59be831f",
   "metadata": {},
   "outputs": [],
   "source": []
  }
 ],
 "metadata": {
  "kernelspec": {
   "display_name": "Python 3",
   "language": "python",
   "name": "python3"
  },
  "language_info": {
   "codemirror_mode": {
    "name": "ipython",
    "version": 3
   },
   "file_extension": ".py",
   "mimetype": "text/x-python",
   "name": "python",
   "nbconvert_exporter": "python",
   "pygments_lexer": "ipython3",
   "version": "3.9.5"
  }
 },
 "nbformat": 4,
 "nbformat_minor": 5
}
