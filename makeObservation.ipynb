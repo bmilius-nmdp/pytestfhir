{
 "cells": [
  {
   "cell_type": "code",
   "execution_count": 1,
   "id": "26ab5933",
   "metadata": {},
   "outputs": [],
   "source": [
    "import json\n",
    "import fhirclient.r3.models.observation as o\n",
    "observation = o.Observation()"
   ]
  },
  {
   "cell_type": "code",
   "execution_count": 2,
   "id": "07e5582c",
   "metadata": {},
   "outputs": [
    {
     "name": "stdout",
     "output_type": "stream",
     "text": [
      "Help on Observation in module fhirclient.r3.models.observation object:\n",
      "\n",
      "class Observation(fhirclient.r3.models.domainresource.DomainResource)\n",
      " |  Observation(jsondict=None, strict=True)\n",
      " |  \n",
      " |  Measurements and simple assertions.\n",
      " |  \n",
      " |  Measurements and simple assertions made about a patient, device or other\n",
      " |  subject.\n",
      " |  \n",
      " |  Method resolution order:\n",
      " |      Observation\n",
      " |      fhirclient.r3.models.domainresource.DomainResource\n",
      " |      fhirclient.r3.models.resource.Resource\n",
      " |      fhirclient.r3.models.fhirabstractresource.FHIRAbstractResource\n",
      " |      fhirclient.r3.models.fhirabstractbase.FHIRAbstractBase\n",
      " |      builtins.object\n",
      " |  \n",
      " |  Methods defined here:\n",
      " |  \n",
      " |  __init__(self, jsondict=None, strict=True)\n",
      " |      Initialize all valid properties.\n",
      " |      \n",
      " |      :raises: FHIRValidationError on validation errors, unless strict is False\n",
      " |      :param dict jsondict: A JSON dictionary to use for initialization\n",
      " |      :param bool strict: If True (the default), invalid variables will raise a TypeError\n",
      " |  \n",
      " |  elementProperties(self)\n",
      " |      Returns a list of tuples, one tuple for each property that should\n",
      " |      be serialized, as: (\"name\", \"json_name\", type, is_list, \"of_many\", not_optional)\n",
      " |  \n",
      " |  ----------------------------------------------------------------------\n",
      " |  Data and other attributes defined here:\n",
      " |  \n",
      " |  resource_type = 'Observation'\n",
      " |  \n",
      " |  ----------------------------------------------------------------------\n",
      " |  Methods inherited from fhirclient.r3.models.fhirabstractresource.FHIRAbstractResource:\n",
      " |  \n",
      " |  as_json(self)\n",
      " |      Serializes to JSON by inspecting `elementProperties()` and creating\n",
      " |      a JSON dictionary of all registered properties. Checks:\n",
      " |      \n",
      " |      - whether required properties are not None (and lists not empty)\n",
      " |      - whether not-None properties are of the correct type\n",
      " |      \n",
      " |      :raises: FHIRValidationError if properties have the wrong type or if\n",
      " |          required properties are empty\n",
      " |      :returns: A validated dict object that can be JSON serialized\n",
      " |  \n",
      " |  create(self, server)\n",
      " |      Attempt to create the receiver on the given server, using a POST\n",
      " |      command.\n",
      " |      \n",
      " |      :param FHIRServer server: The server to create the receiver on\n",
      " |      :returns: None or the response JSON on success\n",
      " |  \n",
      " |  delete(self, server=None)\n",
      " |      Delete the receiver from the given server with a DELETE command.\n",
      " |      \n",
      " |      :param FHIRServer server: The server to update the receiver on;\n",
      " |          optional, will use the instance's `server` if needed.\n",
      " |      :returns: None or the response JSON on success\n",
      " |  \n",
      " |  process(self, server)\n",
      " |      For processing transaction or batch bundles.\n",
      " |      Attempt to create the receiver on the given server, using a POST\n",
      " |      command.\n",
      " |      \n",
      " |      :param FHIRServer server: The server to create the receiver on\n",
      " |      :returns: None or the response JSON on success\n",
      " |  \n",
      " |  relativeBase(self)\n",
      " |  \n",
      " |  relativePath(self)\n",
      " |  \n",
      " |  search(self, struct=None)\n",
      " |      Search can be started via a dictionary containing a search\n",
      " |      construct.\n",
      " |      \n",
      " |      Calling this method with a search struct will return a `FHIRSearch`\n",
      " |      object representing the search struct, with \"$type\" and \"id\" added.\n",
      " |      \n",
      " |      :param dict struct: An optional search structure\n",
      " |      :returns: A FHIRSearch instance\n",
      " |  \n",
      " |  update(self, server=None)\n",
      " |      Update the receiver's representation on the given server, issuing\n",
      " |      a PUT command.\n",
      " |      \n",
      " |      :param FHIRServer server: The server to update the receiver on;\n",
      " |          optional, will use the instance's `server` if needed.\n",
      " |      :returns: None or the response JSON on success\n",
      " |  \n",
      " |  ----------------------------------------------------------------------\n",
      " |  Class methods inherited from fhirclient.r3.models.fhirabstractresource.FHIRAbstractResource:\n",
      " |  \n",
      " |  read(rem_id, server) from builtins.type\n",
      " |      Read the resource with the given id from the given server. The\n",
      " |      passed-in server instance must support a `request_json()` method call,\n",
      " |      taking a relative path as first (and only mandatory) argument.\n",
      " |      \n",
      " |      :param str rem_id: The id of the resource on the remote server\n",
      " |      :param FHIRServer server: An instance of a FHIR server or compatible class\n",
      " |      :returns: An instance of the receiving class\n",
      " |  \n",
      " |  read_from(path, server) from builtins.type\n",
      " |      Requests data from the given REST path on the server and creates\n",
      " |      an instance of the receiving class.\n",
      " |      \n",
      " |      :param str path: The REST path to read from\n",
      " |      :param FHIRServer server: An instance of a FHIR server or compatible class\n",
      " |      :returns: An instance of the receiving class\n",
      " |  \n",
      " |  where(struct) from builtins.type\n",
      " |      Search can be started via a dictionary containing a search\n",
      " |      construct.\n",
      " |      \n",
      " |      Calling this method with a search struct will return a `FHIRSearch`\n",
      " |      object representing the search struct\n",
      " |      \n",
      " |      :param dict struct: A search structure\n",
      " |      :returns: A FHIRSearch instance\n",
      " |  \n",
      " |  ----------------------------------------------------------------------\n",
      " |  Readonly properties inherited from fhirclient.r3.models.fhirabstractresource.FHIRAbstractResource:\n",
      " |  \n",
      " |  server\n",
      " |      Walks the owner hierarchy until it finds an owner with a server.\n",
      " |  \n",
      " |  ----------------------------------------------------------------------\n",
      " |  Methods inherited from fhirclient.r3.models.fhirabstractbase.FHIRAbstractBase:\n",
      " |  \n",
      " |  didResolveReference(self, refid, resolved)\n",
      " |      Called by `FHIRResource` when it resolves a reference. Stores the\n",
      " |      resolved reference into the `_resolved` dictionary.\n",
      " |      \n",
      " |      :param refid: The id of the resource that was resolved\n",
      " |      :param refid: The resolved resource, ready to be cached\n",
      " |  \n",
      " |  owningBundle(self)\n",
      " |      Walks the owner hierarchy and returns the next parent that is a\n",
      " |      `Bundle` instance.\n",
      " |  \n",
      " |  owningResource(self)\n",
      " |      Walks the owner hierarchy and returns the next parent that is a\n",
      " |      `DomainResource` instance.\n",
      " |  \n",
      " |  resolvedReference(self, refid)\n",
      " |      Returns the resolved reference with the given id, if it has been\n",
      " |      resolved already. If it hasn't, forwards the call to its owner if it\n",
      " |      has one.\n",
      " |      \n",
      " |      You should probably use `resolve()` on the `FHIRReference` itself.\n",
      " |      \n",
      " |      :param refid: The id of the resource to resolve\n",
      " |      :returns: An instance of `Resource`, if it was found\n",
      " |  \n",
      " |  update_with_json(self, jsondict)\n",
      " |      Update the receiver with data in a JSON dictionary.\n",
      " |      \n",
      " |      :raises: FHIRValidationError on validation errors\n",
      " |      :param dict jsondict: The JSON dictionary to use to update the receiver\n",
      " |      :returns: None on success, a list of errors if there were errors\n",
      " |  \n",
      " |  ----------------------------------------------------------------------\n",
      " |  Class methods inherited from fhirclient.r3.models.fhirabstractbase.FHIRAbstractBase:\n",
      " |  \n",
      " |  with_json(jsonobj) from builtins.type\n",
      " |      Initialize an element from a JSON dictionary or array.\n",
      " |      \n",
      " |      If the JSON dictionary has a \"resourceType\" entry and the specified\n",
      " |      resource type is not the receiving classes type, uses\n",
      " |      `FHIRElementFactory` to return a correct class instance.\n",
      " |      \n",
      " |      :raises: TypeError on anything but dict or list of dicts\n",
      " |      :raises: FHIRValidationError if instantiation fails\n",
      " |      :param jsonobj: A dict or list of dicts to instantiate from\n",
      " |      :returns: An instance or a list of instances created from JSON data\n",
      " |  \n",
      " |  with_json_and_owner(jsonobj, owner) from builtins.type\n",
      " |      Instantiates by forwarding to `with_json()`, then remembers the\n",
      " |      \"owner\" of the instantiated elements. The \"owner\" is the resource\n",
      " |      containing the receiver and is used to resolve contained resources.\n",
      " |      \n",
      " |      :raises: TypeError on anything but dict or list of dicts\n",
      " |      :raises: FHIRValidationError if instantiation fails\n",
      " |      :param dict jsonobj: Decoded JSON dictionary (or list thereof)\n",
      " |      :param FHIRElement owner: The owning parent\n",
      " |      :returns: An instance or a list of instances created from JSON data\n",
      " |  \n",
      " |  ----------------------------------------------------------------------\n",
      " |  Data descriptors inherited from fhirclient.r3.models.fhirabstractbase.FHIRAbstractBase:\n",
      " |  \n",
      " |  __dict__\n",
      " |      dictionary for instance variables (if defined)\n",
      " |  \n",
      " |  __weakref__\n",
      " |      list of weak references to the object (if defined)\n",
      "\n"
     ]
    }
   ],
   "source": [
    "help(observation)"
   ]
  },
  {
   "cell_type": "code",
   "execution_count": 3,
   "id": "3cc8dcc7",
   "metadata": {},
   "outputs": [
    {
     "data": {
      "text/plain": [
       "[('id', 'id', str, False, None, False),\n",
       " ('implicitRules', 'implicitRules', str, False, None, False),\n",
       " ('language', 'language', str, False, None, False),\n",
       " ('meta', 'meta', fhirclient.r3.models.meta.Meta, False, None, False),\n",
       " ('contained',\n",
       "  'contained',\n",
       "  fhirclient.r3.models.resource.Resource,\n",
       "  True,\n",
       "  None,\n",
       "  False),\n",
       " ('extension',\n",
       "  'extension',\n",
       "  fhirclient.r3.models.extension.Extension,\n",
       "  True,\n",
       "  None,\n",
       "  False),\n",
       " ('modifierExtension',\n",
       "  'modifierExtension',\n",
       "  fhirclient.r3.models.extension.Extension,\n",
       "  True,\n",
       "  None,\n",
       "  False),\n",
       " ('text',\n",
       "  'text',\n",
       "  fhirclient.r3.models.narrative.Narrative,\n",
       "  False,\n",
       "  None,\n",
       "  False),\n",
       " ('basedOn',\n",
       "  'basedOn',\n",
       "  fhirclient.r3.models.fhirreference.FHIRReference,\n",
       "  True,\n",
       "  None,\n",
       "  False),\n",
       " ('bodySite',\n",
       "  'bodySite',\n",
       "  fhirclient.r3.models.codeableconcept.CodeableConcept,\n",
       "  False,\n",
       "  None,\n",
       "  False),\n",
       " ('category',\n",
       "  'category',\n",
       "  fhirclient.r3.models.codeableconcept.CodeableConcept,\n",
       "  True,\n",
       "  None,\n",
       "  False),\n",
       " ('code',\n",
       "  'code',\n",
       "  fhirclient.r3.models.codeableconcept.CodeableConcept,\n",
       "  False,\n",
       "  None,\n",
       "  True),\n",
       " ('comment', 'comment', str, False, None, False),\n",
       " ('component',\n",
       "  'component',\n",
       "  fhirclient.r3.models.observation.ObservationComponent,\n",
       "  True,\n",
       "  None,\n",
       "  False),\n",
       " ('context',\n",
       "  'context',\n",
       "  fhirclient.r3.models.fhirreference.FHIRReference,\n",
       "  False,\n",
       "  None,\n",
       "  False),\n",
       " ('dataAbsentReason',\n",
       "  'dataAbsentReason',\n",
       "  fhirclient.r3.models.codeableconcept.CodeableConcept,\n",
       "  False,\n",
       "  None,\n",
       "  False),\n",
       " ('device',\n",
       "  'device',\n",
       "  fhirclient.r3.models.fhirreference.FHIRReference,\n",
       "  False,\n",
       "  None,\n",
       "  False),\n",
       " ('effectiveDateTime',\n",
       "  'effectiveDateTime',\n",
       "  fhirclient.r3.models.fhirdate.FHIRDate,\n",
       "  False,\n",
       "  'effective',\n",
       "  False),\n",
       " ('effectivePeriod',\n",
       "  'effectivePeriod',\n",
       "  fhirclient.r3.models.period.Period,\n",
       "  False,\n",
       "  'effective',\n",
       "  False),\n",
       " ('identifier',\n",
       "  'identifier',\n",
       "  fhirclient.r3.models.identifier.Identifier,\n",
       "  True,\n",
       "  None,\n",
       "  False),\n",
       " ('interpretation',\n",
       "  'interpretation',\n",
       "  fhirclient.r3.models.codeableconcept.CodeableConcept,\n",
       "  False,\n",
       "  None,\n",
       "  False),\n",
       " ('issued',\n",
       "  'issued',\n",
       "  fhirclient.r3.models.fhirdate.FHIRDate,\n",
       "  False,\n",
       "  None,\n",
       "  False),\n",
       " ('method',\n",
       "  'method',\n",
       "  fhirclient.r3.models.codeableconcept.CodeableConcept,\n",
       "  False,\n",
       "  None,\n",
       "  False),\n",
       " ('performer',\n",
       "  'performer',\n",
       "  fhirclient.r3.models.fhirreference.FHIRReference,\n",
       "  True,\n",
       "  None,\n",
       "  False),\n",
       " ('referenceRange',\n",
       "  'referenceRange',\n",
       "  fhirclient.r3.models.observation.ObservationReferenceRange,\n",
       "  True,\n",
       "  None,\n",
       "  False),\n",
       " ('related',\n",
       "  'related',\n",
       "  fhirclient.r3.models.observation.ObservationRelated,\n",
       "  True,\n",
       "  None,\n",
       "  False),\n",
       " ('specimen',\n",
       "  'specimen',\n",
       "  fhirclient.r3.models.fhirreference.FHIRReference,\n",
       "  False,\n",
       "  None,\n",
       "  False),\n",
       " ('status', 'status', str, False, None, True),\n",
       " ('subject',\n",
       "  'subject',\n",
       "  fhirclient.r3.models.fhirreference.FHIRReference,\n",
       "  False,\n",
       "  None,\n",
       "  False),\n",
       " ('valueAttachment',\n",
       "  'valueAttachment',\n",
       "  fhirclient.r3.models.attachment.Attachment,\n",
       "  False,\n",
       "  'value',\n",
       "  False),\n",
       " ('valueBoolean', 'valueBoolean', bool, False, 'value', False),\n",
       " ('valueCodeableConcept',\n",
       "  'valueCodeableConcept',\n",
       "  fhirclient.r3.models.codeableconcept.CodeableConcept,\n",
       "  False,\n",
       "  'value',\n",
       "  False),\n",
       " ('valueDateTime',\n",
       "  'valueDateTime',\n",
       "  fhirclient.r3.models.fhirdate.FHIRDate,\n",
       "  False,\n",
       "  'value',\n",
       "  False),\n",
       " ('valuePeriod',\n",
       "  'valuePeriod',\n",
       "  fhirclient.r3.models.period.Period,\n",
       "  False,\n",
       "  'value',\n",
       "  False),\n",
       " ('valueQuantity',\n",
       "  'valueQuantity',\n",
       "  fhirclient.r3.models.quantity.Quantity,\n",
       "  False,\n",
       "  'value',\n",
       "  False),\n",
       " ('valueRange',\n",
       "  'valueRange',\n",
       "  fhirclient.r3.models.range.Range,\n",
       "  False,\n",
       "  'value',\n",
       "  False),\n",
       " ('valueRatio',\n",
       "  'valueRatio',\n",
       "  fhirclient.r3.models.ratio.Ratio,\n",
       "  False,\n",
       "  'value',\n",
       "  False),\n",
       " ('valueSampledData',\n",
       "  'valueSampledData',\n",
       "  fhirclient.r3.models.sampleddata.SampledData,\n",
       "  False,\n",
       "  'value',\n",
       "  False),\n",
       " ('valueString', 'valueString', str, False, 'value', False),\n",
       " ('valueTime',\n",
       "  'valueTime',\n",
       "  fhirclient.r3.models.fhirdate.FHIRDate,\n",
       "  False,\n",
       "  'value',\n",
       "  False)]"
      ]
     },
     "execution_count": 3,
     "metadata": {},
     "output_type": "execute_result"
    }
   ],
   "source": [
    "observation.elementProperties()"
   ]
  },
  {
   "cell_type": "code",
   "execution_count": 4,
   "id": "4bb5c2c6",
   "metadata": {},
   "outputs": [
    {
     "name": "stdout",
     "output_type": "stream",
     "text": [
      "('id', 'id', <class 'str'>, False, None, False)\n",
      "('implicitRules', 'implicitRules', <class 'str'>, False, None, False)\n",
      "('language', 'language', <class 'str'>, False, None, False)\n",
      "('meta', 'meta', <class 'fhirclient.r3.models.meta.Meta'>, False, None, False)\n",
      "('contained', 'contained', <class 'fhirclient.r3.models.resource.Resource'>, True, None, False)\n",
      "('extension', 'extension', <class 'fhirclient.r3.models.extension.Extension'>, True, None, False)\n",
      "('modifierExtension', 'modifierExtension', <class 'fhirclient.r3.models.extension.Extension'>, True, None, False)\n",
      "('text', 'text', <class 'fhirclient.r3.models.narrative.Narrative'>, False, None, False)\n",
      "('basedOn', 'basedOn', <class 'fhirclient.r3.models.fhirreference.FHIRReference'>, True, None, False)\n",
      "('bodySite', 'bodySite', <class 'fhirclient.r3.models.codeableconcept.CodeableConcept'>, False, None, False)\n",
      "('category', 'category', <class 'fhirclient.r3.models.codeableconcept.CodeableConcept'>, True, None, False)\n",
      "('code', 'code', <class 'fhirclient.r3.models.codeableconcept.CodeableConcept'>, False, None, True)\n",
      "('comment', 'comment', <class 'str'>, False, None, False)\n",
      "('component', 'component', <class 'fhirclient.r3.models.observation.ObservationComponent'>, True, None, False)\n",
      "('context', 'context', <class 'fhirclient.r3.models.fhirreference.FHIRReference'>, False, None, False)\n",
      "('dataAbsentReason', 'dataAbsentReason', <class 'fhirclient.r3.models.codeableconcept.CodeableConcept'>, False, None, False)\n",
      "('device', 'device', <class 'fhirclient.r3.models.fhirreference.FHIRReference'>, False, None, False)\n",
      "('effectiveDateTime', 'effectiveDateTime', <class 'fhirclient.r3.models.fhirdate.FHIRDate'>, False, 'effective', False)\n",
      "('effectivePeriod', 'effectivePeriod', <class 'fhirclient.r3.models.period.Period'>, False, 'effective', False)\n",
      "('identifier', 'identifier', <class 'fhirclient.r3.models.identifier.Identifier'>, True, None, False)\n",
      "('interpretation', 'interpretation', <class 'fhirclient.r3.models.codeableconcept.CodeableConcept'>, False, None, False)\n",
      "('issued', 'issued', <class 'fhirclient.r3.models.fhirdate.FHIRDate'>, False, None, False)\n",
      "('method', 'method', <class 'fhirclient.r3.models.codeableconcept.CodeableConcept'>, False, None, False)\n",
      "('performer', 'performer', <class 'fhirclient.r3.models.fhirreference.FHIRReference'>, True, None, False)\n",
      "('referenceRange', 'referenceRange', <class 'fhirclient.r3.models.observation.ObservationReferenceRange'>, True, None, False)\n",
      "('related', 'related', <class 'fhirclient.r3.models.observation.ObservationRelated'>, True, None, False)\n",
      "('specimen', 'specimen', <class 'fhirclient.r3.models.fhirreference.FHIRReference'>, False, None, False)\n",
      "('status', 'status', <class 'str'>, False, None, True)\n",
      "('subject', 'subject', <class 'fhirclient.r3.models.fhirreference.FHIRReference'>, False, None, False)\n",
      "('valueAttachment', 'valueAttachment', <class 'fhirclient.r3.models.attachment.Attachment'>, False, 'value', False)\n",
      "('valueBoolean', 'valueBoolean', <class 'bool'>, False, 'value', False)\n",
      "('valueCodeableConcept', 'valueCodeableConcept', <class 'fhirclient.r3.models.codeableconcept.CodeableConcept'>, False, 'value', False)\n",
      "('valueDateTime', 'valueDateTime', <class 'fhirclient.r3.models.fhirdate.FHIRDate'>, False, 'value', False)\n",
      "('valuePeriod', 'valuePeriod', <class 'fhirclient.r3.models.period.Period'>, False, 'value', False)\n",
      "('valueQuantity', 'valueQuantity', <class 'fhirclient.r3.models.quantity.Quantity'>, False, 'value', False)\n",
      "('valueRange', 'valueRange', <class 'fhirclient.r3.models.range.Range'>, False, 'value', False)\n",
      "('valueRatio', 'valueRatio', <class 'fhirclient.r3.models.ratio.Ratio'>, False, 'value', False)\n",
      "('valueSampledData', 'valueSampledData', <class 'fhirclient.r3.models.sampleddata.SampledData'>, False, 'value', False)\n",
      "('valueString', 'valueString', <class 'str'>, False, 'value', False)\n",
      "('valueTime', 'valueTime', <class 'fhirclient.r3.models.fhirdate.FHIRDate'>, False, 'value', False)\n"
     ]
    }
   ],
   "source": [
    "for eproperty in observation.elementProperties():\n",
    "    print(eproperty)"
   ]
  },
  {
   "cell_type": "code",
   "execution_count": 5,
   "id": "20dc32fe",
   "metadata": {},
   "outputs": [
    {
     "name": "stdout",
     "output_type": "stream",
     "text": [
      "2\n",
      "('code', 'code', <class 'fhirclient.r3.models.codeableconcept.CodeableConcept'>, False, None, True)\n",
      "('status', 'status', <class 'str'>, False, None, True)\n"
     ]
    }
   ],
   "source": [
    "required = []\n",
    "for element in observation.elementProperties():\n",
    "    if element[5] == True:\n",
    "        required.append(element)\n",
    "print(len(required))\n",
    "if len(required) != 0:\n",
    "    for element in required:\n",
    "        print(element)"
   ]
  },
  {
   "cell_type": "code",
   "execution_count": 6,
   "id": "c3e3bc11",
   "metadata": {},
   "outputs": [
    {
     "data": {
      "text/plain": [
       "10"
      ]
     },
     "execution_count": 6,
     "metadata": {},
     "output_type": "execute_result"
    }
   ],
   "source": [
    "moreThanOne = []\n",
    "for element in observation.elementProperties():\n",
    "    if element[3] == True:\n",
    "        moreThanOne.append(element)\n",
    "len(moreThanOne)"
   ]
  },
  {
   "cell_type": "code",
   "execution_count": 7,
   "id": "1eb7b052",
   "metadata": {},
   "outputs": [
    {
     "name": "stdout",
     "output_type": "stream",
     "text": [
      "('contained', 'contained', <class 'fhirclient.r3.models.resource.Resource'>, True, None, False)\n",
      "('extension', 'extension', <class 'fhirclient.r3.models.extension.Extension'>, True, None, False)\n",
      "('modifierExtension', 'modifierExtension', <class 'fhirclient.r3.models.extension.Extension'>, True, None, False)\n",
      "('basedOn', 'basedOn', <class 'fhirclient.r3.models.fhirreference.FHIRReference'>, True, None, False)\n",
      "('category', 'category', <class 'fhirclient.r3.models.codeableconcept.CodeableConcept'>, True, None, False)\n",
      "('component', 'component', <class 'fhirclient.r3.models.observation.ObservationComponent'>, True, None, False)\n",
      "('identifier', 'identifier', <class 'fhirclient.r3.models.identifier.Identifier'>, True, None, False)\n",
      "('performer', 'performer', <class 'fhirclient.r3.models.fhirreference.FHIRReference'>, True, None, False)\n",
      "('referenceRange', 'referenceRange', <class 'fhirclient.r3.models.observation.ObservationReferenceRange'>, True, None, False)\n",
      "('related', 'related', <class 'fhirclient.r3.models.observation.ObservationRelated'>, True, None, False)\n"
     ]
    }
   ],
   "source": [
    "for element in moreThanOne:\n",
    "    print(element)"
   ]
  },
  {
   "cell_type": "code",
   "execution_count": 8,
   "id": "83db5a92",
   "metadata": {},
   "outputs": [],
   "source": [
    "observation.status = \"final\""
   ]
  },
  {
   "cell_type": "code",
   "execution_count": 9,
   "id": "3e8fc083",
   "metadata": {},
   "outputs": [
    {
     "name": "stdout",
     "output_type": "stream",
     "text": [
      "('extension', 'extension', <class 'fhirclient.r3.models.extension.Extension'>, True, None, False)\n",
      "('id', 'id', <class 'str'>, False, None, False)\n",
      "('coding', 'coding', <class 'fhirclient.r3.models.coding.Coding'>, True, None, False)\n",
      "('text', 'text', <class 'str'>, False, None, False)\n"
     ]
    }
   ],
   "source": [
    "import fhirclient.r3.models.codeableconcept as cc\n",
    "code = cc.CodeableConcept()\n",
    "for element in code.elementProperties():\n",
    "    print(element)"
   ]
  },
  {
   "cell_type": "code",
   "execution_count": 10,
   "id": "a019b7d7",
   "metadata": {},
   "outputs": [
    {
     "name": "stdout",
     "output_type": "stream",
     "text": [
      "('extension', 'extension', <class 'fhirclient.r3.models.extension.Extension'>, True, None, False)\n",
      "('id', 'id', <class 'str'>, False, None, False)\n",
      "('code', 'code', <class 'str'>, False, None, False)\n",
      "('display', 'display', <class 'str'>, False, None, False)\n",
      "('system', 'system', <class 'str'>, False, None, False)\n",
      "('userSelected', 'userSelected', <class 'bool'>, False, None, False)\n",
      "('version', 'version', <class 'str'>, False, None, False)\n"
     ]
    }
   ],
   "source": [
    "import fhirclient.r3.models.coding as c\n",
    "codecode = c.Coding()\n",
    "for element in codecode.elementProperties():\n",
    "    print(element)"
   ]
  },
  {
   "cell_type": "code",
   "execution_count": 11,
   "id": "22a109fd",
   "metadata": {},
   "outputs": [
    {
     "name": "stdout",
     "output_type": "stream",
     "text": [
      "{\n",
      "    \"code\": \"1751-7\",\n",
      "    \"display\": \"Albumin [Mass/volume] in Serum or Plasma\",\n",
      "    \"system\": \"http://loinc.org\"\n",
      "}\n"
     ]
    }
   ],
   "source": [
    "codecode.system = 'http://loinc.org'\n",
    "codecode.code = '1751-7'\n",
    "codecode.display = 'Albumin [Mass/volume] in Serum or Plasma'\n",
    "print(json.dumps(codecode.as_json(), indent=4))"
   ]
  },
  {
   "cell_type": "code",
   "execution_count": 12,
   "id": "8d0ccd19",
   "metadata": {},
   "outputs": [
    {
     "name": "stdout",
     "output_type": "stream",
     "text": [
      "{}\n"
     ]
    }
   ],
   "source": [
    "print(json.dumps(code.as_json(), indent=4))"
   ]
  },
  {
   "cell_type": "code",
   "execution_count": 13,
   "id": "34e37419",
   "metadata": {},
   "outputs": [],
   "source": [
    "code.text = \"Albumin [Mass/volume] in Serum or Plasma\""
   ]
  },
  {
   "cell_type": "code",
   "execution_count": 14,
   "id": "a3eeb03c",
   "metadata": {},
   "outputs": [
    {
     "name": "stdout",
     "output_type": "stream",
     "text": [
      "{\n",
      "    \"text\": \"Albumin [Mass/volume] in Serum or Plasma\"\n",
      "}\n"
     ]
    }
   ],
   "source": [
    "print(json.dumps(code.as_json(), indent=4))"
   ]
  },
  {
   "cell_type": "code",
   "execution_count": 15,
   "id": "336a8e3e",
   "metadata": {},
   "outputs": [],
   "source": [
    "code.coding = [codecode]"
   ]
  },
  {
   "cell_type": "code",
   "execution_count": 16,
   "id": "57be075c",
   "metadata": {},
   "outputs": [
    {
     "name": "stdout",
     "output_type": "stream",
     "text": [
      "{\n",
      "    \"coding\": [\n",
      "        {\n",
      "            \"code\": \"1751-7\",\n",
      "            \"display\": \"Albumin [Mass/volume] in Serum or Plasma\",\n",
      "            \"system\": \"http://loinc.org\"\n",
      "        }\n",
      "    ],\n",
      "    \"text\": \"Albumin [Mass/volume] in Serum or Plasma\"\n",
      "}\n"
     ]
    }
   ],
   "source": [
    "print(json.dumps(code.as_json(), indent=4))"
   ]
  },
  {
   "cell_type": "code",
   "execution_count": 17,
   "id": "209e26c7",
   "metadata": {},
   "outputs": [],
   "source": [
    "observation.code = code"
   ]
  },
  {
   "cell_type": "code",
   "execution_count": 18,
   "id": "98f69312",
   "metadata": {},
   "outputs": [
    {
     "name": "stdout",
     "output_type": "stream",
     "text": [
      "{\n",
      "    \"code\": {\n",
      "        \"coding\": [\n",
      "            {\n",
      "                \"code\": \"1751-7\",\n",
      "                \"display\": \"Albumin [Mass/volume] in Serum or Plasma\",\n",
      "                \"system\": \"http://loinc.org\"\n",
      "            }\n",
      "        ],\n",
      "        \"text\": \"Albumin [Mass/volume] in Serum or Plasma\"\n",
      "    },\n",
      "    \"status\": \"final\",\n",
      "    \"resourceType\": \"Observation\"\n",
      "}\n"
     ]
    }
   ],
   "source": [
    "print(json.dumps(observation.as_json(), indent=4))"
   ]
  },
  {
   "cell_type": "code",
   "execution_count": 19,
   "id": "c08098d5",
   "metadata": {},
   "outputs": [
    {
     "name": "stdout",
     "output_type": "stream",
     "text": [
      "{\n",
      "    \"coding\": [\n",
      "        {\n",
      "            \"code\": \"laboratory\",\n",
      "            \"display\": \"Laboratory\",\n",
      "            \"system\": \"http://loinc.org\"\n",
      "        }\n",
      "    ]\n",
      "}\n"
     ]
    }
   ],
   "source": [
    "category = cc.CodeableConcept()\n",
    "categorycoding = c.Coding()\n",
    "categorycoding.system = \"http://loinc.org\"\n",
    "categorycoding.code = \"laboratory\"\n",
    "categorycoding.display = \"Laboratory\"\n",
    "category.coding = [categorycoding]\n",
    "print(json.dumps(category.as_json(), indent=4))"
   ]
  },
  {
   "cell_type": "code",
   "execution_count": 20,
   "id": "7902e556",
   "metadata": {},
   "outputs": [
    {
     "name": "stdout",
     "output_type": "stream",
     "text": [
      "{\n",
      "    \"category\": [\n",
      "        {\n",
      "            \"coding\": [\n",
      "                {\n",
      "                    \"code\": \"laboratory\",\n",
      "                    \"display\": \"Laboratory\",\n",
      "                    \"system\": \"http://loinc.org\"\n",
      "                }\n",
      "            ]\n",
      "        }\n",
      "    ],\n",
      "    \"code\": {\n",
      "        \"coding\": [\n",
      "            {\n",
      "                \"code\": \"1751-7\",\n",
      "                \"display\": \"Albumin [Mass/volume] in Serum or Plasma\",\n",
      "                \"system\": \"http://loinc.org\"\n",
      "            }\n",
      "        ],\n",
      "        \"text\": \"Albumin [Mass/volume] in Serum or Plasma\"\n",
      "    },\n",
      "    \"status\": \"final\",\n",
      "    \"resourceType\": \"Observation\"\n",
      "}\n"
     ]
    }
   ],
   "source": [
    "observation.category = [category]\n",
    "print(json.dumps(observation.as_json(), indent=4))"
   ]
  },
  {
   "cell_type": "code",
   "execution_count": 21,
   "id": "4318302a",
   "metadata": {},
   "outputs": [
    {
     "name": "stdout",
     "output_type": "stream",
     "text": [
      "Help on FHIRDate in module fhirclient.r3.models.fhirdate object:\n",
      "\n",
      "class FHIRDate(builtins.object)\n",
      " |  FHIRDate(jsonval=None)\n",
      " |  \n",
      " |  Facilitate working with dates.\n",
      " |  \n",
      " |  - `date`: datetime object representing the receiver's date-time\n",
      " |  \n",
      " |  Methods defined here:\n",
      " |  \n",
      " |  __init__(self, jsonval=None)\n",
      " |      Initialize self.  See help(type(self)) for accurate signature.\n",
      " |  \n",
      " |  __setattr__(self, prop, value)\n",
      " |      Implement setattr(self, name, value).\n",
      " |  \n",
      " |  as_json(self)\n",
      " |  \n",
      " |  ----------------------------------------------------------------------\n",
      " |  Class methods defined here:\n",
      " |  \n",
      " |  with_json(jsonobj) from builtins.type\n",
      " |      Initialize a date from an ISO date string.\n",
      " |  \n",
      " |  with_json_and_owner(jsonobj, owner) from builtins.type\n",
      " |      Added for compatibility reasons to FHIRElement; \"owner\" is\n",
      " |      discarded.\n",
      " |  \n",
      " |  ----------------------------------------------------------------------\n",
      " |  Readonly properties defined here:\n",
      " |  \n",
      " |  isostring\n",
      " |  \n",
      " |  ----------------------------------------------------------------------\n",
      " |  Data descriptors defined here:\n",
      " |  \n",
      " |  __dict__\n",
      " |      dictionary for instance variables (if defined)\n",
      " |  \n",
      " |  __weakref__\n",
      " |      list of weak references to the object (if defined)\n",
      "\n"
     ]
    }
   ],
   "source": [
    "import fhirclient.r3.models.fhirdate as dt\n",
    "effectiveDateTime = dt.FHIRDate()\n",
    "help(effectiveDateTime)"
   ]
  },
  {
   "cell_type": "code",
   "execution_count": 22,
   "id": "e6dd8832",
   "metadata": {},
   "outputs": [
    {
     "data": {
      "text/plain": [
       "{'origval': None, 'date': None}"
      ]
     },
     "execution_count": 22,
     "metadata": {},
     "output_type": "execute_result"
    }
   ],
   "source": [
    "effectiveDateTime.__dict__"
   ]
  },
  {
   "cell_type": "code",
   "execution_count": 23,
   "id": "8b745e46",
   "metadata": {},
   "outputs": [],
   "source": [
    "from datetime import datetime\n",
    "# '2011-11-04T00:05:23+04:00'\n",
    "# '2020-07-21T14:17:00Z'\n",
    "effectiveDateTime.date = datetime.fromisoformat('2011-11-04T00:05:23+00:00')"
   ]
  },
  {
   "cell_type": "code",
   "execution_count": 24,
   "id": "9b7ab918",
   "metadata": {},
   "outputs": [
    {
     "name": "stdout",
     "output_type": "stream",
     "text": [
      "2011-11-04T00:05:23+00:00\n"
     ]
    }
   ],
   "source": [
    "print(effectiveDateTime.as_json())"
   ]
  },
  {
   "cell_type": "code",
   "execution_count": 25,
   "id": "a551d9fe",
   "metadata": {},
   "outputs": [],
   "source": [
    "observation.effectiveDateTime = effectiveDateTime"
   ]
  },
  {
   "cell_type": "code",
   "execution_count": 26,
   "id": "b6760621",
   "metadata": {},
   "outputs": [
    {
     "name": "stdout",
     "output_type": "stream",
     "text": [
      "{\n",
      "    \"category\": [\n",
      "        {\n",
      "            \"coding\": [\n",
      "                {\n",
      "                    \"code\": \"laboratory\",\n",
      "                    \"display\": \"Laboratory\",\n",
      "                    \"system\": \"http://loinc.org\"\n",
      "                }\n",
      "            ]\n",
      "        }\n",
      "    ],\n",
      "    \"code\": {\n",
      "        \"coding\": [\n",
      "            {\n",
      "                \"code\": \"1751-7\",\n",
      "                \"display\": \"Albumin [Mass/volume] in Serum or Plasma\",\n",
      "                \"system\": \"http://loinc.org\"\n",
      "            }\n",
      "        ],\n",
      "        \"text\": \"Albumin [Mass/volume] in Serum or Plasma\"\n",
      "    },\n",
      "    \"effectiveDateTime\": \"2011-11-04T00:05:23+00:00\",\n",
      "    \"status\": \"final\",\n",
      "    \"resourceType\": \"Observation\"\n",
      "}\n"
     ]
    }
   ],
   "source": [
    "print(json.dumps(observation.as_json(), indent=4))"
   ]
  },
  {
   "cell_type": "code",
   "execution_count": 27,
   "id": "3c3fb3f3",
   "metadata": {},
   "outputs": [
    {
     "name": "stdout",
     "output_type": "stream",
     "text": [
      "Help on Quantity in module fhirclient.r3.models.quantity object:\n",
      "\n",
      "class Quantity(fhirclient.r3.models.element.Element)\n",
      " |  Quantity(jsondict=None, strict=True)\n",
      " |  \n",
      " |  A measured or measurable amount.\n",
      " |  \n",
      " |  A measured amount (or an amount that can potentially be measured). Note\n",
      " |  that measured amounts include amounts that are not precisely quantified,\n",
      " |  including amounts involving arbitrary units and floating currencies.\n",
      " |  \n",
      " |  Method resolution order:\n",
      " |      Quantity\n",
      " |      fhirclient.r3.models.element.Element\n",
      " |      fhirclient.r3.models.fhirabstractbase.FHIRAbstractBase\n",
      " |      builtins.object\n",
      " |  \n",
      " |  Methods defined here:\n",
      " |  \n",
      " |  __init__(self, jsondict=None, strict=True)\n",
      " |      Initialize all valid properties.\n",
      " |      \n",
      " |      :raises: FHIRValidationError on validation errors, unless strict is False\n",
      " |      :param dict jsondict: A JSON dictionary to use for initialization\n",
      " |      :param bool strict: If True (the default), invalid variables will raise a TypeError\n",
      " |  \n",
      " |  elementProperties(self)\n",
      " |      Returns a list of tuples, one tuple for each property that should\n",
      " |      be serialized, as: (\"name\", \"json_name\", type, is_list, \"of_many\", not_optional)\n",
      " |  \n",
      " |  ----------------------------------------------------------------------\n",
      " |  Data and other attributes defined here:\n",
      " |  \n",
      " |  resource_type = 'Quantity'\n",
      " |  \n",
      " |  ----------------------------------------------------------------------\n",
      " |  Methods inherited from fhirclient.r3.models.fhirabstractbase.FHIRAbstractBase:\n",
      " |  \n",
      " |  as_json(self)\n",
      " |      Serializes to JSON by inspecting `elementProperties()` and creating\n",
      " |      a JSON dictionary of all registered properties. Checks:\n",
      " |      \n",
      " |      - whether required properties are not None (and lists not empty)\n",
      " |      - whether not-None properties are of the correct type\n",
      " |      \n",
      " |      :raises: FHIRValidationError if properties have the wrong type or if\n",
      " |          required properties are empty\n",
      " |      :returns: A validated dict object that can be JSON serialized\n",
      " |  \n",
      " |  didResolveReference(self, refid, resolved)\n",
      " |      Called by `FHIRResource` when it resolves a reference. Stores the\n",
      " |      resolved reference into the `_resolved` dictionary.\n",
      " |      \n",
      " |      :param refid: The id of the resource that was resolved\n",
      " |      :param refid: The resolved resource, ready to be cached\n",
      " |  \n",
      " |  owningBundle(self)\n",
      " |      Walks the owner hierarchy and returns the next parent that is a\n",
      " |      `Bundle` instance.\n",
      " |  \n",
      " |  owningResource(self)\n",
      " |      Walks the owner hierarchy and returns the next parent that is a\n",
      " |      `DomainResource` instance.\n",
      " |  \n",
      " |  resolvedReference(self, refid)\n",
      " |      Returns the resolved reference with the given id, if it has been\n",
      " |      resolved already. If it hasn't, forwards the call to its owner if it\n",
      " |      has one.\n",
      " |      \n",
      " |      You should probably use `resolve()` on the `FHIRReference` itself.\n",
      " |      \n",
      " |      :param refid: The id of the resource to resolve\n",
      " |      :returns: An instance of `Resource`, if it was found\n",
      " |  \n",
      " |  update_with_json(self, jsondict)\n",
      " |      Update the receiver with data in a JSON dictionary.\n",
      " |      \n",
      " |      :raises: FHIRValidationError on validation errors\n",
      " |      :param dict jsondict: The JSON dictionary to use to update the receiver\n",
      " |      :returns: None on success, a list of errors if there were errors\n",
      " |  \n",
      " |  ----------------------------------------------------------------------\n",
      " |  Class methods inherited from fhirclient.r3.models.fhirabstractbase.FHIRAbstractBase:\n",
      " |  \n",
      " |  with_json(jsonobj) from builtins.type\n",
      " |      Initialize an element from a JSON dictionary or array.\n",
      " |      \n",
      " |      If the JSON dictionary has a \"resourceType\" entry and the specified\n",
      " |      resource type is not the receiving classes type, uses\n",
      " |      `FHIRElementFactory` to return a correct class instance.\n",
      " |      \n",
      " |      :raises: TypeError on anything but dict or list of dicts\n",
      " |      :raises: FHIRValidationError if instantiation fails\n",
      " |      :param jsonobj: A dict or list of dicts to instantiate from\n",
      " |      :returns: An instance or a list of instances created from JSON data\n",
      " |  \n",
      " |  with_json_and_owner(jsonobj, owner) from builtins.type\n",
      " |      Instantiates by forwarding to `with_json()`, then remembers the\n",
      " |      \"owner\" of the instantiated elements. The \"owner\" is the resource\n",
      " |      containing the receiver and is used to resolve contained resources.\n",
      " |      \n",
      " |      :raises: TypeError on anything but dict or list of dicts\n",
      " |      :raises: FHIRValidationError if instantiation fails\n",
      " |      :param dict jsonobj: Decoded JSON dictionary (or list thereof)\n",
      " |      :param FHIRElement owner: The owning parent\n",
      " |      :returns: An instance or a list of instances created from JSON data\n",
      " |  \n",
      " |  ----------------------------------------------------------------------\n",
      " |  Data descriptors inherited from fhirclient.r3.models.fhirabstractbase.FHIRAbstractBase:\n",
      " |  \n",
      " |  __dict__\n",
      " |      dictionary for instance variables (if defined)\n",
      " |  \n",
      " |  __weakref__\n",
      " |      list of weak references to the object (if defined)\n",
      "\n"
     ]
    }
   ],
   "source": [
    "import fhirclient.r3.models.quantity as q\n",
    "valuequantity = q.Quantity()\n",
    "help(valuequantity)"
   ]
  },
  {
   "cell_type": "code",
   "execution_count": 28,
   "id": "aed85ce1",
   "metadata": {},
   "outputs": [
    {
     "name": "stdout",
     "output_type": "stream",
     "text": [
      "('extension', 'extension', <class 'fhirclient.r3.models.extension.Extension'>, True, None, False)\n",
      "('id', 'id', <class 'str'>, False, None, False)\n",
      "('code', 'code', <class 'str'>, False, None, False)\n",
      "('comparator', 'comparator', <class 'str'>, False, None, False)\n",
      "('system', 'system', <class 'str'>, False, None, False)\n",
      "('unit', 'unit', <class 'str'>, False, None, False)\n",
      "('value', 'value', <class 'float'>, False, None, False)\n"
     ]
    }
   ],
   "source": [
    "for element in valuequantity.elementProperties():\n",
    "    print(element)"
   ]
  },
  {
   "cell_type": "code",
   "execution_count": 29,
   "id": "e799f746",
   "metadata": {},
   "outputs": [],
   "source": [
    "valuequantity.value = 5\n",
    "valuequantity.unit = \"gram per deciliter\"\n",
    "valuequantity.system = \"http://unitsofmeasure.org\"\n",
    "valuequantity.code = \"g/dL\""
   ]
  },
  {
   "cell_type": "code",
   "execution_count": 30,
   "id": "342d40fe",
   "metadata": {},
   "outputs": [
    {
     "name": "stdout",
     "output_type": "stream",
     "text": [
      "{\n",
      "    \"code\": \"g/dL\",\n",
      "    \"system\": \"http://unitsofmeasure.org\",\n",
      "    \"unit\": \"gram per deciliter\",\n",
      "    \"value\": 5\n",
      "}\n"
     ]
    }
   ],
   "source": [
    "print(json.dumps(valuequantity.as_json(), indent=4))"
   ]
  },
  {
   "cell_type": "code",
   "execution_count": 31,
   "id": "45bf28d1",
   "metadata": {},
   "outputs": [],
   "source": [
    "observation.valueQuantity = valuequantity"
   ]
  },
  {
   "cell_type": "code",
   "execution_count": 32,
   "id": "8ffd19a9",
   "metadata": {},
   "outputs": [
    {
     "name": "stdout",
     "output_type": "stream",
     "text": [
      "{\n",
      "    \"category\": [\n",
      "        {\n",
      "            \"coding\": [\n",
      "                {\n",
      "                    \"code\": \"laboratory\",\n",
      "                    \"display\": \"Laboratory\",\n",
      "                    \"system\": \"http://loinc.org\"\n",
      "                }\n",
      "            ]\n",
      "        }\n",
      "    ],\n",
      "    \"code\": {\n",
      "        \"coding\": [\n",
      "            {\n",
      "                \"code\": \"1751-7\",\n",
      "                \"display\": \"Albumin [Mass/volume] in Serum or Plasma\",\n",
      "                \"system\": \"http://loinc.org\"\n",
      "            }\n",
      "        ],\n",
      "        \"text\": \"Albumin [Mass/volume] in Serum or Plasma\"\n",
      "    },\n",
      "    \"effectiveDateTime\": \"2011-11-04T00:05:23+00:00\",\n",
      "    \"status\": \"final\",\n",
      "    \"valueQuantity\": {\n",
      "        \"code\": \"g/dL\",\n",
      "        \"system\": \"http://unitsofmeasure.org\",\n",
      "        \"unit\": \"gram per deciliter\",\n",
      "        \"value\": 5\n",
      "    },\n",
      "    \"resourceType\": \"Observation\"\n",
      "}\n"
     ]
    }
   ],
   "source": [
    "print(json.dumps(observation.as_json(), indent=4))"
   ]
  },
  {
   "cell_type": "code",
   "execution_count": 33,
   "id": "2407bfb2",
   "metadata": {},
   "outputs": [],
   "source": [
    "import fhirclient.r3.models.fhirreference as fr\n",
    "subject = fr.FHIRReference()\n",
    "subject.reference = 'Patient/3004'\n",
    "observation.subject = subject"
   ]
  },
  {
   "cell_type": "code",
   "execution_count": 34,
   "id": "9ed7485d",
   "metadata": {},
   "outputs": [
    {
     "name": "stdout",
     "output_type": "stream",
     "text": [
      "{\n",
      "    \"category\": [\n",
      "        {\n",
      "            \"coding\": [\n",
      "                {\n",
      "                    \"code\": \"laboratory\",\n",
      "                    \"display\": \"Laboratory\",\n",
      "                    \"system\": \"http://loinc.org\"\n",
      "                }\n",
      "            ]\n",
      "        }\n",
      "    ],\n",
      "    \"code\": {\n",
      "        \"coding\": [\n",
      "            {\n",
      "                \"code\": \"1751-7\",\n",
      "                \"display\": \"Albumin [Mass/volume] in Serum or Plasma\",\n",
      "                \"system\": \"http://loinc.org\"\n",
      "            }\n",
      "        ],\n",
      "        \"text\": \"Albumin [Mass/volume] in Serum or Plasma\"\n",
      "    },\n",
      "    \"effectiveDateTime\": \"2011-11-04T00:05:23+00:00\",\n",
      "    \"status\": \"final\",\n",
      "    \"subject\": {\n",
      "        \"reference\": \"Patient/3004\"\n",
      "    },\n",
      "    \"valueQuantity\": {\n",
      "        \"code\": \"g/dL\",\n",
      "        \"system\": \"http://unitsofmeasure.org\",\n",
      "        \"unit\": \"gram per deciliter\",\n",
      "        \"value\": 5\n",
      "    },\n",
      "    \"resourceType\": \"Observation\"\n",
      "}\n"
     ]
    }
   ],
   "source": [
    "print(json.dumps(observation.as_json(), indent=4))"
   ]
  },
  {
   "cell_type": "code",
   "execution_count": 35,
   "id": "5ec912c5",
   "metadata": {},
   "outputs": [],
   "source": [
    "from random import random, randrange"
   ]
  },
  {
   "cell_type": "code",
   "execution_count": 36,
   "id": "c309aab5",
   "metadata": {},
   "outputs": [
    {
     "data": {
      "text/plain": [
       "0.2685914140172856"
      ]
     },
     "execution_count": 36,
     "metadata": {},
     "output_type": "execute_result"
    }
   ],
   "source": [
    "random()"
   ]
  },
  {
   "cell_type": "code",
   "execution_count": 37,
   "id": "657250a6",
   "metadata": {},
   "outputs": [
    {
     "data": {
      "text/plain": [
       "5"
      ]
     },
     "execution_count": 37,
     "metadata": {},
     "output_type": "execute_result"
    }
   ],
   "source": [
    "randrange(1, 10)"
   ]
  },
  {
   "cell_type": "code",
   "execution_count": null,
   "id": "12d3ea61",
   "metadata": {},
   "outputs": [],
   "source": []
  }
 ],
 "metadata": {
  "kernelspec": {
   "display_name": "Python 3",
   "language": "python",
   "name": "python3"
  },
  "language_info": {
   "codemirror_mode": {
    "name": "ipython",
    "version": 3
   },
   "file_extension": ".py",
   "mimetype": "text/x-python",
   "name": "python",
   "nbconvert_exporter": "python",
   "pygments_lexer": "ipython3",
   "version": "3.9.5"
  }
 },
 "nbformat": 4,
 "nbformat_minor": 5
}
