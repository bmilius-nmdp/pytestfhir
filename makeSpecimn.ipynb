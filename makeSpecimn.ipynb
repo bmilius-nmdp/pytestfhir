{
 "cells": [
  {
   "cell_type": "markdown",
   "metadata": {},
   "source": [
    "import packages we need..."
   ]
  },
  {
   "cell_type": "code",
   "execution_count": 1,
   "metadata": {},
   "outputs": [],
   "source": [
    "import json\n",
    "from fhirclient import client\n",
    "import fhirclient.models.specimen as s\n",
    "import fhirclient.models.patient as p\n",
    "import fhirclient.models.fhirreference as fr\n",
    "import fhirclient.models.codeableconcept as cc\n",
    "import fhirclient.models.coding as co"
   ]
  },
  {
   "cell_type": "markdown",
   "metadata": {},
   "source": [
    "Create a Specimen object and take a look at its `.elementProperties()`."
   ]
  },
  {
   "cell_type": "code",
   "execution_count": 2,
   "metadata": {},
   "outputs": [
    {
     "name": "stdout",
     "output_type": "stream",
     "text": [
      "('id', 'id', <class 'str'>, False, None, False)\n",
      "('implicitRules', 'implicitRules', <class 'str'>, False, None, False)\n",
      "('language', 'language', <class 'str'>, False, None, False)\n",
      "('meta', 'meta', <class 'fhirclient.models.meta.Meta'>, False, None, False)\n",
      "('contained', 'contained', <class 'fhirclient.models.resource.Resource'>, True, None, False)\n",
      "('extension', 'extension', <class 'fhirclient.models.extension.Extension'>, True, None, False)\n",
      "('modifierExtension', 'modifierExtension', <class 'fhirclient.models.extension.Extension'>, True, None, False)\n",
      "('text', 'text', <class 'fhirclient.models.narrative.Narrative'>, False, None, False)\n",
      "('accessionIdentifier', 'accessionIdentifier', <class 'fhirclient.models.identifier.Identifier'>, False, None, False)\n",
      "('collection', 'collection', <class 'fhirclient.models.specimen.SpecimenCollection'>, False, None, False)\n",
      "('container', 'container', <class 'fhirclient.models.specimen.SpecimenContainer'>, True, None, False)\n",
      "('identifier', 'identifier', <class 'fhirclient.models.identifier.Identifier'>, True, None, False)\n",
      "('note', 'note', <class 'fhirclient.models.annotation.Annotation'>, True, None, False)\n",
      "('parent', 'parent', <class 'fhirclient.models.fhirreference.FHIRReference'>, True, None, False)\n",
      "('processing', 'processing', <class 'fhirclient.models.specimen.SpecimenProcessing'>, True, None, False)\n",
      "('receivedTime', 'receivedTime', <class 'fhirclient.models.fhirdate.FHIRDate'>, False, None, False)\n",
      "('request', 'request', <class 'fhirclient.models.fhirreference.FHIRReference'>, True, None, False)\n",
      "('status', 'status', <class 'str'>, False, None, False)\n",
      "('subject', 'subject', <class 'fhirclient.models.fhirreference.FHIRReference'>, False, None, True)\n",
      "('type', 'type', <class 'fhirclient.models.codeableconcept.CodeableConcept'>, False, None, False)\n"
     ]
    }
   ],
   "source": [
    "mySpecimen = s.Specimen()\n",
    "for eproperty in mySpecimen.elementProperties():\n",
    "    print(eproperty)"
   ]
  },
  {
   "cell_type": "markdown",
   "metadata": {},
   "source": [
    "Which, if any, are required?"
   ]
  },
  {
   "cell_type": "code",
   "execution_count": 3,
   "metadata": {},
   "outputs": [
    {
     "name": "stdout",
     "output_type": "stream",
     "text": [
      "('subject', 'subject', <class 'fhirclient.models.fhirreference.FHIRReference'>, False, None, True)\n"
     ]
    }
   ],
   "source": [
    "for eproperty in mySpecimen.elementProperties():\n",
    "    if eproperty[5] == True:\n",
    "        print(eproperty)"
   ]
  },
  {
   "cell_type": "markdown",
   "metadata": {},
   "source": [
    "We'll use the id of the Patient that was posted to the same server.\n",
    "We see from `.elementProperties()` that myspecimen.subject is a type of `fhirclient.models.fhirreference.FHIRReference`, so we'll build this."
   ]
  },
  {
   "cell_type": "code",
   "execution_count": 4,
   "metadata": {},
   "outputs": [
    {
     "name": "stdout",
     "output_type": "stream",
     "text": [
      "('extension', 'extension', <class 'fhirclient.models.extension.Extension'>, True, None, False)\n",
      "('id', 'id', <class 'str'>, False, None, False)\n",
      "('display', 'display', <class 'str'>, False, None, False)\n",
      "('identifier', 'identifier', <class 'fhirclient.models.identifier.Identifier'>, False, None, False)\n",
      "('reference', 'reference', <class 'str'>, False, None, False)\n"
     ]
    }
   ],
   "source": [
    "mySubject = fr.FHIRReference()\n",
    "for eproperty in mySubject.elementProperties():\n",
    "    print(eproperty)"
   ]
  },
  {
   "cell_type": "markdown",
   "metadata": {},
   "source": [
    "None of these are required, so we'll use the `reference` and point to the Patient we created."
   ]
  },
  {
   "cell_type": "code",
   "execution_count": 5,
   "metadata": {},
   "outputs": [
    {
     "name": "stdout",
     "output_type": "stream",
     "text": [
      "{\n",
      "    \"subject\": {\n",
      "        \"reference\": \"Patient/2609\"\n",
      "    },\n",
      "    \"resourceType\": \"Specimen\"\n",
      "}\n"
     ]
    }
   ],
   "source": [
    "mySubject.reference = 'Patient/2609'\n",
    "mySpecimen.subject = mySubject\n",
    "import json\n",
    "print(json.dumps(mySpecimen.as_json(), indent=4))"
   ]
  },
  {
   "cell_type": "markdown",
   "metadata": {},
   "source": [
    "Now we'll add some collection information to this Specimen. "
   ]
  },
  {
   "cell_type": "code",
   "execution_count": 6,
   "metadata": {},
   "outputs": [
    {
     "name": "stdout",
     "output_type": "stream",
     "text": [
      "('extension', 'extension', <class 'fhirclient.models.extension.Extension'>, True, None, False)\n",
      "('id', 'id', <class 'str'>, False, None, False)\n",
      "('modifierExtension', 'modifierExtension', <class 'fhirclient.models.extension.Extension'>, True, None, False)\n",
      "('bodySite', 'bodySite', <class 'fhirclient.models.codeableconcept.CodeableConcept'>, False, None, False)\n",
      "('collectedDateTime', 'collectedDateTime', <class 'fhirclient.models.fhirdate.FHIRDate'>, False, 'collected', False)\n",
      "('collectedPeriod', 'collectedPeriod', <class 'fhirclient.models.period.Period'>, False, 'collected', False)\n",
      "('collector', 'collector', <class 'fhirclient.models.fhirreference.FHIRReference'>, False, None, False)\n",
      "('method', 'method', <class 'fhirclient.models.codeableconcept.CodeableConcept'>, False, None, False)\n",
      "('quantity', 'quantity', <class 'fhirclient.models.quantity.Quantity'>, False, None, False)\n"
     ]
    }
   ],
   "source": [
    "myCollection = s.SpecimenCollection()\n",
    "for eproperty in myCollection.elementProperties():    \n",
    "    print(eproperty)"
   ]
  },
  {
   "cell_type": "markdown",
   "metadata": {},
   "source": [
    "None of these are required, but we'll add `bodySite` and `method`. Both are types of `fhirclient.models.codeableconcept.CodeableConcept`. We'll start with `bodySite`."
   ]
  },
  {
   "cell_type": "code",
   "execution_count": 7,
   "metadata": {},
   "outputs": [
    {
     "name": "stdout",
     "output_type": "stream",
     "text": [
      "('extension', 'extension', <class 'fhirclient.models.extension.Extension'>, True, None, False)\n",
      "('id', 'id', <class 'str'>, False, None, False)\n",
      "('coding', 'coding', <class 'fhirclient.models.coding.Coding'>, True, None, False)\n",
      "('text', 'text', <class 'str'>, False, None, False)\n"
     ]
    }
   ],
   "source": [
    "myBodySite = cc.CodeableConcept()\n",
    "for eproperty in myBodySite.elementProperties():\n",
    "    print(eproperty)"
   ]
  },
  {
   "cell_type": "markdown",
   "metadata": {},
   "source": [
    "We'll us `coding` which is a type of `fhirclient.models.coding.Coding`, which is a `is_list` so it must be put into a list."
   ]
  },
  {
   "cell_type": "code",
   "execution_count": 8,
   "metadata": {},
   "outputs": [
    {
     "name": "stdout",
     "output_type": "stream",
     "text": [
      "('extension', 'extension', <class 'fhirclient.models.extension.Extension'>, True, None, False)\n",
      "('id', 'id', <class 'str'>, False, None, False)\n",
      "('code', 'code', <class 'str'>, False, None, False)\n",
      "('display', 'display', <class 'str'>, False, None, False)\n",
      "('system', 'system', <class 'str'>, False, None, False)\n",
      "('userSelected', 'userSelected', <class 'bool'>, False, None, False)\n",
      "('version', 'version', <class 'str'>, False, None, False)\n"
     ]
    }
   ],
   "source": [
    "myBodySiteCoding = co.Coding()\n",
    "for eproperty in myBodySiteCoding.elementProperties():\n",
    "    print(eproperty)"
   ]
  },
  {
   "cell_type": "markdown",
   "metadata": {},
   "source": [
    "Nothing is required, but we'll add `system`, `code`, and `display`"
   ]
  },
  {
   "cell_type": "code",
   "execution_count": 9,
   "metadata": {},
   "outputs": [
    {
     "name": "stdout",
     "output_type": "stream",
     "text": [
      "{\n",
      "    \"coding\": [\n",
      "        {\n",
      "            \"code\": \"261063000\",\n",
      "            \"display\": \"Buccal space\",\n",
      "            \"system\": \"http://snomed.info/sct\"\n",
      "        }\n",
      "    ]\n",
      "}\n"
     ]
    }
   ],
   "source": [
    "myBodySiteCoding.system = 'http://snomed.info/sct'\n",
    "myBodySiteCoding.code = '261063000'\n",
    "myBodySiteCoding.display = 'Buccal space'\n",
    "myBodySite.coding = [myBodySiteCoding] # is_list for coding is True, so must be put into a list\n",
    "print(json.dumps(myBodySite.as_json(), indent=4))"
   ]
  },
  {
   "cell_type": "markdown",
   "metadata": {},
   "source": [
    "Let's repeat this for `method`, which is another `CodeableConcept`"
   ]
  },
  {
   "cell_type": "code",
   "execution_count": 10,
   "metadata": {},
   "outputs": [
    {
     "name": "stdout",
     "output_type": "stream",
     "text": [
      "{\n",
      "    \"code\": \"SWA\",\n",
      "    \"display\": \"Swab\",\n",
      "    \"system\": \"http://hl7.org/fhir/v2/0488\"\n",
      "}\n"
     ]
    }
   ],
   "source": [
    "myMethod = cc.CodeableConcept()\n",
    "myMethodCoding = co.Coding()\n",
    "myMethodCoding.system = 'http://hl7.org/fhir/v2/0488'\n",
    "myMethodCoding.code = 'SWA'\n",
    "myMethodCoding.display = 'Swab'\n",
    "myMethod.coding = [myMethodCoding] # is_list for coding is True, so must be put into a list\n",
    "print(json.dumps(myMethodCoding.as_json(), indent=4))"
   ]
  },
  {
   "cell_type": "markdown",
   "metadata": {},
   "source": [
    "Now put `myBodySite` and `myMethod` into `myCollection`, and put `myCollection` into `mySpecimen`."
   ]
  },
  {
   "cell_type": "code",
   "execution_count": 11,
   "metadata": {},
   "outputs": [
    {
     "name": "stdout",
     "output_type": "stream",
     "text": [
      "{\n",
      "    \"collection\": {\n",
      "        \"bodySite\": {\n",
      "            \"coding\": [\n",
      "                {\n",
      "                    \"code\": \"261063000\",\n",
      "                    \"display\": \"Buccal space\",\n",
      "                    \"system\": \"http://snomed.info/sct\"\n",
      "                }\n",
      "            ]\n",
      "        },\n",
      "        \"method\": {\n",
      "            \"coding\": [\n",
      "                {\n",
      "                    \"code\": \"SWA\",\n",
      "                    \"display\": \"Swab\",\n",
      "                    \"system\": \"http://hl7.org/fhir/v2/0488\"\n",
      "                }\n",
      "            ]\n",
      "        }\n",
      "    },\n",
      "    \"subject\": {\n",
      "        \"reference\": \"Patient/2609\"\n",
      "    },\n",
      "    \"resourceType\": \"Specimen\"\n",
      "}\n"
     ]
    }
   ],
   "source": [
    "myCollection.bodySite = myBodySite\n",
    "myCollection.method = myMethod\n",
    "mySpecimen.collection = myCollection\n",
    "print(json.dumps(mySpecimen.as_json(), indent=4))"
   ]
  },
  {
   "cell_type": "markdown",
   "metadata": {},
   "source": [
    "Now let's try posting it the FHIR server, using the same setting as we used in mkPatient"
   ]
  },
  {
   "cell_type": "code",
   "execution_count": 13,
   "metadata": {},
   "outputs": [
    {
     "name": "stdout",
     "output_type": "stream",
     "text": [
      "{\n",
      "    \"resourceType\": \"OperationOutcome\",\n",
      "    \"text\": {\n",
      "        \"status\": \"generated\",\n",
      "        \"div\": \"<div xmlns=\\\"http://www.w3.org/1999/xhtml\\\"><h1>Operation Outcome</h1><table border=\\\"0\\\"><tr><td style=\\\"font-weight: bold;\\\">INFORMATION</td><td>[]</td><td><pre>Successfully created resource &quot;Specimen/2610/_history/1&quot; in 7ms</pre></td>\\n\\t\\t\\t\\t\\t\\n\\t\\t\\t\\t\\n\\t\\t\\t</tr>\\n\\t\\t</table>\\n\\t</div>\"\n",
      "    },\n",
      "    \"issue\": [\n",
      "        {\n",
      "            \"severity\": \"information\",\n",
      "            \"code\": \"informational\",\n",
      "            \"diagnostics\": \"Successfully created resource \\\"Specimen/2610/_history/1\\\" in 7ms\"\n",
      "        }\n",
      "    ]\n",
      "}\n"
     ]
    }
   ],
   "source": [
    "settings = {\n",
    "        'app_id': 'my_web_app',\n",
    "        'api_base': 'http://fhirtest.b12x.org/baseDstu3'\n",
    "    }\n",
    "smart = client.FHIRClient(settings=settings)\n",
    "response = mySpecimen.create(smart.server)\n",
    "print(json.dumps(response.json(), indent=4))"
   ]
  },
  {
   "cell_type": "code",
   "execution_count": 14,
   "metadata": {},
   "outputs": [
    {
     "name": "stdout",
     "output_type": "stream",
     "text": [
      "http://fhirtest.b12x.org/baseDstu3/Specimen/2610/_history/1\n"
     ]
    }
   ],
   "source": [
    "print(response.headers['Location'])"
   ]
  },
  {
   "cell_type": "markdown",
   "metadata": {},
   "source": [
    "We can write out the `Specimen` to a file, as we did for `Patient`"
   ]
  },
  {
   "cell_type": "code",
   "execution_count": null,
   "metadata": {},
   "outputs": [],
   "source": []
  }
 ],
 "metadata": {
  "kernelspec": {
   "display_name": "Python 3",
   "language": "python",
   "name": "python3"
  },
  "language_info": {
   "codemirror_mode": {
    "name": "ipython",
    "version": 3
   },
   "file_extension": ".py",
   "mimetype": "text/x-python",
   "name": "python",
   "nbconvert_exporter": "python",
   "pygments_lexer": "ipython3",
   "version": "3.6.5"
  }
 },
 "nbformat": 4,
 "nbformat_minor": 2
}
