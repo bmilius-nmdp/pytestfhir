{
 "cells": [
  {
   "cell_type": "markdown",
   "metadata": {},
   "source": [
    "## Exploring the `fhirclient` package: creating a Patient, and POSTing it to a FHIR server\n",
    "* install with \n",
    "    * `pip install fhirclient`\n",
    "    * note: I modified `fhirclient/models/fhirabstractresource.py` so I can get the full response headers (see below), so copied the [`fhirclient`](https://github.com/smart-on-fhir/client-py/tree/master/fhirclient) package into my repo and edited it there. Doing this, I don't need to do the `pip install fhirclient`.\n",
    "* versions\n",
    "    * 3.2 (current at time of writing) is for STU3\n",
    "    * 1.0.3 is for DSTU2\n",
    "* github\n",
    "    * https://github.com/smart-on-fhir/client-py\n",
    "* Documentation\n",
    "    * http://docs.smarthealthit.org/client-py/\n",
    "    \n",
    "There is an example in the documentation that shows how to create a Patient resource..."
   ]
  },
  {
   "cell_type": "code",
   "execution_count": 1,
   "metadata": {},
   "outputs": [],
   "source": [
    "import fhirclient.models.patient as p\n",
    "patient = p.Patient()"
   ]
  },
  {
   "cell_type": "markdown",
   "metadata": {},
   "source": [
    "But the docs are sparse at describing the methods and attributes that are in it, at least for newbies. \n",
    "\n",
    "### Using `help()`\n",
    "We can use `help()` to find out more about the `patient` object."
   ]
  },
  {
   "cell_type": "code",
   "execution_count": 2,
   "metadata": {},
   "outputs": [
    {
     "name": "stdout",
     "output_type": "stream",
     "text": [
      "Help on Patient in module fhirclient.models.patient object:\n",
      "\n",
      "class Patient(fhirclient.models.domainresource.DomainResource)\n",
      " |  Information about an individual or animal receiving health care services.\n",
      " |  \n",
      " |  Demographics and other administrative information about an individual or\n",
      " |  animal receiving care or other health-related services.\n",
      " |  \n",
      " |  Method resolution order:\n",
      " |      Patient\n",
      " |      fhirclient.models.domainresource.DomainResource\n",
      " |      fhirclient.models.resource.Resource\n",
      " |      fhirclient.models.fhirabstractresource.FHIRAbstractResource\n",
      " |      fhirclient.models.fhirabstractbase.FHIRAbstractBase\n",
      " |      builtins.object\n",
      " |  \n",
      " |  Methods defined here:\n",
      " |  \n",
      " |  __init__(self, jsondict=None, strict=True)\n",
      " |      Initialize all valid properties.\n",
      " |      \n",
      " |      :raises: FHIRValidationError on validation errors, unless strict is False\n",
      " |      :param dict jsondict: A JSON dictionary to use for initialization\n",
      " |      :param bool strict: If True (the default), invalid variables will raise a TypeError\n",
      " |  \n",
      " |  elementProperties(self)\n",
      " |      Returns a list of tuples, one tuple for each property that should\n",
      " |      be serialized, as: (\"name\", \"json_name\", type, is_list, \"of_many\", not_optional)\n",
      " |  \n",
      " |  ----------------------------------------------------------------------\n",
      " |  Data and other attributes defined here:\n",
      " |  \n",
      " |  resource_type = 'Patient'\n",
      " |  \n",
      " |  ----------------------------------------------------------------------\n",
      " |  Methods inherited from fhirclient.models.fhirabstractresource.FHIRAbstractResource:\n",
      " |  \n",
      " |  as_json(self)\n",
      " |      Serializes to JSON by inspecting `elementProperties()` and creating\n",
      " |      a JSON dictionary of all registered properties. Checks:\n",
      " |      \n",
      " |      - whether required properties are not None (and lists not empty)\n",
      " |      - whether not-None properties are of the correct type\n",
      " |      \n",
      " |      :raises: FHIRValidationError if properties have the wrong type or if\n",
      " |          required properties are empty\n",
      " |      :returns: A validated dict object that can be JSON serialized\n",
      " |  \n",
      " |  create(self, server)\n",
      " |      Attempt to create the receiver on the given server, using a POST\n",
      " |      command.\n",
      " |      \n",
      " |      :param FHIRServer server: The server to create the receiver on\n",
      " |      :returns: None or the response JSON on success\n",
      " |  \n",
      " |  delete(self, server=None)\n",
      " |      Delete the receiver from the given server with a DELETE command.\n",
      " |      \n",
      " |      :param FHIRServer server: The server to update the receiver on;\n",
      " |          optional, will use the instance's `server` if needed.\n",
      " |      :returns: None or the response JSON on success\n",
      " |  \n",
      " |  process(self, server)\n",
      " |      For processing transaction or batch bundles.\n",
      " |      Attempt to create the receiver on the given server, using a POST\n",
      " |      command.\n",
      " |      \n",
      " |      :param FHIRServer server: The server to create the receiver on\n",
      " |      :returns: None or the response JSON on success\n",
      " |  \n",
      " |  relativeBase(self)\n",
      " |  \n",
      " |  relativePath(self)\n",
      " |  \n",
      " |  search(self, struct=None)\n",
      " |      Search can be started via a dictionary containing a search\n",
      " |      construct.\n",
      " |      \n",
      " |      Calling this method with a search struct will return a `FHIRSearch`\n",
      " |      object representing the search struct, with \"$type\" and \"id\" added.\n",
      " |      \n",
      " |      :param dict struct: An optional search structure\n",
      " |      :returns: A FHIRSearch instance\n",
      " |  \n",
      " |  update(self, server=None)\n",
      " |      Update the receiver's representation on the given server, issuing\n",
      " |      a PUT command.\n",
      " |      \n",
      " |      :param FHIRServer server: The server to update the receiver on;\n",
      " |          optional, will use the instance's `server` if needed.\n",
      " |      :returns: None or the response JSON on success\n",
      " |  \n",
      " |  ----------------------------------------------------------------------\n",
      " |  Class methods inherited from fhirclient.models.fhirabstractresource.FHIRAbstractResource:\n",
      " |  \n",
      " |  read(rem_id, server) from builtins.type\n",
      " |      Read the resource with the given id from the given server. The\n",
      " |      passed-in server instance must support a `request_json()` method call,\n",
      " |      taking a relative path as first (and only mandatory) argument.\n",
      " |      \n",
      " |      :param str rem_id: The id of the resource on the remote server\n",
      " |      :param FHIRServer server: An instance of a FHIR server or compatible class\n",
      " |      :returns: An instance of the receiving class\n",
      " |  \n",
      " |  read_from(path, server) from builtins.type\n",
      " |      Requests data from the given REST path on the server and creates\n",
      " |      an instance of the receiving class.\n",
      " |      \n",
      " |      :param str path: The REST path to read from\n",
      " |      :param FHIRServer server: An instance of a FHIR server or compatible class\n",
      " |      :returns: An instance of the receiving class\n",
      " |  \n",
      " |  where(struct) from builtins.type\n",
      " |      Search can be started via a dictionary containing a search\n",
      " |      construct.\n",
      " |      \n",
      " |      Calling this method with a search struct will return a `FHIRSearch`\n",
      " |      object representing the search struct\n",
      " |      \n",
      " |      :param dict struct: A search structure\n",
      " |      :returns: A FHIRSearch instance\n",
      " |  \n",
      " |  ----------------------------------------------------------------------\n",
      " |  Data descriptors inherited from fhirclient.models.fhirabstractresource.FHIRAbstractResource:\n",
      " |  \n",
      " |  server\n",
      " |      Walks the owner hierarchy until it finds an owner with a server.\n",
      " |  \n",
      " |  ----------------------------------------------------------------------\n",
      " |  Methods inherited from fhirclient.models.fhirabstractbase.FHIRAbstractBase:\n",
      " |  \n",
      " |  didResolveReference(self, refid, resolved)\n",
      " |      Called by `FHIRResource` when it resolves a reference. Stores the\n",
      " |      resolved reference into the `_resolved` dictionary.\n",
      " |      \n",
      " |      :param refid: The id of the resource that was resolved\n",
      " |      :param refid: The resolved resource, ready to be cached\n",
      " |  \n",
      " |  owningBundle(self)\n",
      " |      Walks the owner hierarchy and returns the next parent that is a\n",
      " |      `Bundle` instance.\n",
      " |  \n",
      " |  owningResource(self)\n",
      " |      Walks the owner hierarchy and returns the next parent that is a\n",
      " |      `DomainResource` instance.\n",
      " |  \n",
      " |  resolvedReference(self, refid)\n",
      " |      Returns the resolved reference with the given id, if it has been\n",
      " |      resolved already. If it hasn't, forwards the call to its owner if it\n",
      " |      has one.\n",
      " |      \n",
      " |      You should probably use `resolve()` on the `FHIRReference` itself.\n",
      " |      \n",
      " |      :param refid: The id of the resource to resolve\n",
      " |      :returns: An instance of `Resource`, if it was found\n",
      " |  \n",
      " |  update_with_json(self, jsondict)\n",
      " |      Update the receiver with data in a JSON dictionary.\n",
      " |      \n",
      " |      :raises: FHIRValidationError on validation errors\n",
      " |      :param dict jsondict: The JSON dictionary to use to update the receiver\n",
      " |      :returns: None on success, a list of errors if there were errors\n",
      " |  \n",
      " |  ----------------------------------------------------------------------\n",
      " |  Class methods inherited from fhirclient.models.fhirabstractbase.FHIRAbstractBase:\n",
      " |  \n",
      " |  with_json(jsonobj) from builtins.type\n",
      " |      Initialize an element from a JSON dictionary or array.\n",
      " |      \n",
      " |      If the JSON dictionary has a \"resourceType\" entry and the specified\n",
      " |      resource type is not the receiving classes type, uses\n",
      " |      `FHIRElementFactory` to return a correct class instance.\n",
      " |      \n",
      " |      :raises: TypeError on anything but dict or list of dicts\n",
      " |      :raises: FHIRValidationError if instantiation fails\n",
      " |      :param jsonobj: A dict or list of dicts to instantiate from\n",
      " |      :returns: An instance or a list of instances created from JSON data\n",
      " |  \n",
      " |  with_json_and_owner(jsonobj, owner) from builtins.type\n",
      " |      Instantiates by forwarding to `with_json()`, then remembers the\n",
      " |      \"owner\" of the instantiated elements. The \"owner\" is the resource\n",
      " |      containing the receiver and is used to resolve contained resources.\n",
      " |      \n",
      " |      :raises: TypeError on anything but dict or list of dicts\n",
      " |      :raises: FHIRValidationError if instantiation fails\n",
      " |      :param dict jsonobj: Decoded JSON dictionary (or list thereof)\n",
      " |      :param FHIRElement owner: The owning parent\n",
      " |      :returns: An instance or a list of instances created from JSON data\n",
      " |  \n",
      " |  ----------------------------------------------------------------------\n",
      " |  Data descriptors inherited from fhirclient.models.fhirabstractbase.FHIRAbstractBase:\n",
      " |  \n",
      " |  __dict__\n",
      " |      dictionary for instance variables (if defined)\n",
      " |  \n",
      " |  __weakref__\n",
      " |      list of weak references to the object (if defined)\n",
      "\n"
     ]
    }
   ],
   "source": [
    "help(patient)"
   ]
  },
  {
   "cell_type": "markdown",
   "metadata": {},
   "source": [
    "### The `.elementProperties()` method looks interesting\n",
    "\n",
    "```\n",
    "|  elementProperties(self)\n",
    "|    Returns a list of tuples, one tuple for each property that should\n",
    "|    be serialized, as: (\"name\", \"json_name\", type, is_list, \"of_many\", not_optional)\n",
    "```"
   ]
  },
  {
   "cell_type": "code",
   "execution_count": 3,
   "metadata": {},
   "outputs": [
    {
     "data": {
      "text/plain": [
       "[('id', 'id', str, False, None, False),\n",
       " ('implicitRules', 'implicitRules', str, False, None, False),\n",
       " ('language', 'language', str, False, None, False),\n",
       " ('meta', 'meta', fhirclient.models.meta.Meta, False, None, False),\n",
       " ('contained',\n",
       "  'contained',\n",
       "  fhirclient.models.resource.Resource,\n",
       "  True,\n",
       "  None,\n",
       "  False),\n",
       " ('extension',\n",
       "  'extension',\n",
       "  fhirclient.models.extension.Extension,\n",
       "  True,\n",
       "  None,\n",
       "  False),\n",
       " ('modifierExtension',\n",
       "  'modifierExtension',\n",
       "  fhirclient.models.extension.Extension,\n",
       "  True,\n",
       "  None,\n",
       "  False),\n",
       " ('text', 'text', fhirclient.models.narrative.Narrative, False, None, False),\n",
       " ('active', 'active', bool, False, None, False),\n",
       " ('address', 'address', fhirclient.models.address.Address, True, None, False),\n",
       " ('animal',\n",
       "  'animal',\n",
       "  fhirclient.models.patient.PatientAnimal,\n",
       "  False,\n",
       "  None,\n",
       "  False),\n",
       " ('birthDate',\n",
       "  'birthDate',\n",
       "  fhirclient.models.fhirdate.FHIRDate,\n",
       "  False,\n",
       "  None,\n",
       "  False),\n",
       " ('communication',\n",
       "  'communication',\n",
       "  fhirclient.models.patient.PatientCommunication,\n",
       "  True,\n",
       "  None,\n",
       "  False),\n",
       " ('contact',\n",
       "  'contact',\n",
       "  fhirclient.models.patient.PatientContact,\n",
       "  True,\n",
       "  None,\n",
       "  False),\n",
       " ('deceasedBoolean', 'deceasedBoolean', bool, False, 'deceased', False),\n",
       " ('deceasedDateTime',\n",
       "  'deceasedDateTime',\n",
       "  fhirclient.models.fhirdate.FHIRDate,\n",
       "  False,\n",
       "  'deceased',\n",
       "  False),\n",
       " ('gender', 'gender', str, False, None, False),\n",
       " ('generalPractitioner',\n",
       "  'generalPractitioner',\n",
       "  fhirclient.models.fhirreference.FHIRReference,\n",
       "  True,\n",
       "  None,\n",
       "  False),\n",
       " ('identifier',\n",
       "  'identifier',\n",
       "  fhirclient.models.identifier.Identifier,\n",
       "  True,\n",
       "  None,\n",
       "  False),\n",
       " ('link', 'link', fhirclient.models.patient.PatientLink, True, None, False),\n",
       " ('managingOrganization',\n",
       "  'managingOrganization',\n",
       "  fhirclient.models.fhirreference.FHIRReference,\n",
       "  False,\n",
       "  None,\n",
       "  False),\n",
       " ('maritalStatus',\n",
       "  'maritalStatus',\n",
       "  fhirclient.models.codeableconcept.CodeableConcept,\n",
       "  False,\n",
       "  None,\n",
       "  False),\n",
       " ('multipleBirthBoolean',\n",
       "  'multipleBirthBoolean',\n",
       "  bool,\n",
       "  False,\n",
       "  'multipleBirth',\n",
       "  False),\n",
       " ('multipleBirthInteger',\n",
       "  'multipleBirthInteger',\n",
       "  int,\n",
       "  False,\n",
       "  'multipleBirth',\n",
       "  False),\n",
       " ('name', 'name', fhirclient.models.humanname.HumanName, True, None, False),\n",
       " ('photo',\n",
       "  'photo',\n",
       "  fhirclient.models.attachment.Attachment,\n",
       "  True,\n",
       "  None,\n",
       "  False),\n",
       " ('telecom',\n",
       "  'telecom',\n",
       "  fhirclient.models.contactpoint.ContactPoint,\n",
       "  True,\n",
       "  None,\n",
       "  False)]"
      ]
     },
     "execution_count": 3,
     "metadata": {},
     "output_type": "execute_result"
    }
   ],
   "source": [
    "patient.elementProperties()"
   ]
  },
  {
   "cell_type": "markdown",
   "metadata": {},
   "source": [
    "Just as `help()` told us, we see a list of tuples. \n",
    "<p>\n",
    "Let's make it a little easier to read."
   ]
  },
  {
   "cell_type": "code",
   "execution_count": 4,
   "metadata": {},
   "outputs": [
    {
     "name": "stdout",
     "output_type": "stream",
     "text": [
      "('id', 'id', <class 'str'>, False, None, False)\n",
      "('implicitRules', 'implicitRules', <class 'str'>, False, None, False)\n",
      "('language', 'language', <class 'str'>, False, None, False)\n",
      "('meta', 'meta', <class 'fhirclient.models.meta.Meta'>, False, None, False)\n",
      "('contained', 'contained', <class 'fhirclient.models.resource.Resource'>, True, None, False)\n",
      "('extension', 'extension', <class 'fhirclient.models.extension.Extension'>, True, None, False)\n",
      "('modifierExtension', 'modifierExtension', <class 'fhirclient.models.extension.Extension'>, True, None, False)\n",
      "('text', 'text', <class 'fhirclient.models.narrative.Narrative'>, False, None, False)\n",
      "('active', 'active', <class 'bool'>, False, None, False)\n",
      "('address', 'address', <class 'fhirclient.models.address.Address'>, True, None, False)\n",
      "('animal', 'animal', <class 'fhirclient.models.patient.PatientAnimal'>, False, None, False)\n",
      "('birthDate', 'birthDate', <class 'fhirclient.models.fhirdate.FHIRDate'>, False, None, False)\n",
      "('communication', 'communication', <class 'fhirclient.models.patient.PatientCommunication'>, True, None, False)\n",
      "('contact', 'contact', <class 'fhirclient.models.patient.PatientContact'>, True, None, False)\n",
      "('deceasedBoolean', 'deceasedBoolean', <class 'bool'>, False, 'deceased', False)\n",
      "('deceasedDateTime', 'deceasedDateTime', <class 'fhirclient.models.fhirdate.FHIRDate'>, False, 'deceased', False)\n",
      "('gender', 'gender', <class 'str'>, False, None, False)\n",
      "('generalPractitioner', 'generalPractitioner', <class 'fhirclient.models.fhirreference.FHIRReference'>, True, None, False)\n",
      "('identifier', 'identifier', <class 'fhirclient.models.identifier.Identifier'>, True, None, False)\n",
      "('link', 'link', <class 'fhirclient.models.patient.PatientLink'>, True, None, False)\n",
      "('managingOrganization', 'managingOrganization', <class 'fhirclient.models.fhirreference.FHIRReference'>, False, None, False)\n",
      "('maritalStatus', 'maritalStatus', <class 'fhirclient.models.codeableconcept.CodeableConcept'>, False, None, False)\n",
      "('multipleBirthBoolean', 'multipleBirthBoolean', <class 'bool'>, False, 'multipleBirth', False)\n",
      "('multipleBirthInteger', 'multipleBirthInteger', <class 'int'>, False, 'multipleBirth', False)\n",
      "('name', 'name', <class 'fhirclient.models.humanname.HumanName'>, True, None, False)\n",
      "('photo', 'photo', <class 'fhirclient.models.attachment.Attachment'>, True, None, False)\n",
      "('telecom', 'telecom', <class 'fhirclient.models.contactpoint.ContactPoint'>, True, None, False)\n"
     ]
    }
   ],
   "source": [
    "for eproperty in patient.elementProperties():\n",
    "    print(eproperty)"
   ]
  },
  {
   "cell_type": "markdown",
   "metadata": {},
   "source": [
    "Each tuple has six members. From the `help(patient)` result, we see what each member is:\n",
    "```\n",
    "|  elementProperties(self)\n",
    "|    Returns a list of tuples, one tuple for each property that should\n",
    "|    be serialized, as: (\"name\", \"json_name\", type, is_list, \"of_many\", not_optional)\n",
    "```\n",
    "The first three items in a tuple are easy to figure out. The last three required looking at the FHIR [Patient](http://build.fhir.org/patient.html) resource specification to confirm suspicions.\n",
    "* `is_list` = Boolean that indicates if more than one member is allowed and therefore should be in a `list`, e.g., cardinality of `0..*`\n",
    "* `of_many` = choice of data types (pick one), with prefix indicated, e.g, `deceasedBoolean` or `deceasedDateTime`\n",
    "* `not_optional` = required, e.g., cardinality of `1..*`\n",
    "\n",
    "How many of these patient properties are required?"
   ]
  },
  {
   "cell_type": "code",
   "execution_count": 5,
   "metadata": {},
   "outputs": [
    {
     "data": {
      "text/plain": [
       "0"
      ]
     },
     "execution_count": 5,
     "metadata": {},
     "output_type": "execute_result"
    }
   ],
   "source": [
    "required = []\n",
    "for eproperty in patient.elementProperties():\n",
    "    if eproperty[5] == True:\n",
    "        required.append(eproperty)\n",
    "len(required)"
   ]
  },
  {
   "cell_type": "markdown",
   "metadata": {},
   "source": [
    "Nothing is actually required for this resource. Everything is optional.\n",
    "\n",
    "How many can have more than one and need to be captured in a `list`?"
   ]
  },
  {
   "cell_type": "code",
   "execution_count": 6,
   "metadata": {},
   "outputs": [
    {
     "data": {
      "text/plain": [
       "12"
      ]
     },
     "execution_count": 6,
     "metadata": {},
     "output_type": "execute_result"
    }
   ],
   "source": [
    "islist = []\n",
    "for eproperty in patient.elementProperties():\n",
    "    if eproperty[3] == True:\n",
    "        islist.append(eproperty)\n",
    "len(islist)"
   ]
  },
  {
   "cell_type": "markdown",
   "metadata": {},
   "source": [
    "What are they?"
   ]
  },
  {
   "cell_type": "code",
   "execution_count": 7,
   "metadata": {},
   "outputs": [
    {
     "name": "stdout",
     "output_type": "stream",
     "text": [
      "('contained', 'contained', <class 'fhirclient.models.resource.Resource'>, True, None, False)\n",
      "('extension', 'extension', <class 'fhirclient.models.extension.Extension'>, True, None, False)\n",
      "('modifierExtension', 'modifierExtension', <class 'fhirclient.models.extension.Extension'>, True, None, False)\n",
      "('address', 'address', <class 'fhirclient.models.address.Address'>, True, None, False)\n",
      "('communication', 'communication', <class 'fhirclient.models.patient.PatientCommunication'>, True, None, False)\n",
      "('contact', 'contact', <class 'fhirclient.models.patient.PatientContact'>, True, None, False)\n",
      "('generalPractitioner', 'generalPractitioner', <class 'fhirclient.models.fhirreference.FHIRReference'>, True, None, False)\n",
      "('identifier', 'identifier', <class 'fhirclient.models.identifier.Identifier'>, True, None, False)\n",
      "('link', 'link', <class 'fhirclient.models.patient.PatientLink'>, True, None, False)\n",
      "('name', 'name', <class 'fhirclient.models.humanname.HumanName'>, True, None, False)\n",
      "('photo', 'photo', <class 'fhirclient.models.attachment.Attachment'>, True, None, False)\n",
      "('telecom', 'telecom', <class 'fhirclient.models.contactpoint.ContactPoint'>, True, None, False)\n"
     ]
    }
   ],
   "source": [
    "for eproperty in islist:\n",
    "    print(eproperty)"
   ]
  },
  {
   "cell_type": "markdown",
   "metadata": {},
   "source": [
    "Those 12 properties should be captured in a `list`.\n",
    "<p>\n",
    "Which, if any, of the patient properties are `of_many`?"
   ]
  },
  {
   "cell_type": "code",
   "execution_count": 8,
   "metadata": {},
   "outputs": [
    {
     "name": "stdout",
     "output_type": "stream",
     "text": [
      "('deceasedBoolean', 'deceasedBoolean', <class 'bool'>, False, 'deceased', False)\n",
      "('deceasedDateTime', 'deceasedDateTime', <class 'fhirclient.models.fhirdate.FHIRDate'>, False, 'deceased', False)\n",
      "('multipleBirthBoolean', 'multipleBirthBoolean', <class 'bool'>, False, 'multipleBirth', False)\n",
      "('multipleBirthInteger', 'multipleBirthInteger', <class 'int'>, False, 'multipleBirth', False)\n"
     ]
    }
   ],
   "source": [
    "for eproperty in patient.elementProperties():\n",
    "    if eproperty[4] != None:\n",
    "        print(eproperty)"
   ]
  },
  {
   "cell_type": "markdown",
   "metadata": {},
   "source": [
    "<div class=\"alert alert-block alert-info\">A word about choice of data types. From http://build.fhir.org/formats.html#choice,\n",
    "<p>\n",
    "<i>Elements that have a choice of data type cannot repeat - they must have a maximum cardinality of 1. When constructing an instance of an element with a choice of types, the authoring system must create a single element with a data type chosen from among the list of permitted data types.</i>\n",
    "</div>"
   ]
  },
  {
   "cell_type": "markdown",
   "metadata": {},
   "source": [
    "### The `.as_json()` method\n",
    "Another method for the patient object is `.as_json()` which was inherited from <br>\n",
    "`fhirclient.models.fhirabstractresource.FHIRAbstractResource`<p>\n",
    "from `help(patient)`\n",
    "```\n",
    " |   as_json(self)\n",
    " |      Serializes to JSON by inspecting `elementProperties()` and creating\n",
    " |      a JSON dictionary of all registered properties. Checks:\n",
    " |      \n",
    " |      - whether required properties are not None (and lists not empty)\n",
    " |      - whether not-None properties are of the correct type\n",
    " |      \n",
    " |      :raises: FHIRValidationError if properties have the wrong type or if\n",
    " |          required properties are empty\n",
    " |      :returns: A validated dict object that can be JSON serialized\n",
    "```\n",
    "    \n",
    "Let's try it."
   ]
  },
  {
   "cell_type": "code",
   "execution_count": 9,
   "metadata": {},
   "outputs": [
    {
     "data": {
      "text/plain": [
       "{'resourceType': 'Patient'}"
      ]
     },
     "execution_count": 9,
     "metadata": {},
     "output_type": "execute_result"
    }
   ],
   "source": [
    "patient.as_json()"
   ]
  },
  {
   "cell_type": "markdown",
   "metadata": {},
   "source": [
    "When patient was created, it automatically filled in the `resourceType`, which interestingly isn't one of the properties returned by `patient.elementProperties`"
   ]
  },
  {
   "cell_type": "markdown",
   "metadata": {},
   "source": [
    "We can pretty print this with `json.dumps()`"
   ]
  },
  {
   "cell_type": "code",
   "execution_count": 10,
   "metadata": {},
   "outputs": [
    {
     "name": "stdout",
     "output_type": "stream",
     "text": [
      "{\n",
      "    \"resourceType\": \"Patient\"\n",
      "}\n"
     ]
    }
   ],
   "source": [
    "import json\n",
    "print(json.dumps(patient.as_json(), indent=4))"
   ]
  },
  {
   "cell_type": "markdown",
   "metadata": {},
   "source": [
    "### Add a name to Patient\n",
    "<p>\n",
    "We see from `patient.elementsProperties()` that `name` has a type of `<class 'fhirclient.models.humanname.HumanName'>`\n",
    "<p>\n",
    "We'll create a `HumanName` object to hold this, and find out the properties it has."
   ]
  },
  {
   "cell_type": "code",
   "execution_count": 11,
   "metadata": {},
   "outputs": [
    {
     "name": "stdout",
     "output_type": "stream",
     "text": [
      "('extension', 'extension', <class 'fhirclient.models.extension.Extension'>, True, None, False)\n",
      "('id', 'id', <class 'str'>, False, None, False)\n",
      "('family', 'family', <class 'str'>, False, None, False)\n",
      "('given', 'given', <class 'str'>, True, None, False)\n",
      "('period', 'period', <class 'fhirclient.models.period.Period'>, False, None, False)\n",
      "('prefix', 'prefix', <class 'str'>, True, None, False)\n",
      "('suffix', 'suffix', <class 'str'>, True, None, False)\n",
      "('text', 'text', <class 'str'>, False, None, False)\n",
      "('use', 'use', <class 'str'>, False, None, False)\n"
     ]
    }
   ],
   "source": [
    "import fhirclient.models.humanname as hn\n",
    "name = hn.HumanName()\n",
    "for eproperty in name.elementProperties():\n",
    "    print(eproperty)"
   ]
  },
  {
   "cell_type": "markdown",
   "metadata": {},
   "source": [
    "#### Let's build a name\n",
    "Since `given` has `is_list` set to `True`, we need to put it in a `list` or we'll get a `FHIRValidationError`. This is so we can have additional names as part of the full name (e.g., middle names). Since we can, we'll add a middle name. "
   ]
  },
  {
   "cell_type": "code",
   "execution_count": 12,
   "metadata": {},
   "outputs": [],
   "source": [
    "name.family = 'Storm'\n",
    "name.given = ['Jonathon', 'Lowell']\n",
    "name.text = 'Jonathon Lowell Storm'"
   ]
  },
  {
   "cell_type": "markdown",
   "metadata": {},
   "source": [
    "We can now define how the name is used. I haven't figured out if the valueset for `use` can be found in the models, but reading the specification for [`HumanName`](http://hl7.org/implement/standards/fhir/datatypes.html#HumanName), I see that `use` must be from http://hl7.org/implement/standards/fhir/valueset-name-use.html. We'll make it for `official` use. If we mistype this, a `FHIRValidationError` won't pop up here, but the FHIR server might when we POST it."
   ]
  },
  {
   "cell_type": "code",
   "execution_count": 13,
   "metadata": {},
   "outputs": [
    {
     "name": "stdout",
     "output_type": "stream",
     "text": [
      "{\n",
      "    \"family\": \"Storm\",\n",
      "    \"given\": [\n",
      "        \"Jonathon\",\n",
      "        \"Lowell\"\n",
      "    ],\n",
      "    \"text\": \"Jonathon Lowell Storm\",\n",
      "    \"use\": \"official\"\n",
      "}\n"
     ]
    }
   ],
   "source": [
    "name.use = 'official'\n",
    "print(json.dumps(name.as_json(), indent=4))"
   ]
  },
  {
   "cell_type": "markdown",
   "metadata": {},
   "source": [
    "Now add `name` to `patient`. Again, since `name` has `is_list` set to true, we need to put it in a list."
   ]
  },
  {
   "cell_type": "code",
   "execution_count": 14,
   "metadata": {},
   "outputs": [
    {
     "name": "stdout",
     "output_type": "stream",
     "text": [
      "{\n",
      "    \"name\": [\n",
      "        {\n",
      "            \"family\": \"Storm\",\n",
      "            \"given\": [\n",
      "                \"Jonathon\",\n",
      "                \"Lowell\"\n",
      "            ],\n",
      "            \"text\": \"Jonathon Lowell Storm\",\n",
      "            \"use\": \"official\"\n",
      "        }\n",
      "    ],\n",
      "    \"resourceType\": \"Patient\"\n",
      "}\n"
     ]
    }
   ],
   "source": [
    "patient.name = [name]\n",
    "print(json.dumps(patient.as_json(), indent=4))"
   ]
  },
  {
   "cell_type": "markdown",
   "metadata": {},
   "source": [
    "Since we can have more than one name, let's add a couple of nicknames."
   ]
  },
  {
   "cell_type": "code",
   "execution_count": 15,
   "metadata": {},
   "outputs": [
    {
     "name": "stdout",
     "output_type": "stream",
     "text": [
      "{\n",
      "    \"name\": [\n",
      "        {\n",
      "            \"family\": \"Storm\",\n",
      "            \"given\": [\n",
      "                \"Jonathon\",\n",
      "                \"Lowell\"\n",
      "            ],\n",
      "            \"text\": \"Jonathon Lowell Storm\",\n",
      "            \"use\": \"official\"\n",
      "        },\n",
      "        {\n",
      "            \"family\": \"Storm\",\n",
      "            \"given\": [\n",
      "                \"Johnny\"\n",
      "            ],\n",
      "            \"use\": \"nickname\"\n",
      "        },\n",
      "        {\n",
      "            \"text\": \"Human Torch\",\n",
      "            \"use\": \"nickname\"\n",
      "        }\n",
      "    ],\n",
      "    \"resourceType\": \"Patient\"\n",
      "}\n"
     ]
    }
   ],
   "source": [
    "name2 = hn.HumanName()\n",
    "name2.given = ['Johnny']\n",
    "name2.family = 'Storm'\n",
    "name2.use = 'nickname'\n",
    "name3 = hn.HumanName()\n",
    "name3.text = 'Human Torch'\n",
    "name3.use = 'nickname'\n",
    "patient.name.extend([name2, name3])\n",
    "print(json.dumps(patient.as_json(), indent=4))"
   ]
  },
  {
   "cell_type": "markdown",
   "metadata": {},
   "source": [
    "### POSTing a Patient\n",
    "Now that we built a Patient resource, we can try to POST it to an open FHIR server. We'll use the examples  are in github repo README to guide us, and use http://fhirtest.b12.org/baseDstu3 for the server. Although the example didn't have a POST example, we see a `create()` method described in `help(patient)`\n",
    "```\n",
    " |  create(self, server)\n",
    " |      Attempt to create the receiver on the given server, using a POST\n",
    " |      command.\n",
    " |      \n",
    " |      :param FHIRServer server: The server to create the receiver on\n",
    " |      :returns: None or the response JSON on success                                     \n",
    "``` \n",
    "We can create a smart object with server info as done in the example, and see what's inside it."
   ]
  },
  {
   "cell_type": "code",
   "execution_count": 16,
   "metadata": {},
   "outputs": [
    {
     "data": {
      "text/plain": [
       "{'app_id': 'my_web_app',\n",
       " 'app_secret': None,\n",
       " 'server': <server.FHIRServer at 0x109206048>,\n",
       " 'scope': 'user/*.* patient/*.read openid profile',\n",
       " 'redirect': None,\n",
       " 'launch_token': None,\n",
       " 'launch_context': None,\n",
       " 'wants_patient': True,\n",
       " 'patient_id': None,\n",
       " '_patient': None,\n",
       " '_save_func': <function fhirclient.client.FHIRClient.<lambda>(x)>}"
      ]
     },
     "execution_count": 16,
     "metadata": {},
     "output_type": "execute_result"
    }
   ],
   "source": [
    "from fhirclient import client\n",
    "settings = {\n",
    "        'app_id': 'my_web_app',\n",
    "        'api_base': 'http://fhirtest.b12x.org/baseDstu3'\n",
    "    }\n",
    "smart = client.FHIRClient(settings=settings)\n",
    "smart.__dict__"
   ]
  },
  {
   "cell_type": "code",
   "execution_count": 17,
   "metadata": {},
   "outputs": [
    {
     "name": "stdout",
     "output_type": "stream",
     "text": [
      "Help on FHIRClient in module fhirclient.client object:\n",
      "\n",
      "class FHIRClient(builtins.object)\n",
      " |  Instances of this class handle authorizing and talking to SMART on FHIR\n",
      " |  servers.\n",
      " |  \n",
      " |  The settings dictionary supports:\n",
      " |  \n",
      " |      - `app_id`*: Your app/client-id, e.g. 'my_web_app'\n",
      " |      - `app_secret`*: Your app/client-secret\n",
      " |      - `api_base`*: The FHIR service to connect to, e.g. 'https://fhir-api-dstu2.smarthealthit.org'\n",
      " |      - `redirect_uri`: The callback/redirect URL for your app, e.g. 'http://localhost:8000/fhir-app/' when testing locally\n",
      " |      - `patient_id`: The patient id against which to operate, if already known\n",
      " |      - `scope`: Space-separated list of scopes to request, if other than default\n",
      " |      - `launch_token`: The launch token\n",
      " |  \n",
      " |  Methods defined here:\n",
      " |  \n",
      " |  __init__(self, settings=None, state=None, save_func=<function FHIRClient.<lambda> at 0x109204048>)\n",
      " |      Initialize self.  See help(type(self)) for accurate signature.\n",
      " |  \n",
      " |  from_state(self, state)\n",
      " |  \n",
      " |  handle_callback(self, url)\n",
      " |      You can call this to have the client automatically handle the\n",
      " |      auth callback after the user has logged in.\n",
      " |      \n",
      " |      :param str url: The complete callback URL\n",
      " |  \n",
      " |  human_name(self, human_name_instance)\n",
      " |      Formats a `HumanName` instance into a string.\n",
      " |  \n",
      " |  prepare(self)\n",
      " |      Returns True if the client is ready to make API calls (e.g. there\n",
      " |      is an access token or this is an open server). In contrast to the\n",
      " |      `ready` property, this method will fetch the server's capability\n",
      " |      statement if it hasn't yet been fetched.\n",
      " |      \n",
      " |      :returns: True if the server can make authenticated calls\n",
      " |  \n",
      " |  reauthorize(self)\n",
      " |      Try to reauthorize with the server.\n",
      " |      \n",
      " |      :returns: A bool indicating reauthorization success\n",
      " |  \n",
      " |  reset_patient(self)\n",
      " |  \n",
      " |  save_state(self)\n",
      " |  \n",
      " |  ----------------------------------------------------------------------\n",
      " |  Data descriptors defined here:\n",
      " |  \n",
      " |  __dict__\n",
      " |      dictionary for instance variables (if defined)\n",
      " |  \n",
      " |  __weakref__\n",
      " |      list of weak references to the object (if defined)\n",
      " |  \n",
      " |  authorize_url\n",
      " |      The URL to use to receive an authorization token.\n",
      " |  \n",
      " |  desired_scope\n",
      " |      Ensures `self.scope` is completed with launch scopes, according to\n",
      " |      current client settings.\n",
      " |  \n",
      " |  patient\n",
      " |  \n",
      " |  ready\n",
      " |      Returns True if the client is ready to make API calls (e.g. there\n",
      " |      is an access token or this is an open server).\n",
      " |      \n",
      " |      :returns: True if the server can make authenticated calls\n",
      " |  \n",
      " |  state\n",
      "\n"
     ]
    }
   ],
   "source": [
    "help(smart)"
   ]
  },
  {
   "cell_type": "markdown",
   "metadata": {},
   "source": [
    "We'll use `smart.server` as the server."
   ]
  },
  {
   "cell_type": "markdown",
   "metadata": {},
   "source": [
    "#### Before we POST, a note about the `response`...\n",
    "As it is distributed, `patient.create()` returns json formatted  `Content`. I wanted access to the full HTTP header response, so I edited the `create`, `update`, and `delete` methods in `fhirclient/models/fhirabstractresource.py` file from (suggested by Pascal Pfiffner in this [chat.fhir.org thread](https://chat.fhir.org/#narrow/stream/python/subject/HTTP.20response.20header.20and.20location)):"
   ]
  },
  {
   "cell_type": "markdown",
   "metadata": {},
   "source": [
    "from\n",
    "```python    \n",
    "    ret = srv.post_json(self.relativeBase(), self.as_json())\n",
    "    if len(ret.text) > 0:\n",
    "        return ret.json()\n",
    "```  \n",
    "to     \n",
    "```python\n",
    "    ret = srv.post_json(self.relativeBase(), self.as_json())\n",
    "    if len(ret.text) > 0:\n",
    "        # return the full requests.Response object\n",
    "        return ret\n",
    "        # return ret.json()\n",
    "```"
   ]
  },
  {
   "cell_type": "markdown",
   "metadata": {},
   "source": [
    "Now try POSTing the `patient` to the server using the `.create()` method"
   ]
  },
  {
   "cell_type": "code",
   "execution_count": 18,
   "metadata": {},
   "outputs": [
    {
     "data": {
      "text/plain": [
       "requests.models.Response"
      ]
     },
     "execution_count": 18,
     "metadata": {},
     "output_type": "execute_result"
    }
   ],
   "source": [
    "response = patient.create(smart.server)\n",
    "type(response)"
   ]
  },
  {
   "cell_type": "markdown",
   "metadata": {},
   "source": [
    "Mimic previous behaviour of `response` with `response.json()`"
   ]
  },
  {
   "cell_type": "code",
   "execution_count": 19,
   "metadata": {},
   "outputs": [
    {
     "name": "stdout",
     "output_type": "stream",
     "text": [
      "{\n",
      "    \"resourceType\": \"Patient\",\n",
      "    \"id\": \"4406\",\n",
      "    \"meta\": {\n",
      "        \"versionId\": \"1\",\n",
      "        \"lastUpdated\": \"2019-01-22T03:31:06.498+00:00\"\n",
      "    },\n",
      "    \"text\": {\n",
      "        \"status\": \"generated\",\n",
      "        \"div\": \"<div xmlns=\\\"http://www.w3.org/1999/xhtml\\\"><div class=\\\"hapiHeaderText\\\">Jonathon Lowell <b>STORM </b></div><table class=\\\"hapiPropertyTable\\\"><tbody></tbody></table></div>\"\n",
      "    },\n",
      "    \"name\": [\n",
      "        {\n",
      "            \"use\": \"official\",\n",
      "            \"text\": \"Jonathon Lowell Storm\",\n",
      "            \"family\": \"Storm\",\n",
      "            \"given\": [\n",
      "                \"Jonathon\",\n",
      "                \"Lowell\"\n",
      "            ]\n",
      "        },\n",
      "        {\n",
      "            \"use\": \"nickname\",\n",
      "            \"family\": \"Storm\",\n",
      "            \"given\": [\n",
      "                \"Johnny\"\n",
      "            ]\n",
      "        },\n",
      "        {\n",
      "            \"use\": \"nickname\",\n",
      "            \"text\": \"Human Torch\"\n",
      "        }\n",
      "    ]\n",
      "}\n"
     ]
    }
   ],
   "source": [
    "print(json.dumps(response.json(), indent=4))"
   ]
  },
  {
   "cell_type": "markdown",
   "metadata": {},
   "source": [
    "To see all the response headers..."
   ]
  },
  {
   "cell_type": "code",
   "execution_count": 20,
   "metadata": {},
   "outputs": [
    {
     "name": "stdout",
     "output_type": "stream",
     "text": [
      "{'Content-Encoding': 'gzip', 'Content-Location': 'http://fhirtest.b12x.org/r3/Patient/4406/_history/1', 'Content-Type': 'application/fhir+json;charset=UTF-8', 'Date': 'Tue, 22 Jan 2019 03:31:06 GMT', 'ETag': 'W/\"1\"', 'Last-Modified': 'Tue, 22 Jan 2019 03:31:06 GMT', 'Location': 'http://fhirtest.b12x.org/r3/Patient/4406/_history/1', 'Server': 'Apache-Coyote/1.1', 'X-FHIR-Request-Validation': '{\"resourceType\":\"OperationOutcome\",\"text\":{\"status\":\"generated\",\"div\":\"<div xmlns=\\\\\"http://www.w3.org/1999/xhtml\\\\\"><h1>Operation Outcome</h1><table border=\\\\\"0\\\\\"><tr><td style=\\\\\"font-weight: bold;\\\\\"...', 'X-Powered-By': 'HAPI FHIR 3.6.0 REST Server (FHIR Server; FHIR 3.0.1/DSTU3)', 'transfer-encoding': 'chunked', 'Connection': 'keep-alive'}\n"
     ]
    }
   ],
   "source": [
    "print(response.headers)"
   ]
  },
  {
   "cell_type": "markdown",
   "metadata": {},
   "source": [
    "Make it easier to read..."
   ]
  },
  {
   "cell_type": "code",
   "execution_count": 21,
   "metadata": {},
   "outputs": [
    {
     "name": "stdout",
     "output_type": "stream",
     "text": [
      "Content-Encoding: gzip\n",
      "Content-Location: http://fhirtest.b12x.org/r3/Patient/4406/_history/1\n",
      "Content-Type: application/fhir+json;charset=UTF-8\n",
      "Date: Tue, 22 Jan 2019 03:31:06 GMT\n",
      "ETag: W/\"1\"\n",
      "Last-Modified: Tue, 22 Jan 2019 03:31:06 GMT\n",
      "Location: http://fhirtest.b12x.org/r3/Patient/4406/_history/1\n",
      "Server: Apache-Coyote/1.1\n",
      "X-FHIR-Request-Validation: {\"resourceType\":\"OperationOutcome\",\"text\":{\"status\":\"generated\",\"div\":\"<div xmlns=\\\"http://www.w3.org/1999/xhtml\\\"><h1>Operation Outcome</h1><table border=\\\"0\\\"><tr><td style=\\\"font-weight: bold;\\\"...\n",
      "X-Powered-By: HAPI FHIR 3.6.0 REST Server (FHIR Server; FHIR 3.0.1/DSTU3)\n",
      "transfer-encoding: chunked\n",
      "Connection: keep-alive\n"
     ]
    }
   ],
   "source": [
    "for header in response.headers:\n",
    "    print('{0}: {1}'.format(header, response.headers[header]))"
   ]
  },
  {
   "cell_type": "markdown",
   "metadata": {},
   "source": [
    "So, to see the `Location` of the resource that was created, I can..."
   ]
  },
  {
   "cell_type": "code",
   "execution_count": 22,
   "metadata": {
    "scrolled": true
   },
   "outputs": [
    {
     "name": "stdout",
     "output_type": "stream",
     "text": [
      "http://fhirtest.b12x.org/r3/Patient/4406/_history/1\n"
     ]
    }
   ],
   "source": [
    "print(response.headers['Location'])"
   ]
  },
  {
   "cell_type": "markdown",
   "metadata": {},
   "source": [
    "Next up, creating a `Specimen` resource that references the `Patient`."
   ]
  },
  {
   "cell_type": "code",
   "execution_count": null,
   "metadata": {},
   "outputs": [],
   "source": []
  }
 ],
 "metadata": {
  "kernelspec": {
   "display_name": "Python 3",
   "language": "python",
   "name": "python3"
  },
  "language_info": {
   "codemirror_mode": {
    "name": "ipython",
    "version": 3
   },
   "file_extension": ".py",
   "mimetype": "text/x-python",
   "name": "python",
   "nbconvert_exporter": "python",
   "pygments_lexer": "ipython3",
   "version": "3.6.5"
  }
 },
 "nbformat": 4,
 "nbformat_minor": 2
}
