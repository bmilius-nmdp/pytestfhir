{
 "cells": [
  {
   "cell_type": "code",
   "execution_count": 12,
   "metadata": {},
   "outputs": [
    {
     "name": "stdout",
     "output_type": "stream",
     "text": [
      "1\n",
      "5\n",
      "None\n"
     ]
    }
   ],
   "source": [
    "class myClass:\n",
    "    def __init__(self, a=None, b=None, c=None):\n",
    "        self.a = a\n",
    "        self.b = b\n",
    "        self.c = c\n",
    "\n",
    "def doObject(**keywords):\n",
    "    myObj = myClass()\n",
    "    for key in keywords:\n",
    "        setattr(myObj, key, keywords[key])\n",
    "    return myObj\n",
    "        \n",
    "myObject = doObject(a=1, b=5)\n",
    "myObject.__dict__\n",
    "print(myObject.a)\n",
    "print(myObject.b)\n",
    "print(myObject.c)"
   ]
  },
  {
   "cell_type": "code",
   "execution_count": 13,
   "metadata": {},
   "outputs": [
    {
     "name": "stdout",
     "output_type": "stream",
     "text": [
      "1\n",
      "None\n",
      "2\n"
     ]
    }
   ],
   "source": [
    "o = doObject(a=1,c=2)\n",
    "print(o.a)\n",
    "print(o.b)\n",
    "print(o.c)"
   ]
  },
  {
   "cell_type": "code",
   "execution_count": 4,
   "metadata": {},
   "outputs": [
    {
     "name": "stdout",
     "output_type": "stream",
     "text": [
      "Help on package html:\n",
      "\n",
      "NAME\n",
      "    html - General functions for HTML manipulation.\n",
      "\n",
      "PACKAGE CONTENTS\n",
      "    entities\n",
      "    parser\n",
      "\n",
      "FUNCTIONS\n",
      "    escape(s, quote=True)\n",
      "        Replace special characters \"&\", \"<\" and \">\" to HTML-safe sequences.\n",
      "        If the optional flag quote is true (the default), the quotation mark\n",
      "        characters, both double quote (\") and single quote (') characters are also\n",
      "        translated.\n",
      "    \n",
      "    unescape(s)\n",
      "        Convert all named and numeric character references (e.g. &gt;, &#62;,\n",
      "        &x3e;) in the string s to the corresponding unicode characters.\n",
      "        This function uses the rules defined by the HTML 5 standard\n",
      "        for both valid and invalid character references, and the list of\n",
      "        HTML 5 named character references defined in html.entities.html5.\n",
      "\n",
      "DATA\n",
      "    __all__ = ['escape', 'unescape']\n",
      "\n",
      "FILE\n",
      "    /usr/local/Cellar/python/3.6.5/Frameworks/Python.framework/Versions/3.6/lib/python3.6/html/__init__.py\n",
      "\n",
      "\n"
     ]
    }
   ],
   "source": [
    "import html\n",
    "help(html)"
   ]
  },
  {
   "cell_type": "code",
   "execution_count": 11,
   "metadata": {},
   "outputs": [
    {
     "name": "stdout",
     "output_type": "stream",
     "text": [
      "<h1>Hello world!</h1>\n"
     ]
    }
   ],
   "source": [
    "from yattag import Doc\n",
    "doc, tag, text = Doc().tagtext()\n",
    "with tag('h1'):\n",
    "    text('Hello world!')\n",
    "print(doc.getvalue())"
   ]
  },
  {
   "cell_type": "code",
   "execution_count": 21,
   "metadata": {},
   "outputs": [
    {
     "name": "stdout",
     "output_type": "stream",
     "text": [
      "<div xmlns=\"http://www.w3.org/1999/xhtml\"><table><tr><td>hello</td><td>world</td></tr><tr><td>2nd</td><td>row</td></tr></table></div>\n"
     ]
    }
   ],
   "source": [
    "from yattag import Doc\n",
    "myDiv, tag, text = Doc().tagtext()\n",
    "with tag('div', xmlns=\"http://www.w3.org/1999/xhtml\"):\n",
    "    with tag('table'):\n",
    "        with tag('tr'):\n",
    "            with tag('td'):\n",
    "                text('hello')\n",
    "            with tag('td'):\n",
    "                text('world')\n",
    "        with tag('tr'):\n",
    "            with tag('td'):\n",
    "                text('2nd')\n",
    "            with tag('td'):\n",
    "                text('row')\n",
    "print(myDiv.getvalue())\n"
   ]
  },
  {
   "cell_type": "code",
   "execution_count": null,
   "metadata": {},
   "outputs": [],
   "source": []
  }
 ],
 "metadata": {
  "kernelspec": {
   "display_name": "Python 3",
   "language": "python",
   "name": "python3"
  },
  "language_info": {
   "codemirror_mode": {
    "name": "ipython",
    "version": 3
   },
   "file_extension": ".py",
   "mimetype": "text/x-python",
   "name": "python",
   "nbconvert_exporter": "python",
   "pygments_lexer": "ipython3",
   "version": "3.6.5"
  }
 },
 "nbformat": 4,
 "nbformat_minor": 2
}
