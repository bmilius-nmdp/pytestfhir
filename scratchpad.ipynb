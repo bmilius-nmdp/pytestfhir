{
 "cells": [
  {
   "cell_type": "code",
   "execution_count": 12,
   "metadata": {},
   "outputs": [
    {
     "name": "stdout",
     "output_type": "stream",
     "text": [
      "1\n",
      "5\n",
      "None\n"
     ]
    }
   ],
   "source": [
    "class myClass:\n",
    "    def __init__(self, a=None, b=None, c=None):\n",
    "        self.a = a\n",
    "        self.b = b\n",
    "        self.c = c\n",
    "\n",
    "def doObject(**keywords):\n",
    "    myObj = myClass()\n",
    "    for key in keywords:\n",
    "        setattr(myObj, key, keywords[key])\n",
    "    return myObj\n",
    "        \n",
    "myObject = doObject(a=1, b=5)\n",
    "myObject.__dict__\n",
    "print(myObject.a)\n",
    "print(myObject.b)\n",
    "print(myObject.c)"
   ]
  },
  {
   "cell_type": "code",
   "execution_count": 13,
   "metadata": {},
   "outputs": [
    {
     "name": "stdout",
     "output_type": "stream",
     "text": [
      "1\n",
      "None\n",
      "2\n"
     ]
    }
   ],
   "source": [
    "o = doObject(a=1,c=2)\n",
    "print(o.a)\n",
    "print(o.b)\n",
    "print(o.c)"
   ]
  },
  {
   "cell_type": "code",
   "execution_count": null,
   "metadata": {},
   "outputs": [],
   "source": []
  }
 ],
 "metadata": {
  "kernelspec": {
   "display_name": "Python 3",
   "language": "python",
   "name": "python3"
  },
  "language_info": {
   "codemirror_mode": {
    "name": "ipython",
    "version": 3
   },
   "file_extension": ".py",
   "mimetype": "text/x-python",
   "name": "python",
   "nbconvert_exporter": "python",
   "pygments_lexer": "ipython3",
   "version": "3.6.5"
  }
 },
 "nbformat": 4,
 "nbformat_minor": 2
}
