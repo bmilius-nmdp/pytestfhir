{
 "cells": [
  {
   "cell_type": "markdown",
   "metadata": {},
   "source": [
    "# Work in Progress!!"
   ]
  },
  {
   "cell_type": "markdown",
   "metadata": {},
   "source": [
    "## Exploring the `fhirclient` package: Creating a transaction Bundle containing Patient, Speciment, and Observation Resources\n",
    "\n",
    "Here we will create a Patient resource, a Specimen from that Patient, and an Observation from that Specimen. All of these will be placed into a FHIR transaction Bundle and uploaded to a FHIR server.\n",
    "\n",
    "Note: some of this material is from `makePatient.ipynb` and `makeSpecimen.ipynb` notebooks.\n",
    "\n",
    "* install with \n",
    "    * `pip install fhirclient`\n",
    "    * if you are using `pipenv` to manage your environments, then you can instead run `pipenv install fhirclient`\n",
    "    * note: I modified `fhirclient/models/fhirabstractresource.py` so I can get the full response headers, and also have transaction bundles POST to the base url (see below), so copied the [`fhirclient`](https://github.com/smart-on-fhir/client-py/tree/master/fhirclient) package into my repo and edited it there. Doing this, I don't need to do the `pip install fhirclient`.\n",
    "* versions\n",
    "    * 3.2 (current at time of writing) is for STU3\n",
    "    * 1.0.3 is for DSTU2\n",
    "* github\n",
    "    * https://github.com/smart-on-fhir/client-py\n",
    "* Documentation\n",
    "    * http://docs.smarthealthit.org/client-py/\n"
   ]
  },
  {
   "cell_type": "markdown",
   "metadata": {},
   "source": [
    "\n",
    "---\n",
    "## Creating a Patient\n",
    "\n",
    "    \n",
    "There is an example in the fhirclient documentation that shows how to create a Patient resource..."
   ]
  },
  {
   "cell_type": "code",
   "execution_count": 1,
   "metadata": {},
   "outputs": [],
   "source": [
    "import fhirclient.models.patient as p\n",
    "patient = p.Patient()"
   ]
  },
  {
   "cell_type": "markdown",
   "metadata": {},
   "source": [
    "But the docs are sparse at describing the methods and attributes that are in it, at least for newbies. \n",
    "\n",
    "### Using `help()`\n",
    "We can use `help()` to find out more about the `patient` object."
   ]
  },
  {
   "cell_type": "code",
   "execution_count": 2,
   "metadata": {},
   "outputs": [
    {
     "name": "stdout",
     "output_type": "stream",
     "text": [
      "Help on Patient in module fhirclient.models.patient object:\n",
      "\n",
      "class Patient(fhirclient.models.domainresource.DomainResource)\n",
      " |  Patient(jsondict=None, strict=True)\n",
      " |  \n",
      " |  Information about an individual or animal receiving health care services.\n",
      " |  \n",
      " |  Demographics and other administrative information about an individual or\n",
      " |  animal receiving care or other health-related services.\n",
      " |  \n",
      " |  Method resolution order:\n",
      " |      Patient\n",
      " |      fhirclient.models.domainresource.DomainResource\n",
      " |      fhirclient.models.resource.Resource\n",
      " |      fhirclient.models.fhirabstractresource.FHIRAbstractResource\n",
      " |      fhirclient.models.fhirabstractbase.FHIRAbstractBase\n",
      " |      builtins.object\n",
      " |  \n",
      " |  Methods defined here:\n",
      " |  \n",
      " |  __init__(self, jsondict=None, strict=True)\n",
      " |      Initialize all valid properties.\n",
      " |      \n",
      " |      :raises: FHIRValidationError on validation errors, unless strict is False\n",
      " |      :param dict jsondict: A JSON dictionary to use for initialization\n",
      " |      :param bool strict: If True (the default), invalid variables will raise a TypeError\n",
      " |  \n",
      " |  elementProperties(self)\n",
      " |      Returns a list of tuples, one tuple for each property that should\n",
      " |      be serialized, as: (\"name\", \"json_name\", type, is_list, \"of_many\", not_optional)\n",
      " |  \n",
      " |  ----------------------------------------------------------------------\n",
      " |  Data and other attributes defined here:\n",
      " |  \n",
      " |  resource_type = 'Patient'\n",
      " |  \n",
      " |  ----------------------------------------------------------------------\n",
      " |  Methods inherited from fhirclient.models.fhirabstractresource.FHIRAbstractResource:\n",
      " |  \n",
      " |  as_json(self)\n",
      " |      Serializes to JSON by inspecting `elementProperties()` and creating\n",
      " |      a JSON dictionary of all registered properties. Checks:\n",
      " |      \n",
      " |      - whether required properties are not None (and lists not empty)\n",
      " |      - whether not-None properties are of the correct type\n",
      " |      \n",
      " |      :raises: FHIRValidationError if properties have the wrong type or if\n",
      " |          required properties are empty\n",
      " |      :returns: A validated dict object that can be JSON serialized\n",
      " |  \n",
      " |  create(self, server)\n",
      " |      Attempt to create the receiver on the given server, using a POST\n",
      " |      command.\n",
      " |      \n",
      " |      :param FHIRServer server: The server to create the receiver on\n",
      " |      :returns: None or the response JSON on success\n",
      " |  \n",
      " |  delete(self, server=None)\n",
      " |      Delete the receiver from the given server with a DELETE command.\n",
      " |      \n",
      " |      :param FHIRServer server: The server to update the receiver on;\n",
      " |          optional, will use the instance's `server` if needed.\n",
      " |      :returns: None or the response JSON on success\n",
      " |  \n",
      " |  process(self, server)\n",
      " |      For processing transaction or batch bundles.\n",
      " |      Attempt to create the receiver on the given server, using a POST\n",
      " |      command.\n",
      " |      \n",
      " |      :param FHIRServer server: The server to create the receiver on\n",
      " |      :returns: None or the response JSON on success\n",
      " |  \n",
      " |  relativeBase(self)\n",
      " |  \n",
      " |  relativePath(self)\n",
      " |  \n",
      " |  search(self, struct=None)\n",
      " |      Search can be started via a dictionary containing a search\n",
      " |      construct.\n",
      " |      \n",
      " |      Calling this method with a search struct will return a `FHIRSearch`\n",
      " |      object representing the search struct, with \"$type\" and \"id\" added.\n",
      " |      \n",
      " |      :param dict struct: An optional search structure\n",
      " |      :returns: A FHIRSearch instance\n",
      " |  \n",
      " |  update(self, server=None)\n",
      " |      Update the receiver's representation on the given server, issuing\n",
      " |      a PUT command.\n",
      " |      \n",
      " |      :param FHIRServer server: The server to update the receiver on;\n",
      " |          optional, will use the instance's `server` if needed.\n",
      " |      :returns: None or the response JSON on success\n",
      " |  \n",
      " |  ----------------------------------------------------------------------\n",
      " |  Class methods inherited from fhirclient.models.fhirabstractresource.FHIRAbstractResource:\n",
      " |  \n",
      " |  read(rem_id, server) from builtins.type\n",
      " |      Read the resource with the given id from the given server. The\n",
      " |      passed-in server instance must support a `request_json()` method call,\n",
      " |      taking a relative path as first (and only mandatory) argument.\n",
      " |      \n",
      " |      :param str rem_id: The id of the resource on the remote server\n",
      " |      :param FHIRServer server: An instance of a FHIR server or compatible class\n",
      " |      :returns: An instance of the receiving class\n",
      " |  \n",
      " |  read_from(path, server) from builtins.type\n",
      " |      Requests data from the given REST path on the server and creates\n",
      " |      an instance of the receiving class.\n",
      " |      \n",
      " |      :param str path: The REST path to read from\n",
      " |      :param FHIRServer server: An instance of a FHIR server or compatible class\n",
      " |      :returns: An instance of the receiving class\n",
      " |  \n",
      " |  where(struct) from builtins.type\n",
      " |      Search can be started via a dictionary containing a search\n",
      " |      construct.\n",
      " |      \n",
      " |      Calling this method with a search struct will return a `FHIRSearch`\n",
      " |      object representing the search struct\n",
      " |      \n",
      " |      :param dict struct: A search structure\n",
      " |      :returns: A FHIRSearch instance\n",
      " |  \n",
      " |  ----------------------------------------------------------------------\n",
      " |  Data descriptors inherited from fhirclient.models.fhirabstractresource.FHIRAbstractResource:\n",
      " |  \n",
      " |  server\n",
      " |      Walks the owner hierarchy until it finds an owner with a server.\n",
      " |  \n",
      " |  ----------------------------------------------------------------------\n",
      " |  Methods inherited from fhirclient.models.fhirabstractbase.FHIRAbstractBase:\n",
      " |  \n",
      " |  didResolveReference(self, refid, resolved)\n",
      " |      Called by `FHIRResource` when it resolves a reference. Stores the\n",
      " |      resolved reference into the `_resolved` dictionary.\n",
      " |      \n",
      " |      :param refid: The id of the resource that was resolved\n",
      " |      :param refid: The resolved resource, ready to be cached\n",
      " |  \n",
      " |  owningBundle(self)\n",
      " |      Walks the owner hierarchy and returns the next parent that is a\n",
      " |      `Bundle` instance.\n",
      " |  \n",
      " |  owningResource(self)\n",
      " |      Walks the owner hierarchy and returns the next parent that is a\n",
      " |      `DomainResource` instance.\n",
      " |  \n",
      " |  resolvedReference(self, refid)\n",
      " |      Returns the resolved reference with the given id, if it has been\n",
      " |      resolved already. If it hasn't, forwards the call to its owner if it\n",
      " |      has one.\n",
      " |      \n",
      " |      You should probably use `resolve()` on the `FHIRReference` itself.\n",
      " |      \n",
      " |      :param refid: The id of the resource to resolve\n",
      " |      :returns: An instance of `Resource`, if it was found\n",
      " |  \n",
      " |  update_with_json(self, jsondict)\n",
      " |      Update the receiver with data in a JSON dictionary.\n",
      " |      \n",
      " |      :raises: FHIRValidationError on validation errors\n",
      " |      :param dict jsondict: The JSON dictionary to use to update the receiver\n",
      " |      :returns: None on success, a list of errors if there were errors\n",
      " |  \n",
      " |  ----------------------------------------------------------------------\n",
      " |  Class methods inherited from fhirclient.models.fhirabstractbase.FHIRAbstractBase:\n",
      " |  \n",
      " |  with_json(jsonobj) from builtins.type\n",
      " |      Initialize an element from a JSON dictionary or array.\n",
      " |      \n",
      " |      If the JSON dictionary has a \"resourceType\" entry and the specified\n",
      " |      resource type is not the receiving classes type, uses\n",
      " |      `FHIRElementFactory` to return a correct class instance.\n",
      " |      \n",
      " |      :raises: TypeError on anything but dict or list of dicts\n",
      " |      :raises: FHIRValidationError if instantiation fails\n",
      " |      :param jsonobj: A dict or list of dicts to instantiate from\n",
      " |      :returns: An instance or a list of instances created from JSON data\n",
      " |  \n",
      " |  with_json_and_owner(jsonobj, owner) from builtins.type\n",
      " |      Instantiates by forwarding to `with_json()`, then remembers the\n",
      " |      \"owner\" of the instantiated elements. The \"owner\" is the resource\n",
      " |      containing the receiver and is used to resolve contained resources.\n",
      " |      \n",
      " |      :raises: TypeError on anything but dict or list of dicts\n",
      " |      :raises: FHIRValidationError if instantiation fails\n",
      " |      :param dict jsonobj: Decoded JSON dictionary (or list thereof)\n",
      " |      :param FHIRElement owner: The owning parent\n",
      " |      :returns: An instance or a list of instances created from JSON data\n",
      " |  \n",
      " |  ----------------------------------------------------------------------\n",
      " |  Data descriptors inherited from fhirclient.models.fhirabstractbase.FHIRAbstractBase:\n",
      " |  \n",
      " |  __dict__\n",
      " |      dictionary for instance variables (if defined)\n",
      " |  \n",
      " |  __weakref__\n",
      " |      list of weak references to the object (if defined)\n",
      "\n"
     ]
    }
   ],
   "source": [
    "help(patient)"
   ]
  },
  {
   "cell_type": "markdown",
   "metadata": {},
   "source": [
    "### The `.elementProperties()` method looks interesting\n",
    "\n",
    "```\n",
    "|  elementProperties(self)\n",
    "|    Returns a list of tuples, one tuple for each property that should\n",
    "|    be serialized, as: (\"name\", \"json_name\", type, is_list, \"of_many\", not_optional)\n",
    "```"
   ]
  },
  {
   "cell_type": "code",
   "execution_count": 3,
   "metadata": {},
   "outputs": [
    {
     "data": {
      "text/plain": [
       "[('id', 'id', str, False, None, False),\n",
       " ('implicitRules', 'implicitRules', str, False, None, False),\n",
       " ('language', 'language', str, False, None, False),\n",
       " ('meta', 'meta', fhirclient.models.meta.Meta, False, None, False),\n",
       " ('contained',\n",
       "  'contained',\n",
       "  fhirclient.models.resource.Resource,\n",
       "  True,\n",
       "  None,\n",
       "  False),\n",
       " ('extension',\n",
       "  'extension',\n",
       "  fhirclient.models.extension.Extension,\n",
       "  True,\n",
       "  None,\n",
       "  False),\n",
       " ('modifierExtension',\n",
       "  'modifierExtension',\n",
       "  fhirclient.models.extension.Extension,\n",
       "  True,\n",
       "  None,\n",
       "  False),\n",
       " ('text', 'text', fhirclient.models.narrative.Narrative, False, None, False),\n",
       " ('active', 'active', bool, False, None, False),\n",
       " ('address', 'address', fhirclient.models.address.Address, True, None, False),\n",
       " ('animal',\n",
       "  'animal',\n",
       "  fhirclient.models.patient.PatientAnimal,\n",
       "  False,\n",
       "  None,\n",
       "  False),\n",
       " ('birthDate',\n",
       "  'birthDate',\n",
       "  fhirclient.models.fhirdate.FHIRDate,\n",
       "  False,\n",
       "  None,\n",
       "  False),\n",
       " ('communication',\n",
       "  'communication',\n",
       "  fhirclient.models.patient.PatientCommunication,\n",
       "  True,\n",
       "  None,\n",
       "  False),\n",
       " ('contact',\n",
       "  'contact',\n",
       "  fhirclient.models.patient.PatientContact,\n",
       "  True,\n",
       "  None,\n",
       "  False),\n",
       " ('deceasedBoolean', 'deceasedBoolean', bool, False, 'deceased', False),\n",
       " ('deceasedDateTime',\n",
       "  'deceasedDateTime',\n",
       "  fhirclient.models.fhirdate.FHIRDate,\n",
       "  False,\n",
       "  'deceased',\n",
       "  False),\n",
       " ('gender', 'gender', str, False, None, False),\n",
       " ('generalPractitioner',\n",
       "  'generalPractitioner',\n",
       "  fhirclient.models.fhirreference.FHIRReference,\n",
       "  True,\n",
       "  None,\n",
       "  False),\n",
       " ('identifier',\n",
       "  'identifier',\n",
       "  fhirclient.models.identifier.Identifier,\n",
       "  True,\n",
       "  None,\n",
       "  False),\n",
       " ('link', 'link', fhirclient.models.patient.PatientLink, True, None, False),\n",
       " ('managingOrganization',\n",
       "  'managingOrganization',\n",
       "  fhirclient.models.fhirreference.FHIRReference,\n",
       "  False,\n",
       "  None,\n",
       "  False),\n",
       " ('maritalStatus',\n",
       "  'maritalStatus',\n",
       "  fhirclient.models.codeableconcept.CodeableConcept,\n",
       "  False,\n",
       "  None,\n",
       "  False),\n",
       " ('multipleBirthBoolean',\n",
       "  'multipleBirthBoolean',\n",
       "  bool,\n",
       "  False,\n",
       "  'multipleBirth',\n",
       "  False),\n",
       " ('multipleBirthInteger',\n",
       "  'multipleBirthInteger',\n",
       "  int,\n",
       "  False,\n",
       "  'multipleBirth',\n",
       "  False),\n",
       " ('name', 'name', fhirclient.models.humanname.HumanName, True, None, False),\n",
       " ('photo',\n",
       "  'photo',\n",
       "  fhirclient.models.attachment.Attachment,\n",
       "  True,\n",
       "  None,\n",
       "  False),\n",
       " ('telecom',\n",
       "  'telecom',\n",
       "  fhirclient.models.contactpoint.ContactPoint,\n",
       "  True,\n",
       "  None,\n",
       "  False)]"
      ]
     },
     "execution_count": 3,
     "metadata": {},
     "output_type": "execute_result"
    }
   ],
   "source": [
    "patient.elementProperties()"
   ]
  },
  {
   "cell_type": "markdown",
   "metadata": {},
   "source": [
    "Yep, we see a list of tuples. \n",
    "\n",
    "Let's make it a little easier to read."
   ]
  },
  {
   "cell_type": "code",
   "execution_count": 4,
   "metadata": {},
   "outputs": [
    {
     "name": "stdout",
     "output_type": "stream",
     "text": [
      "('id', 'id', <class 'str'>, False, None, False)\n",
      "('implicitRules', 'implicitRules', <class 'str'>, False, None, False)\n",
      "('language', 'language', <class 'str'>, False, None, False)\n",
      "('meta', 'meta', <class 'fhirclient.models.meta.Meta'>, False, None, False)\n",
      "('contained', 'contained', <class 'fhirclient.models.resource.Resource'>, True, None, False)\n",
      "('extension', 'extension', <class 'fhirclient.models.extension.Extension'>, True, None, False)\n",
      "('modifierExtension', 'modifierExtension', <class 'fhirclient.models.extension.Extension'>, True, None, False)\n",
      "('text', 'text', <class 'fhirclient.models.narrative.Narrative'>, False, None, False)\n",
      "('active', 'active', <class 'bool'>, False, None, False)\n",
      "('address', 'address', <class 'fhirclient.models.address.Address'>, True, None, False)\n",
      "('animal', 'animal', <class 'fhirclient.models.patient.PatientAnimal'>, False, None, False)\n",
      "('birthDate', 'birthDate', <class 'fhirclient.models.fhirdate.FHIRDate'>, False, None, False)\n",
      "('communication', 'communication', <class 'fhirclient.models.patient.PatientCommunication'>, True, None, False)\n",
      "('contact', 'contact', <class 'fhirclient.models.patient.PatientContact'>, True, None, False)\n",
      "('deceasedBoolean', 'deceasedBoolean', <class 'bool'>, False, 'deceased', False)\n",
      "('deceasedDateTime', 'deceasedDateTime', <class 'fhirclient.models.fhirdate.FHIRDate'>, False, 'deceased', False)\n",
      "('gender', 'gender', <class 'str'>, False, None, False)\n",
      "('generalPractitioner', 'generalPractitioner', <class 'fhirclient.models.fhirreference.FHIRReference'>, True, None, False)\n",
      "('identifier', 'identifier', <class 'fhirclient.models.identifier.Identifier'>, True, None, False)\n",
      "('link', 'link', <class 'fhirclient.models.patient.PatientLink'>, True, None, False)\n",
      "('managingOrganization', 'managingOrganization', <class 'fhirclient.models.fhirreference.FHIRReference'>, False, None, False)\n",
      "('maritalStatus', 'maritalStatus', <class 'fhirclient.models.codeableconcept.CodeableConcept'>, False, None, False)\n",
      "('multipleBirthBoolean', 'multipleBirthBoolean', <class 'bool'>, False, 'multipleBirth', False)\n",
      "('multipleBirthInteger', 'multipleBirthInteger', <class 'int'>, False, 'multipleBirth', False)\n",
      "('name', 'name', <class 'fhirclient.models.humanname.HumanName'>, True, None, False)\n",
      "('photo', 'photo', <class 'fhirclient.models.attachment.Attachment'>, True, None, False)\n",
      "('telecom', 'telecom', <class 'fhirclient.models.contactpoint.ContactPoint'>, True, None, False)\n"
     ]
    }
   ],
   "source": [
    "for eproperty in patient.elementProperties():\n",
    "    print(eproperty)"
   ]
  },
  {
   "cell_type": "markdown",
   "metadata": {},
   "source": [
    "Each tuple has six members. From the `help(patient)` result, we see what each member is:\n",
    "```\n",
    "|  elementProperties(self)\n",
    "|    Returns a list of tuples, one tuple for each property that should\n",
    "|    be serialized, as: (\"name\", \"json_name\", type, is_list, \"of_many\", not_optional)\n",
    "```\n",
    "The first three items in a tuple are easy to figure out. The last three required looking at the FHIR [Patient](http://build.fhir.org/patient.html) resource specification to confirm suspicions.\n",
    "* `is_list` = Boolean that indicates if more than one member is allowed and therefore should be in a `list`, e.g., cardinality of `0..*`\n",
    "* `of_many` = choice of data types (pick one), with prefix indicated, e.g, `deceasedBoolean` or `deceasedDateTime`\n",
    "* `not_optional` = required, e.g., cardinality of `1..*`\n",
    "\n",
    "How many of these `patient` properties are required?"
   ]
  },
  {
   "cell_type": "code",
   "execution_count": 5,
   "metadata": {},
   "outputs": [
    {
     "data": {
      "text/plain": [
       "0"
      ]
     },
     "execution_count": 5,
     "metadata": {},
     "output_type": "execute_result"
    }
   ],
   "source": [
    "required = []\n",
    "for eproperty in patient.elementProperties():\n",
    "    if eproperty[5] == True:\n",
    "        required.append(eproperty)\n",
    "len(required)"
   ]
  },
  {
   "cell_type": "code",
   "execution_count": null,
   "metadata": {},
   "outputs": [],
   "source": [
    "from collections import namedtuple\n",
    "namedProperties = namedtuple(\"name\", \"json_name\", \"type\", \"is_list\", \"of_many\", \"not_optional\")\n",
    "e = namedProperties(*)"
   ]
  },
  {
   "cell_type": "markdown",
   "metadata": {},
   "source": [
    "Nothing is actually required for this resource. Everything is optional.\n",
    "\n",
    "How many can have more than one and need to be captured in a `list`?"
   ]
  },
  {
   "cell_type": "code",
   "execution_count": 6,
   "metadata": {},
   "outputs": [
    {
     "data": {
      "text/plain": [
       "12"
      ]
     },
     "execution_count": 6,
     "metadata": {},
     "output_type": "execute_result"
    }
   ],
   "source": [
    "islist = []\n",
    "for eproperty in patient.elementProperties():\n",
    "    if eproperty[3] == True:\n",
    "        islist.append(eproperty)\n",
    "len(islist)"
   ]
  },
  {
   "cell_type": "markdown",
   "metadata": {},
   "source": [
    "What are they?"
   ]
  },
  {
   "cell_type": "code",
   "execution_count": 7,
   "metadata": {},
   "outputs": [
    {
     "name": "stdout",
     "output_type": "stream",
     "text": [
      "('contained', 'contained', <class 'fhirclient.models.resource.Resource'>, True, None, False)\n",
      "('extension', 'extension', <class 'fhirclient.models.extension.Extension'>, True, None, False)\n",
      "('modifierExtension', 'modifierExtension', <class 'fhirclient.models.extension.Extension'>, True, None, False)\n",
      "('address', 'address', <class 'fhirclient.models.address.Address'>, True, None, False)\n",
      "('communication', 'communication', <class 'fhirclient.models.patient.PatientCommunication'>, True, None, False)\n",
      "('contact', 'contact', <class 'fhirclient.models.patient.PatientContact'>, True, None, False)\n",
      "('generalPractitioner', 'generalPractitioner', <class 'fhirclient.models.fhirreference.FHIRReference'>, True, None, False)\n",
      "('identifier', 'identifier', <class 'fhirclient.models.identifier.Identifier'>, True, None, False)\n",
      "('link', 'link', <class 'fhirclient.models.patient.PatientLink'>, True, None, False)\n",
      "('name', 'name', <class 'fhirclient.models.humanname.HumanName'>, True, None, False)\n",
      "('photo', 'photo', <class 'fhirclient.models.attachment.Attachment'>, True, None, False)\n",
      "('telecom', 'telecom', <class 'fhirclient.models.contactpoint.ContactPoint'>, True, None, False)\n"
     ]
    }
   ],
   "source": [
    "for eproperty in islist:\n",
    "    print(eproperty)"
   ]
  },
  {
   "cell_type": "markdown",
   "metadata": {},
   "source": [
    "Those 12 properties must be captured in a `list`.\n",
    "\n",
    "Which, if any, of the patient properties are `of_many`?"
   ]
  },
  {
   "cell_type": "code",
   "execution_count": 8,
   "metadata": {},
   "outputs": [
    {
     "name": "stdout",
     "output_type": "stream",
     "text": [
      "('deceasedBoolean', 'deceasedBoolean', <class 'bool'>, False, 'deceased', False)\n",
      "('deceasedDateTime', 'deceasedDateTime', <class 'fhirclient.models.fhirdate.FHIRDate'>, False, 'deceased', False)\n",
      "('multipleBirthBoolean', 'multipleBirthBoolean', <class 'bool'>, False, 'multipleBirth', False)\n",
      "('multipleBirthInteger', 'multipleBirthInteger', <class 'int'>, False, 'multipleBirth', False)\n"
     ]
    }
   ],
   "source": [
    "for eproperty in patient.elementProperties():\n",
    "    if eproperty[4] != None:\n",
    "        print(eproperty)"
   ]
  },
  {
   "cell_type": "markdown",
   "metadata": {},
   "source": [
    "<div class=\"alert alert-block alert-info\">A word about choice of data types. From http://build.fhir.org/formats.html#choice,\n",
    "<p>\n",
    "<i>Elements that have a choice of data type cannot repeat - they must have a maximum cardinality of 1. When constructing an instance of an element with a choice of types, the authoring system must create a single element with a data type chosen from among the list of permitted data types.</i>\n",
    "</div>"
   ]
  },
  {
   "cell_type": "markdown",
   "metadata": {},
   "source": [
    "### The `.as_json()` method\n",
    "Another method for the patient object is `.as_json()` which was inherited from <br>\n",
    "`fhirclient.models.fhirabstractresource.FHIRAbstractResource`<p>\n",
    "from `help(patient)`\n",
    "```\n",
    " |   as_json(self)\n",
    " |      Serializes to JSON by inspecting `elementProperties()` and creating\n",
    " |      a JSON dictionary of all registered properties. Checks:\n",
    " |      \n",
    " |      - whether required properties are not None (and lists not empty)\n",
    " |      - whether not-None properties are of the correct type\n",
    " |      \n",
    " |      :raises: FHIRValidationError if properties have the wrong type or if\n",
    " |          required properties are empty\n",
    " |      :returns: A validated dict object that can be JSON serialized\n",
    "```\n",
    "    \n",
    "Let's try it."
   ]
  },
  {
   "cell_type": "code",
   "execution_count": 9,
   "metadata": {},
   "outputs": [
    {
     "data": {
      "text/plain": [
       "{'resourceType': 'Patient'}"
      ]
     },
     "execution_count": 9,
     "metadata": {},
     "output_type": "execute_result"
    }
   ],
   "source": [
    "patient.as_json()"
   ]
  },
  {
   "cell_type": "markdown",
   "metadata": {},
   "source": [
    "When patient was created, it automatically filled in the `resourceType`, which interestingly isn't one of the properties returned by `patient.elementProperties`"
   ]
  },
  {
   "cell_type": "markdown",
   "metadata": {},
   "source": [
    "We can pretty print this with `json.dumps()`"
   ]
  },
  {
   "cell_type": "code",
   "execution_count": 10,
   "metadata": {},
   "outputs": [
    {
     "name": "stdout",
     "output_type": "stream",
     "text": [
      "{\n",
      "    \"resourceType\": \"Patient\"\n",
      "}\n"
     ]
    }
   ],
   "source": [
    "import json\n",
    "print(json.dumps(patient.as_json(), indent=4))"
   ]
  },
  {
   "cell_type": "markdown",
   "metadata": {},
   "source": [
    "### Add a name to Patient\n",
    "\n",
    "We see from `patient.elementsProperties()` that `name` has a type of `<class 'fhirclient.models.humanname.HumanName'>`\n",
    "\n",
    "We'll create a `HumanName` object to hold this, and find out the properties it has."
   ]
  },
  {
   "cell_type": "code",
   "execution_count": 11,
   "metadata": {},
   "outputs": [
    {
     "name": "stdout",
     "output_type": "stream",
     "text": [
      "('extension', 'extension', <class 'fhirclient.models.extension.Extension'>, True, None, False)\n",
      "('id', 'id', <class 'str'>, False, None, False)\n",
      "('family', 'family', <class 'str'>, False, None, False)\n",
      "('given', 'given', <class 'str'>, True, None, False)\n",
      "('period', 'period', <class 'fhirclient.models.period.Period'>, False, None, False)\n",
      "('prefix', 'prefix', <class 'str'>, True, None, False)\n",
      "('suffix', 'suffix', <class 'str'>, True, None, False)\n",
      "('text', 'text', <class 'str'>, False, None, False)\n",
      "('use', 'use', <class 'str'>, False, None, False)\n"
     ]
    }
   ],
   "source": [
    "import fhirclient.models.humanname as hn\n",
    "name = hn.HumanName()\n",
    "for eproperty in name.elementProperties():\n",
    "    print(eproperty)"
   ]
  },
  {
   "cell_type": "markdown",
   "metadata": {},
   "source": [
    "#### Let's build a name\n",
    "Since `given` has `is_list` set to `True`, we need to put it in a list or we'll get a `FHIRValidationError`. This is so we can have additional names as part of the full name (e.g., middle names). Since we can, we'll add a middle name. "
   ]
  },
  {
   "cell_type": "code",
   "execution_count": 12,
   "metadata": {},
   "outputs": [],
   "source": [
    "name.family = 'Storm'\n",
    "name.given = ['Jonathon', 'Lowell']\n",
    "name.text = 'Jonathon Lowell Storm'"
   ]
  },
  {
   "cell_type": "markdown",
   "metadata": {},
   "source": [
    "We can now define how the name is used. I haven't figured out if the valueset for `use` can be found in the models, but reading the specification for [`HumanName`](http://hl7.org/implement/standards/fhir/datatypes.html#HumanName), I see that `use` must be from http://hl7.org/implement/standards/fhir/valueset-name-use.html. We'll make it for `official` use. If we mistype this, a `FHIRValidationError` won't pop up here, but the FHIR server might when we POST it."
   ]
  },
  {
   "cell_type": "code",
   "execution_count": 13,
   "metadata": {},
   "outputs": [
    {
     "name": "stdout",
     "output_type": "stream",
     "text": [
      "{\n",
      "    \"family\": \"Storm\",\n",
      "    \"given\": [\n",
      "        \"Jonathon\",\n",
      "        \"Lowell\"\n",
      "    ],\n",
      "    \"text\": \"Jonathon Lowell Storm\",\n",
      "    \"use\": \"official\"\n",
      "}\n"
     ]
    }
   ],
   "source": [
    "name.use = 'official'\n",
    "print(json.dumps(name.as_json(), indent=4))"
   ]
  },
  {
   "cell_type": "markdown",
   "metadata": {},
   "source": [
    "Now add `name` to `patient`. Again, since `name` has `is_list` set to true, we need to put it in a list."
   ]
  },
  {
   "cell_type": "code",
   "execution_count": 14,
   "metadata": {},
   "outputs": [
    {
     "name": "stdout",
     "output_type": "stream",
     "text": [
      "{\n",
      "    \"name\": [\n",
      "        {\n",
      "            \"family\": \"Storm\",\n",
      "            \"given\": [\n",
      "                \"Jonathon\",\n",
      "                \"Lowell\"\n",
      "            ],\n",
      "            \"text\": \"Jonathon Lowell Storm\",\n",
      "            \"use\": \"official\"\n",
      "        }\n",
      "    ],\n",
      "    \"resourceType\": \"Patient\"\n",
      "}\n"
     ]
    }
   ],
   "source": [
    "patient.name = [name]\n",
    "print(json.dumps(patient.as_json(), indent=4))"
   ]
  },
  {
   "cell_type": "markdown",
   "metadata": {},
   "source": [
    "Since we can have more than one name, let's add a couple of nicknames."
   ]
  },
  {
   "cell_type": "code",
   "execution_count": 15,
   "metadata": {},
   "outputs": [],
   "source": [
    "name2 = hn.HumanName()\n",
    "name2.given = ['Johnny']\n",
    "name2.family = 'Storm'\n",
    "name2.use = 'nickname'\n",
    "name3 = hn.HumanName()\n",
    "name3.text = 'Human Torch'\n",
    "name3.use = 'nickname'\n",
    "patient.name.extend([name2, name3])"
   ]
  },
  {
   "cell_type": "markdown",
   "metadata": {},
   "source": [
    "Now let's see what the final Patient resource instance looks like."
   ]
  },
  {
   "cell_type": "code",
   "execution_count": 16,
   "metadata": {},
   "outputs": [
    {
     "name": "stdout",
     "output_type": "stream",
     "text": [
      "{\n",
      "    \"name\": [\n",
      "        {\n",
      "            \"family\": \"Storm\",\n",
      "            \"given\": [\n",
      "                \"Jonathon\",\n",
      "                \"Lowell\"\n",
      "            ],\n",
      "            \"text\": \"Jonathon Lowell Storm\",\n",
      "            \"use\": \"official\"\n",
      "        },\n",
      "        {\n",
      "            \"family\": \"Storm\",\n",
      "            \"given\": [\n",
      "                \"Johnny\"\n",
      "            ],\n",
      "            \"use\": \"nickname\"\n",
      "        },\n",
      "        {\n",
      "            \"text\": \"Human Torch\",\n",
      "            \"use\": \"nickname\"\n",
      "        }\n",
      "    ],\n",
      "    \"resourceType\": \"Patient\"\n",
      "}\n"
     ]
    }
   ],
   "source": [
    "print(json.dumps(patient.as_json(), indent=4))"
   ]
  },
  {
   "cell_type": "markdown",
   "metadata": {},
   "source": [
    "When we put this Patient into a Bundle resource, we will need to tag it with a UUID that other resources in the bundle can reference. We can generate it using the `uuid` package, and just create a new element to hold in in `patient`."
   ]
  },
  {
   "cell_type": "code",
   "execution_count": 17,
   "metadata": {},
   "outputs": [
    {
     "name": "stdout",
     "output_type": "stream",
     "text": [
      "urn:uuid:d3bc8ddd-ba12-4646-9757-01ca4b2c2192\n"
     ]
    }
   ],
   "source": [
    "import uuid\n",
    "patient.uuid = uuid.uuid4().urn\n",
    "print(patient.uuid)"
   ]
  },
  {
   "cell_type": "markdown",
   "metadata": {},
   "source": [
    "One thing I discovered is that even though I can add an attribute to a resource object, it won't affect the behaviour of the methods. For example, I can see `uuid` when I do a `patient.__dict__`, but it's not listed among the `.elementsProperties()` method."
   ]
  },
  {
   "cell_type": "code",
   "execution_count": 18,
   "metadata": {},
   "outputs": [
    {
     "name": "stdout",
     "output_type": "stream",
     "text": [
      "{'_owner': None,\n",
      " '_resolved': None,\n",
      " '_server': None,\n",
      " 'active': None,\n",
      " 'address': None,\n",
      " 'animal': None,\n",
      " 'birthDate': None,\n",
      " 'communication': None,\n",
      " 'contact': None,\n",
      " 'contained': None,\n",
      " 'deceasedBoolean': None,\n",
      " 'deceasedDateTime': None,\n",
      " 'extension': None,\n",
      " 'gender': None,\n",
      " 'generalPractitioner': None,\n",
      " 'id': None,\n",
      " 'identifier': None,\n",
      " 'implicitRules': None,\n",
      " 'language': None,\n",
      " 'link': None,\n",
      " 'managingOrganization': None,\n",
      " 'maritalStatus': None,\n",
      " 'meta': None,\n",
      " 'modifierExtension': None,\n",
      " 'multipleBirthBoolean': None,\n",
      " 'multipleBirthInteger': None,\n",
      " 'name': [<fhirclient.models.humanname.HumanName object at 0x111361278>,\n",
      "          <fhirclient.models.humanname.HumanName object at 0x111361e48>,\n",
      "          <fhirclient.models.humanname.HumanName object at 0x111361e80>],\n",
      " 'photo': None,\n",
      " 'telecom': None,\n",
      " 'text': None,\n",
      " 'uuid': 'urn:uuid:d3bc8ddd-ba12-4646-9757-01ca4b2c2192'}\n"
     ]
    }
   ],
   "source": [
    "import pprint as pp\n",
    "pp.pprint(patient.__dict__)"
   ]
  },
  {
   "cell_type": "code",
   "execution_count": 19,
   "metadata": {},
   "outputs": [
    {
     "name": "stdout",
     "output_type": "stream",
     "text": [
      "{\n",
      "    \"name\": [\n",
      "        {\n",
      "            \"family\": \"Storm\",\n",
      "            \"given\": [\n",
      "                \"Jonathon\",\n",
      "                \"Lowell\"\n",
      "            ],\n",
      "            \"text\": \"Jonathon Lowell Storm\",\n",
      "            \"use\": \"official\"\n",
      "        },\n",
      "        {\n",
      "            \"family\": \"Storm\",\n",
      "            \"given\": [\n",
      "                \"Johnny\"\n",
      "            ],\n",
      "            \"use\": \"nickname\"\n",
      "        },\n",
      "        {\n",
      "            \"text\": \"Human Torch\",\n",
      "            \"use\": \"nickname\"\n",
      "        }\n",
      "    ],\n",
      "    \"resourceType\": \"Patient\"\n",
      "}\n"
     ]
    }
   ],
   "source": [
    "print(json.dumps(patient.as_json(), indent=4))"
   ]
  },
  {
   "cell_type": "markdown",
   "metadata": {},
   "source": [
    "---"
   ]
  },
  {
   "cell_type": "markdown",
   "metadata": {},
   "source": [
    "### Building a Specimen Resource\n",
    "\n",
    "We will build a Specimen resource using the Patient we just created. We'll include information that the specimen was from a buccal swab.\n",
    "\n",
    "import additional packages we need..."
   ]
  },
  {
   "cell_type": "code",
   "execution_count": 20,
   "metadata": {},
   "outputs": [],
   "source": [
    "import fhirclient.models.specimen as s\n",
    "import fhirclient.models.fhirreference as fr\n",
    "import fhirclient.models.codeableconcept as cc\n",
    "import fhirclient.models.coding as co"
   ]
  },
  {
   "cell_type": "markdown",
   "metadata": {},
   "source": [
    "Create a Specimen object and take a look at its' `.elementProperties()`."
   ]
  },
  {
   "cell_type": "code",
   "execution_count": 21,
   "metadata": {},
   "outputs": [
    {
     "name": "stdout",
     "output_type": "stream",
     "text": [
      "('id', 'id', <class 'str'>, False, None, False)\n",
      "('implicitRules', 'implicitRules', <class 'str'>, False, None, False)\n",
      "('language', 'language', <class 'str'>, False, None, False)\n",
      "('meta', 'meta', <class 'fhirclient.models.meta.Meta'>, False, None, False)\n",
      "('contained', 'contained', <class 'fhirclient.models.resource.Resource'>, True, None, False)\n",
      "('extension', 'extension', <class 'fhirclient.models.extension.Extension'>, True, None, False)\n",
      "('modifierExtension', 'modifierExtension', <class 'fhirclient.models.extension.Extension'>, True, None, False)\n",
      "('text', 'text', <class 'fhirclient.models.narrative.Narrative'>, False, None, False)\n",
      "('accessionIdentifier', 'accessionIdentifier', <class 'fhirclient.models.identifier.Identifier'>, False, None, False)\n",
      "('collection', 'collection', <class 'fhirclient.models.specimen.SpecimenCollection'>, False, None, False)\n",
      "('container', 'container', <class 'fhirclient.models.specimen.SpecimenContainer'>, True, None, False)\n",
      "('identifier', 'identifier', <class 'fhirclient.models.identifier.Identifier'>, True, None, False)\n",
      "('note', 'note', <class 'fhirclient.models.annotation.Annotation'>, True, None, False)\n",
      "('parent', 'parent', <class 'fhirclient.models.fhirreference.FHIRReference'>, True, None, False)\n",
      "('processing', 'processing', <class 'fhirclient.models.specimen.SpecimenProcessing'>, True, None, False)\n",
      "('receivedTime', 'receivedTime', <class 'fhirclient.models.fhirdate.FHIRDate'>, False, None, False)\n",
      "('request', 'request', <class 'fhirclient.models.fhirreference.FHIRReference'>, True, None, False)\n",
      "('status', 'status', <class 'str'>, False, None, False)\n",
      "('subject', 'subject', <class 'fhirclient.models.fhirreference.FHIRReference'>, False, None, True)\n",
      "('type', 'type', <class 'fhirclient.models.codeableconcept.CodeableConcept'>, False, None, False)\n"
     ]
    }
   ],
   "source": [
    "mySpecimen = s.Specimen()\n",
    "for eproperty in mySpecimen.elementProperties():\n",
    "    print(eproperty)"
   ]
  },
  {
   "cell_type": "markdown",
   "metadata": {},
   "source": [
    "Which, if any, are required? We'll look at the `not_optional` boolean which is in the last position of the tuple.\n",
    "\n",
    "Since we'll do this again for other objects, we'll create a little function to determine this."
   ]
  },
  {
   "cell_type": "code",
   "execution_count": 22,
   "metadata": {},
   "outputs": [],
   "source": [
    "def whatsRequired(fhirObject):\n",
    "    required = False\n",
    "    for eproperty in fhirObject.elementProperties():\n",
    "        if eproperty[5] == True:\n",
    "            print(eproperty)\n",
    "            required = True\n",
    "    if not required:\n",
    "        print(\"Nothing is required\")"
   ]
  },
  {
   "cell_type": "code",
   "execution_count": 23,
   "metadata": {},
   "outputs": [
    {
     "name": "stdout",
     "output_type": "stream",
     "text": [
      "('subject', 'subject', <class 'fhirclient.models.fhirreference.FHIRReference'>, False, None, True)\n"
     ]
    }
   ],
   "source": [
    "whatsRequired(mySpecimen)"
   ]
  },
  {
   "cell_type": "markdown",
   "metadata": {},
   "source": [
    "Only `subject` is required. Our Subject will be the Patient we created in the previous notebook. We'll use the `uuid` of the Patient that was posted to the same server.\n",
    "We see from `.elementProperties()` that `mySpecimen.subject` is a type of `fhirclient.models.fhirreference.FHIRReference`, so we'll build this.\n",
    "\n",
    "First, create the `FHIRReference` object.</p>"
   ]
  },
  {
   "cell_type": "code",
   "execution_count": 24,
   "metadata": {},
   "outputs": [
    {
     "name": "stdout",
     "output_type": "stream",
     "text": [
      "('extension', 'extension', <class 'fhirclient.models.extension.Extension'>, True, None, False)\n",
      "('id', 'id', <class 'str'>, False, None, False)\n",
      "('display', 'display', <class 'str'>, False, None, False)\n",
      "('identifier', 'identifier', <class 'fhirclient.models.identifier.Identifier'>, False, None, False)\n",
      "('reference', 'reference', <class 'str'>, False, None, False)\n"
     ]
    }
   ],
   "source": [
    "mySubject = fr.FHIRReference()\n",
    "for eproperty in mySubject.elementProperties():\n",
    "    print(eproperty)"
   ]
  },
  {
   "cell_type": "markdown",
   "metadata": {},
   "source": [
    "Which of these is required?"
   ]
  },
  {
   "cell_type": "code",
   "execution_count": 25,
   "metadata": {},
   "outputs": [
    {
     "name": "stdout",
     "output_type": "stream",
     "text": [
      "Nothing is required\n"
     ]
    }
   ],
   "source": [
    "whatsRequired(mySubject)"
   ]
  },
  {
   "cell_type": "markdown",
   "metadata": {},
   "source": [
    "None of the elements inside of `subject` are required. We'll use the `reference` and point to the Patient we created, and then take a look to see how `mySubject` looks so far."
   ]
  },
  {
   "cell_type": "code",
   "execution_count": 26,
   "metadata": {},
   "outputs": [
    {
     "name": "stdout",
     "output_type": "stream",
     "text": [
      "{\n",
      "    \"subject\": {\n",
      "        \"reference\": \"urn:uuid:d3bc8ddd-ba12-4646-9757-01ca4b2c2192\"\n",
      "    },\n",
      "    \"resourceType\": \"Specimen\"\n",
      "}\n"
     ]
    }
   ],
   "source": [
    "mySubject.reference = patient.uuid\n",
    "mySpecimen.subject = mySubject\n",
    "import json\n",
    "print(json.dumps(mySpecimen.as_json(), indent=4))"
   ]
  },
  {
   "cell_type": "markdown",
   "metadata": {},
   "source": [
    "Now we'll add some collection information to this Specimen. "
   ]
  },
  {
   "cell_type": "code",
   "execution_count": 27,
   "metadata": {},
   "outputs": [
    {
     "name": "stdout",
     "output_type": "stream",
     "text": [
      "('extension', 'extension', <class 'fhirclient.models.extension.Extension'>, True, None, False)\n",
      "('id', 'id', <class 'str'>, False, None, False)\n",
      "('modifierExtension', 'modifierExtension', <class 'fhirclient.models.extension.Extension'>, True, None, False)\n",
      "('bodySite', 'bodySite', <class 'fhirclient.models.codeableconcept.CodeableConcept'>, False, None, False)\n",
      "('collectedDateTime', 'collectedDateTime', <class 'fhirclient.models.fhirdate.FHIRDate'>, False, 'collected', False)\n",
      "('collectedPeriod', 'collectedPeriod', <class 'fhirclient.models.period.Period'>, False, 'collected', False)\n",
      "('collector', 'collector', <class 'fhirclient.models.fhirreference.FHIRReference'>, False, None, False)\n",
      "('method', 'method', <class 'fhirclient.models.codeableconcept.CodeableConcept'>, False, None, False)\n",
      "('quantity', 'quantity', <class 'fhirclient.models.quantity.Quantity'>, False, None, False)\n"
     ]
    }
   ],
   "source": [
    "myCollection = s.SpecimenCollection()\n",
    "for eproperty in myCollection.elementProperties():    \n",
    "    print(eproperty)"
   ]
  },
  {
   "cell_type": "code",
   "execution_count": 28,
   "metadata": {},
   "outputs": [
    {
     "name": "stdout",
     "output_type": "stream",
     "text": [
      "Nothing is required\n"
     ]
    }
   ],
   "source": [
    "whatsRequired(myCollection)"
   ]
  },
  {
   "cell_type": "markdown",
   "metadata": {},
   "source": [
    "None of these are required, but we'll add `bodySite` and `method`. Both are types of `fhirclient.models.codeableconcept.CodeableConcept`. We'll start with `bodySite`, which will be a SNOMED code for buccal space."
   ]
  },
  {
   "cell_type": "code",
   "execution_count": 29,
   "metadata": {},
   "outputs": [
    {
     "name": "stdout",
     "output_type": "stream",
     "text": [
      "('extension', 'extension', <class 'fhirclient.models.extension.Extension'>, True, None, False)\n",
      "('id', 'id', <class 'str'>, False, None, False)\n",
      "('coding', 'coding', <class 'fhirclient.models.coding.Coding'>, True, None, False)\n",
      "('text', 'text', <class 'str'>, False, None, False)\n"
     ]
    }
   ],
   "source": [
    "myBodySite = cc.CodeableConcept()\n",
    "for eproperty in myBodySite.elementProperties():\n",
    "    print(eproperty)"
   ]
  },
  {
   "cell_type": "code",
   "execution_count": 30,
   "metadata": {},
   "outputs": [
    {
     "name": "stdout",
     "output_type": "stream",
     "text": [
      "Nothing is required\n"
     ]
    }
   ],
   "source": [
    "whatsRequired(myBodySite)"
   ]
  },
  {
   "cell_type": "markdown",
   "metadata": {},
   "source": [
    "We'll use `coding` which is a type of `fhirclient.models.coding.Coding`. This is a `is_list` so it must be put into a list. This makes sense because codeable concepts can have more than one coding. Here we'll create just one coding."
   ]
  },
  {
   "cell_type": "code",
   "execution_count": 31,
   "metadata": {},
   "outputs": [
    {
     "name": "stdout",
     "output_type": "stream",
     "text": [
      "('extension', 'extension', <class 'fhirclient.models.extension.Extension'>, True, None, False)\n",
      "('id', 'id', <class 'str'>, False, None, False)\n",
      "('code', 'code', <class 'str'>, False, None, False)\n",
      "('display', 'display', <class 'str'>, False, None, False)\n",
      "('system', 'system', <class 'str'>, False, None, False)\n",
      "('userSelected', 'userSelected', <class 'bool'>, False, None, False)\n",
      "('version', 'version', <class 'str'>, False, None, False)\n"
     ]
    }
   ],
   "source": [
    "myBodySiteCoding = co.Coding()\n",
    "for eproperty in myBodySiteCoding.elementProperties():\n",
    "    print(eproperty)"
   ]
  },
  {
   "cell_type": "code",
   "execution_count": 32,
   "metadata": {},
   "outputs": [
    {
     "name": "stdout",
     "output_type": "stream",
     "text": [
      "Nothing is required\n"
     ]
    }
   ],
   "source": [
    "whatsRequired(myBodySiteCoding)"
   ]
  },
  {
   "cell_type": "markdown",
   "metadata": {},
   "source": [
    "Everything is optional. We'll add `system`, `code`, and `display` to `myBodySiteCoding`. Since `myBodySite` is a codeable concept, it can have multiple codings, so we'll put in a list."
   ]
  },
  {
   "cell_type": "code",
   "execution_count": 33,
   "metadata": {},
   "outputs": [
    {
     "name": "stdout",
     "output_type": "stream",
     "text": [
      "{\n",
      "    \"coding\": [\n",
      "        {\n",
      "            \"code\": \"261063000\",\n",
      "            \"display\": \"Buccal space\",\n",
      "            \"system\": \"http://snomed.info/sct\"\n",
      "        }\n",
      "    ]\n",
      "}\n"
     ]
    }
   ],
   "source": [
    "myBodySiteCoding.system = 'http://snomed.info/sct'\n",
    "myBodySiteCoding.code = '261063000'\n",
    "myBodySiteCoding.display = 'Buccal space'\n",
    "myBodySite.coding = [myBodySiteCoding] # is_list for coding is True, so it must be put into a list\n",
    "print(json.dumps(myBodySite.as_json(), indent=4))"
   ]
  },
  {
   "cell_type": "markdown",
   "metadata": {},
   "source": [
    "Let's repeat this for `method`, which is another `CodeableConcept`, to indicate it is a swab."
   ]
  },
  {
   "cell_type": "code",
   "execution_count": 34,
   "metadata": {},
   "outputs": [
    {
     "name": "stdout",
     "output_type": "stream",
     "text": [
      "{\n",
      "    \"coding\": [\n",
      "        {\n",
      "            \"code\": \"SWA\",\n",
      "            \"display\": \"Swab\",\n",
      "            \"system\": \"http://hl7.org/fhir/v2/0488\"\n",
      "        }\n",
      "    ]\n",
      "}\n"
     ]
    }
   ],
   "source": [
    "myMethod = cc.CodeableConcept()\n",
    "myMethodCoding = co.Coding()\n",
    "myMethodCoding.system = 'http://hl7.org/fhir/v2/0488'\n",
    "myMethodCoding.code = 'SWA'\n",
    "myMethodCoding.display = 'Swab'\n",
    "myMethod.coding = [myMethodCoding] # is_list for coding is True, so must be put into a list\n",
    "print(json.dumps(myMethod.as_json(), indent=4))"
   ]
  },
  {
   "cell_type": "markdown",
   "metadata": {},
   "source": [
    "Now put `myBodySite` and `myMethod` into `myCollection`, and put `myCollection` into `mySpecimen`."
   ]
  },
  {
   "cell_type": "code",
   "execution_count": 35,
   "metadata": {},
   "outputs": [
    {
     "name": "stdout",
     "output_type": "stream",
     "text": [
      "{\n",
      "    \"collection\": {\n",
      "        \"bodySite\": {\n",
      "            \"coding\": [\n",
      "                {\n",
      "                    \"code\": \"261063000\",\n",
      "                    \"display\": \"Buccal space\",\n",
      "                    \"system\": \"http://snomed.info/sct\"\n",
      "                }\n",
      "            ]\n",
      "        },\n",
      "        \"method\": {\n",
      "            \"coding\": [\n",
      "                {\n",
      "                    \"code\": \"SWA\",\n",
      "                    \"display\": \"Swab\",\n",
      "                    \"system\": \"http://hl7.org/fhir/v2/0488\"\n",
      "                }\n",
      "            ]\n",
      "        }\n",
      "    },\n",
      "    \"subject\": {\n",
      "        \"reference\": \"urn:uuid:d3bc8ddd-ba12-4646-9757-01ca4b2c2192\"\n",
      "    },\n",
      "    \"resourceType\": \"Specimen\"\n",
      "}\n"
     ]
    }
   ],
   "source": [
    "myCollection.bodySite = myBodySite\n",
    "myCollection.method = myMethod\n",
    "mySpecimen.collection = myCollection\n",
    "print(json.dumps(mySpecimen.as_json(), indent=4))"
   ]
  },
  {
   "cell_type": "code",
   "execution_count": 36,
   "metadata": {},
   "outputs": [
    {
     "name": "stdout",
     "output_type": "stream",
     "text": [
      "urn:uuid:01dbb24a-bebb-4fcd-a25c-479f1e739c44\n"
     ]
    }
   ],
   "source": [
    "mySpecimen.uuid = uuid.uuid4().urn\n",
    "print(mySpecimen.uuid)"
   ]
  },
  {
   "cell_type": "markdown",
   "metadata": {},
   "source": [
    "***"
   ]
  },
  {
   "cell_type": "markdown",
   "metadata": {},
   "source": [
    "### Putting everything into a Bundle"
   ]
  },
  {
   "cell_type": "code",
   "execution_count": 37,
   "metadata": {},
   "outputs": [],
   "source": [
    "import fhirclient.models.bundle as bun"
   ]
  },
  {
   "cell_type": "code",
   "execution_count": 38,
   "metadata": {},
   "outputs": [
    {
     "name": "stdout",
     "output_type": "stream",
     "text": [
      "('id', 'id', <class 'str'>, False, None, False)\n",
      "('implicitRules', 'implicitRules', <class 'str'>, False, None, False)\n",
      "('language', 'language', <class 'str'>, False, None, False)\n",
      "('meta', 'meta', <class 'fhirclient.models.meta.Meta'>, False, None, False)\n",
      "('entry', 'entry', <class 'fhirclient.models.bundle.BundleEntry'>, True, None, False)\n",
      "('identifier', 'identifier', <class 'fhirclient.models.identifier.Identifier'>, False, None, False)\n",
      "('link', 'link', <class 'fhirclient.models.bundle.BundleLink'>, True, None, False)\n",
      "('signature', 'signature', <class 'fhirclient.models.signature.Signature'>, False, None, False)\n",
      "('total', 'total', <class 'int'>, False, None, False)\n",
      "('type', 'type', <class 'str'>, False, None, True)\n"
     ]
    }
   ],
   "source": [
    "myBundle = bun.Bundle()\n",
    "for eproperty in myBundle.elementProperties():\n",
    "    print(eproperty)"
   ]
  },
  {
   "cell_type": "code",
   "execution_count": 39,
   "metadata": {},
   "outputs": [
    {
     "name": "stdout",
     "output_type": "stream",
     "text": [
      "('type', 'type', <class 'str'>, False, None, True)\n"
     ]
    }
   ],
   "source": [
    "whatsRequired(myBundle)"
   ]
  },
  {
   "cell_type": "code",
   "execution_count": 40,
   "metadata": {},
   "outputs": [],
   "source": [
    "myBundle.type = 'transaction'"
   ]
  },
  {
   "cell_type": "code",
   "execution_count": 41,
   "metadata": {},
   "outputs": [
    {
     "name": "stdout",
     "output_type": "stream",
     "text": [
      "{\n",
      "    \"type\": \"transaction\",\n",
      "    \"resourceType\": \"Bundle\"\n",
      "}\n"
     ]
    }
   ],
   "source": [
    "print(json.dumps(myBundle.as_json(), indent=4))"
   ]
  },
  {
   "cell_type": "code",
   "execution_count": 42,
   "metadata": {},
   "outputs": [],
   "source": [
    "pBundleEntry = bun.BundleEntry()"
   ]
  },
  {
   "cell_type": "code",
   "execution_count": 43,
   "metadata": {},
   "outputs": [
    {
     "name": "stdout",
     "output_type": "stream",
     "text": [
      "('extension', 'extension', <class 'fhirclient.models.extension.Extension'>, True, None, False)\n",
      "('id', 'id', <class 'str'>, False, None, False)\n",
      "('modifierExtension', 'modifierExtension', <class 'fhirclient.models.extension.Extension'>, True, None, False)\n",
      "('fullUrl', 'fullUrl', <class 'str'>, False, None, False)\n",
      "('link', 'link', <class 'fhirclient.models.bundle.BundleLink'>, True, None, False)\n",
      "('request', 'request', <class 'fhirclient.models.bundle.BundleEntryRequest'>, False, None, False)\n",
      "('resource', 'resource', <class 'fhirclient.models.resource.Resource'>, False, None, False)\n",
      "('response', 'response', <class 'fhirclient.models.bundle.BundleEntryResponse'>, False, None, False)\n",
      "('search', 'search', <class 'fhirclient.models.bundle.BundleEntrySearch'>, False, None, False)\n"
     ]
    }
   ],
   "source": [
    "for eproperty in pBundleEntry.elementProperties(): print(eproperty)"
   ]
  },
  {
   "cell_type": "code",
   "execution_count": 44,
   "metadata": {},
   "outputs": [],
   "source": [
    "pBundleEntry.fullUrl = patient.uuid\n",
    "pBundleEntry.resource = patient"
   ]
  },
  {
   "cell_type": "code",
   "execution_count": 45,
   "metadata": {},
   "outputs": [
    {
     "name": "stdout",
     "output_type": "stream",
     "text": [
      "('extension', 'extension', <class 'fhirclient.models.extension.Extension'>, True, None, False)\n",
      "('id', 'id', <class 'str'>, False, None, False)\n",
      "('modifierExtension', 'modifierExtension', <class 'fhirclient.models.extension.Extension'>, True, None, False)\n",
      "('ifMatch', 'ifMatch', <class 'str'>, False, None, False)\n",
      "('ifModifiedSince', 'ifModifiedSince', <class 'fhirclient.models.fhirdate.FHIRDate'>, False, None, False)\n",
      "('ifNoneExist', 'ifNoneExist', <class 'str'>, False, None, False)\n",
      "('ifNoneMatch', 'ifNoneMatch', <class 'str'>, False, None, False)\n",
      "('method', 'method', <class 'str'>, False, None, True)\n",
      "('url', 'url', <class 'str'>, False, None, True)\n"
     ]
    }
   ],
   "source": [
    "pBundleEntryRequest = bun.BundleEntryRequest()\n",
    "for eproperty in pBundleEntryRequest.elementProperties(): print(eproperty)"
   ]
  },
  {
   "cell_type": "code",
   "execution_count": 46,
   "metadata": {},
   "outputs": [
    {
     "name": "stdout",
     "output_type": "stream",
     "text": [
      "('method', 'method', <class 'str'>, False, None, True)\n",
      "('url', 'url', <class 'str'>, False, None, True)\n"
     ]
    }
   ],
   "source": [
    "whatsRequired(pBundleEntryRequest)"
   ]
  },
  {
   "cell_type": "code",
   "execution_count": 47,
   "metadata": {},
   "outputs": [],
   "source": [
    "pBundleEntryRequest.method = \"POST\"\n",
    "pBundleEntryRequest.url = \"Patient\"\n",
    "pBundleEntry.request = pBundleEntryRequest"
   ]
  },
  {
   "cell_type": "code",
   "execution_count": 48,
   "metadata": {},
   "outputs": [
    {
     "name": "stdout",
     "output_type": "stream",
     "text": [
      "{\n",
      "    \"entry\": [\n",
      "        {\n",
      "            \"fullUrl\": \"urn:uuid:d3bc8ddd-ba12-4646-9757-01ca4b2c2192\",\n",
      "            \"request\": {\n",
      "                \"method\": \"POST\",\n",
      "                \"url\": \"Patient\"\n",
      "            },\n",
      "            \"resource\": {\n",
      "                \"name\": [\n",
      "                    {\n",
      "                        \"family\": \"Storm\",\n",
      "                        \"given\": [\n",
      "                            \"Jonathon\",\n",
      "                            \"Lowell\"\n",
      "                        ],\n",
      "                        \"text\": \"Jonathon Lowell Storm\",\n",
      "                        \"use\": \"official\"\n",
      "                    },\n",
      "                    {\n",
      "                        \"family\": \"Storm\",\n",
      "                        \"given\": [\n",
      "                            \"Johnny\"\n",
      "                        ],\n",
      "                        \"use\": \"nickname\"\n",
      "                    },\n",
      "                    {\n",
      "                        \"text\": \"Human Torch\",\n",
      "                        \"use\": \"nickname\"\n",
      "                    }\n",
      "                ],\n",
      "                \"resourceType\": \"Patient\"\n",
      "            }\n",
      "        }\n",
      "    ],\n",
      "    \"type\": \"transaction\",\n",
      "    \"resourceType\": \"Bundle\"\n",
      "}\n"
     ]
    }
   ],
   "source": [
    "myBundle.entry = [pBundleEntry]\n",
    "print(json.dumps(myBundle.as_json(), indent=4))"
   ]
  },
  {
   "cell_type": "markdown",
   "metadata": {},
   "source": [
    "#### adding the Specimen"
   ]
  },
  {
   "cell_type": "code",
   "execution_count": 49,
   "metadata": {},
   "outputs": [
    {
     "name": "stdout",
     "output_type": "stream",
     "text": [
      "{\n",
      "    \"entry\": [\n",
      "        {\n",
      "            \"fullUrl\": \"urn:uuid:d3bc8ddd-ba12-4646-9757-01ca4b2c2192\",\n",
      "            \"request\": {\n",
      "                \"method\": \"POST\",\n",
      "                \"url\": \"Patient\"\n",
      "            },\n",
      "            \"resource\": {\n",
      "                \"name\": [\n",
      "                    {\n",
      "                        \"family\": \"Storm\",\n",
      "                        \"given\": [\n",
      "                            \"Jonathon\",\n",
      "                            \"Lowell\"\n",
      "                        ],\n",
      "                        \"text\": \"Jonathon Lowell Storm\",\n",
      "                        \"use\": \"official\"\n",
      "                    },\n",
      "                    {\n",
      "                        \"family\": \"Storm\",\n",
      "                        \"given\": [\n",
      "                            \"Johnny\"\n",
      "                        ],\n",
      "                        \"use\": \"nickname\"\n",
      "                    },\n",
      "                    {\n",
      "                        \"text\": \"Human Torch\",\n",
      "                        \"use\": \"nickname\"\n",
      "                    }\n",
      "                ],\n",
      "                \"resourceType\": \"Patient\"\n",
      "            }\n",
      "        },\n",
      "        {\n",
      "            \"fullUrl\": \"urn:uuid:01dbb24a-bebb-4fcd-a25c-479f1e739c44\",\n",
      "            \"request\": {\n",
      "                \"method\": \"POST\",\n",
      "                \"url\": \"Specimen\"\n",
      "            },\n",
      "            \"resource\": {\n",
      "                \"collection\": {\n",
      "                    \"bodySite\": {\n",
      "                        \"coding\": [\n",
      "                            {\n",
      "                                \"code\": \"261063000\",\n",
      "                                \"display\": \"Buccal space\",\n",
      "                                \"system\": \"http://snomed.info/sct\"\n",
      "                            }\n",
      "                        ]\n",
      "                    },\n",
      "                    \"method\": {\n",
      "                        \"coding\": [\n",
      "                            {\n",
      "                                \"code\": \"SWA\",\n",
      "                                \"display\": \"Swab\",\n",
      "                                \"system\": \"http://hl7.org/fhir/v2/0488\"\n",
      "                            }\n",
      "                        ]\n",
      "                    }\n",
      "                },\n",
      "                \"subject\": {\n",
      "                    \"reference\": \"urn:uuid:d3bc8ddd-ba12-4646-9757-01ca4b2c2192\"\n",
      "                },\n",
      "                \"resourceType\": \"Specimen\"\n",
      "            }\n",
      "        }\n",
      "    ],\n",
      "    \"type\": \"transaction\",\n",
      "    \"resourceType\": \"Bundle\"\n",
      "}\n"
     ]
    }
   ],
   "source": [
    "sBundleEntry = bun.BundleEntry()\n",
    "sBundleEntry.fullUrl = mySpecimen.uuid\n",
    "sBundleEntry.resource = mySpecimen\n",
    "sBundleEntryRequest = bun.BundleEntryRequest()\n",
    "sBundleEntryRequest.method = \"POST\"\n",
    "sBundleEntryRequest.url = \"Specimen\"\n",
    "sBundleEntry.request = sBundleEntryRequest\n",
    "myBundle.entry = [pBundleEntry, sBundleEntry]\n",
    "print(json.dumps(myBundle.as_json(), indent=4))"
   ]
  },
  {
   "cell_type": "markdown",
   "metadata": {},
   "source": [
    "---"
   ]
  },
  {
   "cell_type": "markdown",
   "metadata": {},
   "source": [
    "Now let's try posting it the FHIR server, using the same settings we used in `makePatient.ipynb`"
   ]
  },
  {
   "cell_type": "code",
   "execution_count": 50,
   "metadata": {},
   "outputs": [
    {
     "name": "stdout",
     "output_type": "stream",
     "text": [
      "{'_patient': None,\n",
      " '_save_func': <function FHIRClient.<lambda> at 0x111367950>,\n",
      " 'app_id': 'my_web_app',\n",
      " 'app_secret': None,\n",
      " 'launch_context': None,\n",
      " 'launch_token': None,\n",
      " 'patient_id': None,\n",
      " 'redirect': None,\n",
      " 'scope': 'user/*.* patient/*.read openid profile',\n",
      " 'server': <server.FHIRServer object at 0x11141f2b0>,\n",
      " 'wants_patient': True}\n"
     ]
    }
   ],
   "source": [
    "from pprint import pprint\n",
    "from fhirclient import client\n",
    "settings = {\n",
    "        'app_id': 'my_web_app',\n",
    "        'api_base': 'http://fhirtest.b12x.org/r3'\n",
    "    }\n",
    "smart = client.FHIRClient(settings=settings)\n",
    "pprint(smart.__dict__)"
   ]
  },
  {
   "cell_type": "code",
   "execution_count": 51,
   "metadata": {},
   "outputs": [],
   "source": [
    "response = myBundle.create(smart.server)"
   ]
  },
  {
   "cell_type": "code",
   "execution_count": 52,
   "metadata": {},
   "outputs": [
    {
     "name": "stdout",
     "output_type": "stream",
     "text": [
      "Help on Response in module requests.models object:\n",
      "\n",
      "class Response(builtins.object)\n",
      " |  The :class:`Response <Response>` object, which contains a\n",
      " |  server's response to an HTTP request.\n",
      " |  \n",
      " |  Methods defined here:\n",
      " |  \n",
      " |  __bool__(self)\n",
      " |      Returns True if :attr:`status_code` is less than 400.\n",
      " |      \n",
      " |      This attribute checks if the status code of the response is between\n",
      " |      400 and 600 to see if there was a client error or a server error. If\n",
      " |      the status code, is between 200 and 400, this will return True. This\n",
      " |      is **not** a check to see if the response code is ``200 OK``.\n",
      " |  \n",
      " |  __enter__(self)\n",
      " |  \n",
      " |  __exit__(self, *args)\n",
      " |  \n",
      " |  __getstate__(self)\n",
      " |  \n",
      " |  __init__(self)\n",
      " |      Initialize self.  See help(type(self)) for accurate signature.\n",
      " |  \n",
      " |  __iter__(self)\n",
      " |      Allows you to use a response as an iterator.\n",
      " |  \n",
      " |  __nonzero__(self)\n",
      " |      Returns True if :attr:`status_code` is less than 400.\n",
      " |      \n",
      " |      This attribute checks if the status code of the response is between\n",
      " |      400 and 600 to see if there was a client error or a server error. If\n",
      " |      the status code, is between 200 and 400, this will return True. This\n",
      " |      is **not** a check to see if the response code is ``200 OK``.\n",
      " |  \n",
      " |  __repr__(self)\n",
      " |      Return repr(self).\n",
      " |  \n",
      " |  __setstate__(self, state)\n",
      " |  \n",
      " |  close(self)\n",
      " |      Releases the connection back to the pool. Once this method has been\n",
      " |      called the underlying ``raw`` object must not be accessed again.\n",
      " |      \n",
      " |      *Note: Should not normally need to be called explicitly.*\n",
      " |  \n",
      " |  iter_content(self, chunk_size=1, decode_unicode=False)\n",
      " |      Iterates over the response data.  When stream=True is set on the\n",
      " |      request, this avoids reading the content at once into memory for\n",
      " |      large responses.  The chunk size is the number of bytes it should\n",
      " |      read into memory.  This is not necessarily the length of each item\n",
      " |      returned as decoding can take place.\n",
      " |      \n",
      " |      chunk_size must be of type int or None. A value of None will\n",
      " |      function differently depending on the value of `stream`.\n",
      " |      stream=True will read data as it arrives in whatever size the\n",
      " |      chunks are received. If stream=False, data is returned as\n",
      " |      a single chunk.\n",
      " |      \n",
      " |      If decode_unicode is True, content will be decoded using the best\n",
      " |      available encoding based on the response.\n",
      " |  \n",
      " |  iter_lines(self, chunk_size=512, decode_unicode=False, delimiter=None)\n",
      " |      Iterates over the response data, one line at a time.  When\n",
      " |      stream=True is set on the request, this avoids reading the\n",
      " |      content at once into memory for large responses.\n",
      " |      \n",
      " |      .. note:: This method is not reentrant safe.\n",
      " |  \n",
      " |  json(self, **kwargs)\n",
      " |      Returns the json-encoded content of a response, if any.\n",
      " |      \n",
      " |      :param \\*\\*kwargs: Optional arguments that ``json.loads`` takes.\n",
      " |      :raises ValueError: If the response body does not contain valid json.\n",
      " |  \n",
      " |  raise_for_status(self)\n",
      " |      Raises stored :class:`HTTPError`, if one occurred.\n",
      " |  \n",
      " |  ----------------------------------------------------------------------\n",
      " |  Data descriptors defined here:\n",
      " |  \n",
      " |  __dict__\n",
      " |      dictionary for instance variables (if defined)\n",
      " |  \n",
      " |  __weakref__\n",
      " |      list of weak references to the object (if defined)\n",
      " |  \n",
      " |  apparent_encoding\n",
      " |      The apparent encoding, provided by the chardet library.\n",
      " |  \n",
      " |  content\n",
      " |      Content of the response, in bytes.\n",
      " |  \n",
      " |  is_permanent_redirect\n",
      " |      True if this Response one of the permanent versions of redirect.\n",
      " |  \n",
      " |  is_redirect\n",
      " |      True if this Response is a well-formed HTTP redirect that could have\n",
      " |      been processed automatically (by :meth:`Session.resolve_redirects`).\n",
      " |  \n",
      " |  links\n",
      " |      Returns the parsed header links of the response, if any.\n",
      " |  \n",
      " |  next\n",
      " |      Returns a PreparedRequest for the next request in a redirect chain, if there is one.\n",
      " |  \n",
      " |  ok\n",
      " |      Returns True if :attr:`status_code` is less than 400, False if not.\n",
      " |      \n",
      " |      This attribute checks if the status code of the response is between\n",
      " |      400 and 600 to see if there was a client error or a server error. If\n",
      " |      the status code is between 200 and 400, this will return True. This\n",
      " |      is **not** a check to see if the response code is ``200 OK``.\n",
      " |  \n",
      " |  text\n",
      " |      Content of the response, in unicode.\n",
      " |      \n",
      " |      If Response.encoding is None, encoding will be guessed using\n",
      " |      ``chardet``.\n",
      " |      \n",
      " |      The encoding of the response content is determined based solely on HTTP\n",
      " |      headers, following RFC 2616 to the letter. If you can take advantage of\n",
      " |      non-HTTP knowledge to make a better guess at the encoding, you should\n",
      " |      set ``r.encoding`` appropriately before accessing this property.\n",
      " |  \n",
      " |  ----------------------------------------------------------------------\n",
      " |  Data and other attributes defined here:\n",
      " |  \n",
      " |  __attrs__ = ['_content', 'status_code', 'headers', 'url', 'history', '...\n",
      "\n"
     ]
    }
   ],
   "source": [
    "help(response)"
   ]
  },
  {
   "cell_type": "code",
   "execution_count": 53,
   "metadata": {},
   "outputs": [
    {
     "data": {
      "text/plain": [
       "{'_content': b'{\\n  \"resourceType\": \"Bundle\",\\n  \"id\": \"d78a70c9-4660-4202-bdf3-db293628265b\",\\n  \"type\": \"transaction-response\",\\n  \"link\": [\\n    {\\n      \"relation\": \"self\",\\n      \"url\": \"http://fhirtest.b12x.org/r3\"\\n    }\\n  ],\\n  \"entry\": [\\n    {\\n      \"response\": {\\n        \"status\": \"201 Created\",\\n        \"location\": \"Patient/4418/_history/1\",\\n        \"etag\": \"1\",\\n        \"lastModified\": \"2019-01-24T22:39:07.924+00:00\"\\n      }\\n    },\\n    {\\n      \"response\": {\\n        \"status\": \"201 Created\",\\n        \"location\": \"Specimen/4419/_history/1\",\\n        \"etag\": \"1\",\\n        \"lastModified\": \"2019-01-24T22:39:07.925+00:00\"\\n      }\\n    }\\n  ]\\n}',\n",
       " '_content_consumed': True,\n",
       " '_next': None,\n",
       " 'status_code': 200,\n",
       " 'headers': {'Content-Encoding': 'gzip', 'Content-Location': 'http://fhirtest.b12x.org/r3/Bundle/d78a70c9-4660-4202-bdf3-db293628265b', 'Content-Type': 'application/fhir+json;charset=UTF-8', 'Date': 'Thu, 24 Jan 2019 22:39:07 GMT', 'Location': 'http://fhirtest.b12x.org/r3/Bundle/d78a70c9-4660-4202-bdf3-db293628265b', 'Server': 'Apache-Coyote/1.1', 'X-FHIR-Request-Validation': '{\"resourceType\":\"OperationOutcome\",\"text\":{\"status\":\"generated\",\"div\":\"<div xmlns=\\\\\"http://www.w3.org/1999/xhtml\\\\\"><h1>Operation Outcome</h1><table border=\\\\\"0\\\\\"><tr><td style=\\\\\"font-weight: bold;\\\\\"...', 'X-Powered-By': 'HAPI FHIR 3.6.0 REST Server (FHIR Server; FHIR 3.0.1/DSTU3)', 'Content-Length': '296', 'Connection': 'keep-alive'},\n",
       " 'raw': <urllib3.response.HTTPResponse at 0x1116b9470>,\n",
       " 'url': 'http://fhirtest.b12x.org/r3/',\n",
       " 'encoding': 'UTF-8',\n",
       " 'history': [],\n",
       " 'reason': 'OK',\n",
       " 'cookies': <RequestsCookieJar[]>,\n",
       " 'elapsed': datetime.timedelta(microseconds=145883),\n",
       " 'request': <PreparedRequest [POST]>,\n",
       " 'connection': <requests.adapters.HTTPAdapter at 0x111623668>}"
      ]
     },
     "execution_count": 53,
     "metadata": {},
     "output_type": "execute_result"
    }
   ],
   "source": [
    "response.__dict__"
   ]
  },
  {
   "cell_type": "code",
   "execution_count": 54,
   "metadata": {},
   "outputs": [
    {
     "name": "stdout",
     "output_type": "stream",
     "text": [
      "{\n",
      "    \"resourceType\": \"Bundle\",\n",
      "    \"id\": \"d78a70c9-4660-4202-bdf3-db293628265b\",\n",
      "    \"type\": \"transaction-response\",\n",
      "    \"link\": [\n",
      "        {\n",
      "            \"relation\": \"self\",\n",
      "            \"url\": \"http://fhirtest.b12x.org/r3\"\n",
      "        }\n",
      "    ],\n",
      "    \"entry\": [\n",
      "        {\n",
      "            \"response\": {\n",
      "                \"status\": \"201 Created\",\n",
      "                \"location\": \"Patient/4418/_history/1\",\n",
      "                \"etag\": \"1\",\n",
      "                \"lastModified\": \"2019-01-24T22:39:07.924+00:00\"\n",
      "            }\n",
      "        },\n",
      "        {\n",
      "            \"response\": {\n",
      "                \"status\": \"201 Created\",\n",
      "                \"location\": \"Specimen/4419/_history/1\",\n",
      "                \"etag\": \"1\",\n",
      "                \"lastModified\": \"2019-01-24T22:39:07.925+00:00\"\n",
      "            }\n",
      "        }\n",
      "    ]\n",
      "}\n"
     ]
    }
   ],
   "source": [
    "print(json.dumps(response.json(), indent=4))"
   ]
  },
  {
   "cell_type": "code",
   "execution_count": 55,
   "metadata": {},
   "outputs": [
    {
     "name": "stdout",
     "output_type": "stream",
     "text": [
      "{\n",
      "    \"resourceType\": \"Bundle\",\n",
      "    \"id\": \"d78a70c9-4660-4202-bdf3-db293628265b\",\n",
      "    \"type\": \"transaction-response\",\n",
      "    \"link\": [\n",
      "        {\n",
      "            \"relation\": \"self\",\n",
      "            \"url\": \"http://fhirtest.b12x.org/r3\"\n",
      "        }\n",
      "    ],\n",
      "    \"entry\": [\n",
      "        {\n",
      "            \"response\": {\n",
      "                \"status\": \"201 Created\",\n",
      "                \"location\": \"Patient/4418/_history/1\",\n",
      "                \"etag\": \"1\",\n",
      "                \"lastModified\": \"2019-01-24T22:39:07.924+00:00\"\n",
      "            }\n",
      "        },\n",
      "        {\n",
      "            \"response\": {\n",
      "                \"status\": \"201 Created\",\n",
      "                \"location\": \"Specimen/4419/_history/1\",\n",
      "                \"etag\": \"1\",\n",
      "                \"lastModified\": \"2019-01-24T22:39:07.925+00:00\"\n",
      "            }\n",
      "        }\n",
      "    ]\n",
      "}\n"
     ]
    }
   ],
   "source": [
    "print(json.dumps(response.json(), indent=4))"
   ]
  },
  {
   "cell_type": "code",
   "execution_count": 56,
   "metadata": {},
   "outputs": [
    {
     "name": "stdout",
     "output_type": "stream",
     "text": [
      "{'entry': [{'response': {'etag': '1',\n",
      "                         'lastModified': '2019-01-24T22:39:07.924+00:00',\n",
      "                         'location': 'Patient/4418/_history/1',\n",
      "                         'status': '201 Created'}},\n",
      "           {'response': {'etag': '1',\n",
      "                         'lastModified': '2019-01-24T22:39:07.925+00:00',\n",
      "                         'location': 'Specimen/4419/_history/1',\n",
      "                         'status': '201 Created'}}],\n",
      " 'id': 'd78a70c9-4660-4202-bdf3-db293628265b',\n",
      " 'link': [{'relation': 'self', 'url': 'http://fhirtest.b12x.org/r3'}],\n",
      " 'resourceType': 'Bundle',\n",
      " 'type': 'transaction-response'}\n"
     ]
    }
   ],
   "source": [
    "pprint(response.json())"
   ]
  },
  {
   "cell_type": "code",
   "execution_count": 57,
   "metadata": {},
   "outputs": [
    {
     "data": {
      "text/plain": [
       "dict"
      ]
     },
     "execution_count": 57,
     "metadata": {},
     "output_type": "execute_result"
    }
   ],
   "source": [
    "type(response.json())"
   ]
  },
  {
   "cell_type": "code",
   "execution_count": 58,
   "metadata": {},
   "outputs": [
    {
     "data": {
      "text/plain": [
       "list"
      ]
     },
     "execution_count": 58,
     "metadata": {},
     "output_type": "execute_result"
    }
   ],
   "source": [
    "type(response.json()['entry'])"
   ]
  },
  {
   "cell_type": "code",
   "execution_count": 59,
   "metadata": {},
   "outputs": [
    {
     "data": {
      "text/plain": [
       "dict"
      ]
     },
     "execution_count": 59,
     "metadata": {},
     "output_type": "execute_result"
    }
   ],
   "source": [
    "type(response.json()['entry'][0])"
   ]
  },
  {
   "cell_type": "code",
   "execution_count": 60,
   "metadata": {},
   "outputs": [
    {
     "name": "stdout",
     "output_type": "stream",
     "text": [
      "\n",
      "Patient\n",
      "{\n",
      "    \"id\": \"4418\",\n",
      "    \"meta\": {\n",
      "        \"lastUpdated\": \"2019-01-24T22:39:07.924+00:00\",\n",
      "        \"versionId\": \"1\"\n",
      "    },\n",
      "    \"text\": {\n",
      "        \"div\": \"<div xmlns=\\\"http://www.w3.org/1999/xhtml\\\"><div class=\\\"hapiHeaderText\\\">Jonathon Lowell <b>STORM </b></div><table class=\\\"hapiPropertyTable\\\"><tbody></tbody></table></div>\",\n",
      "        \"status\": \"generated\"\n",
      "    },\n",
      "    \"name\": [\n",
      "        {\n",
      "            \"family\": \"Storm\",\n",
      "            \"given\": [\n",
      "                \"Jonathon\",\n",
      "                \"Lowell\"\n",
      "            ],\n",
      "            \"text\": \"Jonathon Lowell Storm\",\n",
      "            \"use\": \"official\"\n",
      "        },\n",
      "        {\n",
      "            \"family\": \"Storm\",\n",
      "            \"given\": [\n",
      "                \"Johnny\"\n",
      "            ],\n",
      "            \"use\": \"nickname\"\n",
      "        },\n",
      "        {\n",
      "            \"text\": \"Human Torch\",\n",
      "            \"use\": \"nickname\"\n",
      "        }\n",
      "    ],\n",
      "    \"resourceType\": \"Patient\"\n",
      "}\n",
      "\n",
      "Specimen\n",
      "{\n",
      "    \"id\": \"4419\",\n",
      "    \"meta\": {\n",
      "        \"lastUpdated\": \"2019-01-24T22:39:07.924+00:00\",\n",
      "        \"versionId\": \"1\"\n",
      "    },\n",
      "    \"collection\": {\n",
      "        \"bodySite\": {\n",
      "            \"coding\": [\n",
      "                {\n",
      "                    \"code\": \"261063000\",\n",
      "                    \"display\": \"Buccal space\",\n",
      "                    \"system\": \"http://snomed.info/sct\"\n",
      "                }\n",
      "            ]\n",
      "        },\n",
      "        \"method\": {\n",
      "            \"coding\": [\n",
      "                {\n",
      "                    \"code\": \"SWA\",\n",
      "                    \"display\": \"Swab\",\n",
      "                    \"system\": \"http://hl7.org/fhir/v2/0488\"\n",
      "                }\n",
      "            ]\n",
      "        }\n",
      "    },\n",
      "    \"subject\": {\n",
      "        \"reference\": \"Patient/4418\"\n",
      "    },\n",
      "    \"resourceType\": \"Specimen\"\n",
      "}\n"
     ]
    }
   ],
   "source": [
    "for i in response.json()['entry']:\n",
    "    location = (i['response']['location'])\n",
    "    # print(location)\n",
    "    locationList = (location.split('/'))\n",
    "    endpoint = locationList[0]\n",
    "    rid = locationList[1]\n",
    "    print('\\n' + endpoint)\n",
    "    #print(rid)\n",
    "    if endpoint == 'Patient':\n",
    "        resource = p.Patient()\n",
    "    elif endpoint == 'Specimen':\n",
    "        resource = s.Specimen()\n",
    "    resource = resource.read(rid, smart.server)\n",
    "    print(json.dumps(resource.as_json(), indent=4))"
   ]
  },
  {
   "cell_type": "code",
   "execution_count": null,
   "metadata": {},
   "outputs": [],
   "source": []
  }
 ],
 "metadata": {
  "kernelspec": {
   "display_name": "Python 3 (ipykernel)",
   "language": "python",
   "name": "python3"
  },
  "language_info": {
   "codemirror_mode": {
    "name": "ipython",
    "version": 3
   },
   "file_extension": ".py",
   "mimetype": "text/x-python",
   "name": "python",
   "nbconvert_exporter": "python",
   "pygments_lexer": "ipython3",
   "version": "3.9.5"
  }
 },
 "nbformat": 4,
 "nbformat_minor": 2
}
