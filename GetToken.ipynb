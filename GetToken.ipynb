{
 "cells": [
  {
   "cell_type": "code",
   "execution_count": 20,
   "id": "925d8784",
   "metadata": {},
   "outputs": [],
   "source": [
    "import base64\n",
    "clientid = \"\"\n",
    "clientsecret = \"\"\n",
    "mycredentials = clientid + \":\" + clientsecret\n",
    "auth_string = \"Basic \" + base64.b64encode(mycredentials.encode('utf-8')).decode('utf-8')"
   ]
  },
  {
   "cell_type": "code",
   "execution_count": 22,
   "id": "47e9ca09",
   "metadata": {},
   "outputs": [
    {
     "data": {
      "text/plain": [
       "'Basic MG9hMTBlYW5rM2JVMVFrSDgwaDg6MGpKSF8zSmJkdFV2TlBjd01yTDBQOThXZktkNC0tNGx4RGJ0ZkpYNQ=='"
      ]
     },
     "execution_count": 22,
     "metadata": {},
     "output_type": "execute_result"
    }
   ],
   "source": [
    "auth_string = \"Basic \" + base64.b64encode(mycredentials.encode('utf-8')).decode('utf-8')\n",
    "auth_string"
   ]
  },
  {
   "cell_type": "code",
   "execution_count": 40,
   "id": "0afe610b",
   "metadata": {},
   "outputs": [
    {
     "name": "stdout",
     "output_type": "stream",
     "text": [
      "{\"token_type\":\"Bearer\",\"expires_in\":86400,\"access_token\":\"eyJraWQiOiJxQWQwcnAyRGJtS3UyUDBOMWF4VWxScnd6V29TT3NObGI3SXhlZUMzNEM4IiwiYWxnIjoiUlMyNTYifQ.eyJ2ZXIiOjEsImp0aSI6IkFULmN0NG1fdmExT0VjUmh2blNZSWZDdi1JeUljS2c2X2d2a2tIS1BwVE9xalEiLCJpc3MiOiJodHRwczovL25tZHAub2t0YXByZXZpZXcuY29tL29hdXRoMi9hdXNhZXhjYXpoTGh4S25KczBoNyIsImF1ZCI6Imh0dHBzOi8vZGV2LmF1dGhzZXJ2ZXIubm1kcC5vcmciLCJpYXQiOjE2MjY5NzQ0ODcsImV4cCI6MTYyNzA2MDg4NywiY2lkIjoiMG9hMTBlYW5rM2JVMVFrSDgwaDgiLCJ1aWQiOiIwMHUxMGZla3ZnejVXMm83MzBoOCIsInNjcCI6WyJhcGlfY2libXRyX2ZoaXJfZWhyX2NsaWVudCJdLCJzdWIiOiJsMV9yYzEyMDAyX2ZoaXJATk1EUC5PUkciLCJsYXN0X25hbWUiOiJyYzEyMDAyX2ZoaXIiLCJmaXJzdF9uYW1lIjoibDFfIiwiYXV0aHpfY2libXRyX2ZoaXJfZWhyX2NsaWVudCI6WyJsMV9yb2xlX3JjXzEyMDAyX2ZuMyIsImwxX2FwaV9jaWJtdHJfZmhpcl9laHJfY2xpZW50X3VzZXIiXSwiZW1haWwiOiJsMV9yYzEyMDAyX2ZoaXJATk1EUC5PUkcifQ.Iaq-wF-mfkpe1uKbpQIuN_rWfuvEcDqVZG0uk6pNZ3MgClvMiQl4cZdq-8uGB0kZUlBZkkrkGFAx_EidTL8Aj21tRVEnrfuLmBg44r6K0xmw3LErQ39_uprH4_qGe3ey8K-FSyL8BNHGVZk8N9xjhQjFyItlOV9leb_A5nyOijA9877qp8OEhIJoxmgn-Ak72amCXK63BtmQu8NRtbPMPtHnE9w9wW0U2kursPamfuKAHNHoGqtXw0FUzRhvstsVWvmVxUzdqLLn38QBtBqLC94FeYf6AYsF2Q5bqmTVMAt829m169oL68sYkgt1UniV0Z7B842AaiU_J1yLj_55CA\",\"scope\":\"api_cibmtr_fhir_ehr_client\"}\n"
     ]
    }
   ],
   "source": [
    "import requests\n",
    "import json\n",
    "from requests.auth import HTTPBasicAuth\n",
    "\n",
    "clientId = ''\n",
    "clientSecret = ''\n",
    "serviceAccountUsername = ''\n",
    "serviceAccountPassword = '' \n",
    "\n",
    "headers = {'Content-Type': 'application/x-www-form-urlencoded', \n",
    "           'Accept': 'application/json'}\n",
    "\n",
    "data = {'grant_type':'password', \n",
    "        'scope':'api_cibmtr_fhir_ehr_client', \n",
    "        'username':serviceAccountUsername, \n",
    "        'password':serviceAccountPassword}\n",
    "\n",
    "r = requests.post('https://nmdp.oktapreview.com/oauth2/ausaexcazhLhxKnJs0h7/v1/token',\n",
    "                  auth=HTTPBasicAuth(clientId, clientSecret),\n",
    "                  data=data,\n",
    "                  headers=headers)\n",
    "print(r.text)"
   ]
  },
  {
   "cell_type": "code",
   "execution_count": 42,
   "id": "02d5982d",
   "metadata": {},
   "outputs": [
    {
     "name": "stdout",
     "output_type": "stream",
     "text": [
      "eyJraWQiOiJxQWQwcnAyRGJtS3UyUDBOMWF4VWxScnd6V29TT3NObGI3SXhlZUMzNEM4IiwiYWxnIjoiUlMyNTYifQ.eyJ2ZXIiOjEsImp0aSI6IkFULjNhUDk2RjZuM1pMV0toclRTY0hJOU1KLXBjSng3bVBvNEpoZnpURzYzdWciLCJpc3MiOiJodHRwczovL25tZHAub2t0YXByZXZpZXcuY29tL29hdXRoMi9hdXNhZXhjYXpoTGh4S25KczBoNyIsImF1ZCI6Imh0dHBzOi8vZGV2LmF1dGhzZXJ2ZXIubm1kcC5vcmciLCJpYXQiOjE2MjY5NzUzNzQsImV4cCI6MTYyNzA2MTc3NCwiY2lkIjoiMG9hMTBlYW5rM2JVMVFrSDgwaDgiLCJ1aWQiOiIwMHUxMGZla3ZnejVXMm83MzBoOCIsInNjcCI6WyJhcGlfY2libXRyX2ZoaXJfZWhyX2NsaWVudCJdLCJzdWIiOiJsMV9yYzEyMDAyX2ZoaXJATk1EUC5PUkciLCJsYXN0X25hbWUiOiJyYzEyMDAyX2ZoaXIiLCJmaXJzdF9uYW1lIjoibDFfIiwiYXV0aHpfY2libXRyX2ZoaXJfZWhyX2NsaWVudCI6WyJsMV9yb2xlX3JjXzEyMDAyX2ZuMyIsImwxX2FwaV9jaWJtdHJfZmhpcl9laHJfY2xpZW50X3VzZXIiXSwiZW1haWwiOiJsMV9yYzEyMDAyX2ZoaXJATk1EUC5PUkcifQ.LpHbINSfGZ6ZLrLWdS88yqQoQh1eSiP-MCzP1N_ww3xwKtafngXquIJY4yr3_RGafeo5A46L0iC_UkvX5x3DkROcBF2irfVJs0AJ_g0FEPpGob7yTYfhPIBnJcuWEqNMimdLz-EfsJT2zokOXZgC20oTf8c6Yrrh2qN4slPqBgHmach0A-Rv-jxS-EAcmVf3ajHfHB25n3VY3oTUd6WFNeA-mMfgUXQ5qL9KhCyJBhl6ZvnelH_UNXo2N2frCQXM1yPQanV-rA98jrpcEFyyx76w1oVLAyz5ok34VQNt35f7Pwyt5msLUhPnmTQ_qWh1gOtRj8VP-WEm6LZeMJSlag\n"
     ]
    }
   ],
   "source": [
    "import requests\n",
    "from requests.auth import HTTPBasicAuth\n",
    "\n",
    "clientId = ''\n",
    "clientSecret = ''\n",
    "serviceAccountUsername = ''\n",
    "serviceAccountPassword = ''\n",
    "\n",
    "headers = {'Content-Type': 'application/x-www-form-urlencoded', \n",
    "           'Accept': 'application/json'}\n",
    "\n",
    "data = {'grant_type':'password', \n",
    "        'scope':'api_cibmtr_fhir_ehr_client', \n",
    "        'username':serviceAccountUsername, \n",
    "        'password':serviceAccountPassword}\n",
    "\n",
    "r = requests.post('https://nmdp.oktapreview.com/oauth2/ausaexcazhLhxKnJs0h7/v1/token',\n",
    "                  auth=HTTPBasicAuth(clientId, clientSecret),\n",
    "                  data=data,\n",
    "                  headers=headers)\n",
    "\n",
    "accessToken = r.json()[\"access_token\"]\n",
    "print(accessToken)"
   ]
  },
  {
   "cell_type": "code",
   "execution_count": 43,
   "id": "463afcd7",
   "metadata": {},
   "outputs": [
    {
     "name": "stdout",
     "output_type": "stream",
     "text": [
      "{'token_type': 'Bearer', 'expires_in': 86400, 'access_token': 'eyJraWQiOiJxQWQwcnAyRGJtS3UyUDBOMWF4VWxScnd6V29TT3NObGI3SXhlZUMzNEM4IiwiYWxnIjoiUlMyNTYifQ.eyJ2ZXIiOjEsImp0aSI6IkFULjNhUDk2RjZuM1pMV0toclRTY0hJOU1KLXBjSng3bVBvNEpoZnpURzYzdWciLCJpc3MiOiJodHRwczovL25tZHAub2t0YXByZXZpZXcuY29tL29hdXRoMi9hdXNhZXhjYXpoTGh4S25KczBoNyIsImF1ZCI6Imh0dHBzOi8vZGV2LmF1dGhzZXJ2ZXIubm1kcC5vcmciLCJpYXQiOjE2MjY5NzUzNzQsImV4cCI6MTYyNzA2MTc3NCwiY2lkIjoiMG9hMTBlYW5rM2JVMVFrSDgwaDgiLCJ1aWQiOiIwMHUxMGZla3ZnejVXMm83MzBoOCIsInNjcCI6WyJhcGlfY2libXRyX2ZoaXJfZWhyX2NsaWVudCJdLCJzdWIiOiJsMV9yYzEyMDAyX2ZoaXJATk1EUC5PUkciLCJsYXN0X25hbWUiOiJyYzEyMDAyX2ZoaXIiLCJmaXJzdF9uYW1lIjoibDFfIiwiYXV0aHpfY2libXRyX2ZoaXJfZWhyX2NsaWVudCI6WyJsMV9yb2xlX3JjXzEyMDAyX2ZuMyIsImwxX2FwaV9jaWJtdHJfZmhpcl9laHJfY2xpZW50X3VzZXIiXSwiZW1haWwiOiJsMV9yYzEyMDAyX2ZoaXJATk1EUC5PUkcifQ.LpHbINSfGZ6ZLrLWdS88yqQoQh1eSiP-MCzP1N_ww3xwKtafngXquIJY4yr3_RGafeo5A46L0iC_UkvX5x3DkROcBF2irfVJs0AJ_g0FEPpGob7yTYfhPIBnJcuWEqNMimdLz-EfsJT2zokOXZgC20oTf8c6Yrrh2qN4slPqBgHmach0A-Rv-jxS-EAcmVf3ajHfHB25n3VY3oTUd6WFNeA-mMfgUXQ5qL9KhCyJBhl6ZvnelH_UNXo2N2frCQXM1yPQanV-rA98jrpcEFyyx76w1oVLAyz5ok34VQNt35f7Pwyt5msLUhPnmTQ_qWh1gOtRj8VP-WEm6LZeMJSlag', 'scope': 'api_cibmtr_fhir_ehr_client'}\n"
     ]
    }
   ],
   "source": [
    "print(r.json())"
   ]
  },
  {
   "cell_type": "code",
   "execution_count": null,
   "id": "f7682f3a",
   "metadata": {},
   "outputs": [],
   "source": []
  }
 ],
 "metadata": {
  "kernelspec": {
   "display_name": "Python 3 (ipykernel)",
   "language": "python",
   "name": "python3"
  },
  "language_info": {
   "codemirror_mode": {
    "name": "ipython",
    "version": 3
   },
   "file_extension": ".py",
   "mimetype": "text/x-python",
   "name": "python",
   "nbconvert_exporter": "python",
   "pygments_lexer": "ipython3",
   "version": "3.9.5"
  }
 },
 "nbformat": 4,
 "nbformat_minor": 5
}
