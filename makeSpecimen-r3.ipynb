{
 "cells": [
  {
   "cell_type": "markdown",
   "metadata": {},
   "source": [
    "### Building a Specimen Resource\n",
    "\n",
    "We will build a Specimen resource using the [Patient](http://fhirtest.b12x.org/r3/Patient/4408) we created and uploaded in the [makePatient](makePatient.ipynb) notebook. We'll include that the specimen was from a buccal swab.\n",
    "\n",
    "import packages we need..."
   ]
  },
  {
   "cell_type": "code",
   "execution_count": 2,
   "metadata": {},
   "outputs": [],
   "source": [
    "import json\n",
    "from fhirclient.r3 import client\n",
    "import fhirclient.r3.models.specimen as s\n",
    "import fhirclient.r3.models.patient as p\n",
    "import fhirclient.r3.models.fhirreference as fr\n",
    "import fhirclient.r3.models.codeableconcept as cc\n",
    "import fhirclient.r3.models.coding as co"
   ]
  },
  {
   "cell_type": "markdown",
   "metadata": {},
   "source": [
    "Create a Specimen object and take a look at its' `.elementProperties()`. See the [makePatient.ipynb](makePatient.ipynb) notebook for explanation of this method."
   ]
  },
  {
   "cell_type": "code",
   "execution_count": 3,
   "metadata": {},
   "outputs": [
    {
     "name": "stdout",
     "output_type": "stream",
     "text": [
      "('id', 'id', <class 'str'>, False, None, False)\n",
      "('implicitRules', 'implicitRules', <class 'str'>, False, None, False)\n",
      "('language', 'language', <class 'str'>, False, None, False)\n",
      "('meta', 'meta', <class 'fhirclient.r3.models.meta.Meta'>, False, None, False)\n",
      "('contained', 'contained', <class 'fhirclient.r3.models.resource.Resource'>, True, None, False)\n",
      "('extension', 'extension', <class 'fhirclient.r3.models.extension.Extension'>, True, None, False)\n",
      "('modifierExtension', 'modifierExtension', <class 'fhirclient.r3.models.extension.Extension'>, True, None, False)\n",
      "('text', 'text', <class 'fhirclient.r3.models.narrative.Narrative'>, False, None, False)\n",
      "('accessionIdentifier', 'accessionIdentifier', <class 'fhirclient.r3.models.identifier.Identifier'>, False, None, False)\n",
      "('collection', 'collection', <class 'fhirclient.r3.models.specimen.SpecimenCollection'>, False, None, False)\n",
      "('container', 'container', <class 'fhirclient.r3.models.specimen.SpecimenContainer'>, True, None, False)\n",
      "('identifier', 'identifier', <class 'fhirclient.r3.models.identifier.Identifier'>, True, None, False)\n",
      "('note', 'note', <class 'fhirclient.r3.models.annotation.Annotation'>, True, None, False)\n",
      "('parent', 'parent', <class 'fhirclient.r3.models.fhirreference.FHIRReference'>, True, None, False)\n",
      "('processing', 'processing', <class 'fhirclient.r3.models.specimen.SpecimenProcessing'>, True, None, False)\n",
      "('receivedTime', 'receivedTime', <class 'fhirclient.r3.models.fhirdate.FHIRDate'>, False, None, False)\n",
      "('request', 'request', <class 'fhirclient.r3.models.fhirreference.FHIRReference'>, True, None, False)\n",
      "('status', 'status', <class 'str'>, False, None, False)\n",
      "('subject', 'subject', <class 'fhirclient.r3.models.fhirreference.FHIRReference'>, False, None, True)\n",
      "('type', 'type', <class 'fhirclient.r3.models.codeableconcept.CodeableConcept'>, False, None, False)\n"
     ]
    }
   ],
   "source": [
    "mySpecimen = s.Specimen()\n",
    "for eproperty in mySpecimen.elementProperties():\n",
    "    print(eproperty)"
   ]
  },
  {
   "cell_type": "markdown",
   "metadata": {},
   "source": [
    "Which, if any, are required? We'll look at the `not_optional` boolean which is in the last position of the tuple.\n",
    "\n",
    "Since we'll do this again for other objects, we'll create a little function to determine this."
   ]
  },
  {
   "cell_type": "code",
   "execution_count": 5,
   "metadata": {},
   "outputs": [],
   "source": [
    "def whatsRequired(fhirObject):\n",
    "    required = False\n",
    "    for eproperty in fhirObject.elementProperties():\n",
    "        if eproperty[5] == True:\n",
    "            print(eproperty)\n",
    "            required = True\n",
    "    if not required:\n",
    "        print(\"Nothing is required\")"
   ]
  },
  {
   "cell_type": "code",
   "execution_count": 6,
   "metadata": {},
   "outputs": [
    {
     "name": "stdout",
     "output_type": "stream",
     "text": [
      "('subject', 'subject', <class 'fhirclient.r3.models.fhirreference.FHIRReference'>, False, None, True)\n"
     ]
    }
   ],
   "source": [
    "whatsRequired(mySpecimen)"
   ]
  },
  {
   "cell_type": "markdown",
   "metadata": {},
   "source": [
    "Only `subject` is required. Our Subject will be the Patient we created in the previous notebook. We'll use the id of the Patient that was posted to the same server.\n",
    "We see from `.elementProperties()` that `mySpecimen.subject` is a type of `fhirclient.models.fhirreference.FHIRReference`, so we'll build this.\n",
    "\n",
    "First, create the `FHIRReference` object.</p>"
   ]
  },
  {
   "cell_type": "code",
   "execution_count": 7,
   "metadata": {},
   "outputs": [
    {
     "name": "stdout",
     "output_type": "stream",
     "text": [
      "('extension', 'extension', <class 'fhirclient.r3.models.extension.Extension'>, True, None, False)\n",
      "('id', 'id', <class 'str'>, False, None, False)\n",
      "('display', 'display', <class 'str'>, False, None, False)\n",
      "('identifier', 'identifier', <class 'fhirclient.r3.models.identifier.Identifier'>, False, None, False)\n",
      "('reference', 'reference', <class 'str'>, False, None, False)\n"
     ]
    }
   ],
   "source": [
    "mySubject = fr.FHIRReference()\n",
    "for eproperty in mySubject.elementProperties():\n",
    "    print(eproperty)"
   ]
  },
  {
   "cell_type": "markdown",
   "metadata": {},
   "source": [
    "Which of these is required?"
   ]
  },
  {
   "cell_type": "code",
   "execution_count": 8,
   "metadata": {},
   "outputs": [
    {
     "name": "stdout",
     "output_type": "stream",
     "text": [
      "Nothing is required\n"
     ]
    }
   ],
   "source": [
    "whatsRequired(mySubject)"
   ]
  },
  {
   "cell_type": "markdown",
   "metadata": {},
   "source": [
    "None of the elements inside of `subject` are required. We'll use the `reference` and point to the Patient we created, and then take a look to see how `mySubject` looks so far."
   ]
  },
  {
   "cell_type": "code",
   "execution_count": 9,
   "metadata": {},
   "outputs": [
    {
     "name": "stdout",
     "output_type": "stream",
     "text": [
      "{\n",
      "    \"subject\": {\n",
      "        \"reference\": \"Patient/3004\"\n",
      "    },\n",
      "    \"resourceType\": \"Specimen\"\n",
      "}\n"
     ]
    }
   ],
   "source": [
    "mySubject.reference = 'Patient/3004'\n",
    "mySpecimen.subject = mySubject\n",
    "import json\n",
    "print(json.dumps(mySpecimen.as_json(), indent=4))"
   ]
  },
  {
   "cell_type": "markdown",
   "metadata": {},
   "source": [
    "Now we'll add some collection information to this Specimen. "
   ]
  },
  {
   "cell_type": "code",
   "execution_count": 10,
   "metadata": {},
   "outputs": [
    {
     "name": "stdout",
     "output_type": "stream",
     "text": [
      "('extension', 'extension', <class 'fhirclient.r3.models.extension.Extension'>, True, None, False)\n",
      "('id', 'id', <class 'str'>, False, None, False)\n",
      "('modifierExtension', 'modifierExtension', <class 'fhirclient.r3.models.extension.Extension'>, True, None, False)\n",
      "('bodySite', 'bodySite', <class 'fhirclient.r3.models.codeableconcept.CodeableConcept'>, False, None, False)\n",
      "('collectedDateTime', 'collectedDateTime', <class 'fhirclient.r3.models.fhirdate.FHIRDate'>, False, 'collected', False)\n",
      "('collectedPeriod', 'collectedPeriod', <class 'fhirclient.r3.models.period.Period'>, False, 'collected', False)\n",
      "('collector', 'collector', <class 'fhirclient.r3.models.fhirreference.FHIRReference'>, False, None, False)\n",
      "('method', 'method', <class 'fhirclient.r3.models.codeableconcept.CodeableConcept'>, False, None, False)\n",
      "('quantity', 'quantity', <class 'fhirclient.r3.models.quantity.Quantity'>, False, None, False)\n"
     ]
    }
   ],
   "source": [
    "myCollection = s.SpecimenCollection()\n",
    "for eproperty in myCollection.elementProperties():    \n",
    "    print(eproperty)"
   ]
  },
  {
   "cell_type": "code",
   "execution_count": 11,
   "metadata": {},
   "outputs": [
    {
     "name": "stdout",
     "output_type": "stream",
     "text": [
      "Nothing is required\n"
     ]
    }
   ],
   "source": [
    "whatsRequired(myCollection)"
   ]
  },
  {
   "cell_type": "markdown",
   "metadata": {},
   "source": [
    "None of these are required, but we'll add `bodySite` and `method`. Both are types of `fhirclient.models.codeableconcept.CodeableConcept`. We'll start with `bodySite`, which will be a SNOMED code for buccal space."
   ]
  },
  {
   "cell_type": "code",
   "execution_count": 12,
   "metadata": {},
   "outputs": [
    {
     "name": "stdout",
     "output_type": "stream",
     "text": [
      "('extension', 'extension', <class 'fhirclient.r3.models.extension.Extension'>, True, None, False)\n",
      "('id', 'id', <class 'str'>, False, None, False)\n",
      "('coding', 'coding', <class 'fhirclient.r3.models.coding.Coding'>, True, None, False)\n",
      "('text', 'text', <class 'str'>, False, None, False)\n"
     ]
    }
   ],
   "source": [
    "myBodySite = cc.CodeableConcept()\n",
    "for eproperty in myBodySite.elementProperties():\n",
    "    print(eproperty)"
   ]
  },
  {
   "cell_type": "code",
   "execution_count": 13,
   "metadata": {},
   "outputs": [
    {
     "name": "stdout",
     "output_type": "stream",
     "text": [
      "Nothing is required\n"
     ]
    }
   ],
   "source": [
    "whatsRequired(myBodySite)"
   ]
  },
  {
   "cell_type": "markdown",
   "metadata": {},
   "source": [
    "We'll use `coding` which is a type of `fhirclient.models.coding.Coding`. This is a `is_list` so it must be put into a list. This makes sense because codeable concepts can have more than one coding. Here we'll create just one coding."
   ]
  },
  {
   "cell_type": "code",
   "execution_count": 14,
   "metadata": {},
   "outputs": [
    {
     "name": "stdout",
     "output_type": "stream",
     "text": [
      "('extension', 'extension', <class 'fhirclient.r3.models.extension.Extension'>, True, None, False)\n",
      "('id', 'id', <class 'str'>, False, None, False)\n",
      "('code', 'code', <class 'str'>, False, None, False)\n",
      "('display', 'display', <class 'str'>, False, None, False)\n",
      "('system', 'system', <class 'str'>, False, None, False)\n",
      "('userSelected', 'userSelected', <class 'bool'>, False, None, False)\n",
      "('version', 'version', <class 'str'>, False, None, False)\n"
     ]
    }
   ],
   "source": [
    "myBodySiteCoding = co.Coding()\n",
    "for eproperty in myBodySiteCoding.elementProperties():\n",
    "    print(eproperty)"
   ]
  },
  {
   "cell_type": "code",
   "execution_count": 15,
   "metadata": {},
   "outputs": [
    {
     "name": "stdout",
     "output_type": "stream",
     "text": [
      "Nothing is required\n"
     ]
    }
   ],
   "source": [
    "whatsRequired(myBodySiteCoding)"
   ]
  },
  {
   "cell_type": "markdown",
   "metadata": {},
   "source": [
    "Everything is optional. We'll add `system`, `code`, and `display` to `myBodySiteCoding`. Since `myBodySite` is a codeable concept, it can have multiple codings, so we'll put in a list."
   ]
  },
  {
   "cell_type": "code",
   "execution_count": 16,
   "metadata": {},
   "outputs": [
    {
     "name": "stdout",
     "output_type": "stream",
     "text": [
      "{\n",
      "    \"coding\": [\n",
      "        {\n",
      "            \"code\": \"261063000\",\n",
      "            \"display\": \"Buccal space\",\n",
      "            \"system\": \"http://snomed.info/sct\"\n",
      "        }\n",
      "    ]\n",
      "}\n"
     ]
    }
   ],
   "source": [
    "myBodySiteCoding.system = 'http://snomed.info/sct'\n",
    "myBodySiteCoding.code = '261063000'\n",
    "myBodySiteCoding.display = 'Buccal space'\n",
    "myBodySite.coding = [myBodySiteCoding] # is_list for coding is True, so it must be put into a list\n",
    "print(json.dumps(myBodySite.as_json(), indent=4))"
   ]
  },
  {
   "cell_type": "markdown",
   "metadata": {},
   "source": [
    "Let's repeat this for `method`, which is another `CodeableConcept`, to indicate it is a swab."
   ]
  },
  {
   "cell_type": "code",
   "execution_count": 17,
   "metadata": {},
   "outputs": [
    {
     "name": "stdout",
     "output_type": "stream",
     "text": [
      "{\n",
      "    \"coding\": [\n",
      "        {\n",
      "            \"code\": \"SWA\",\n",
      "            \"display\": \"Swab\",\n",
      "            \"system\": \"http://hl7.org/fhir/v2/0488\"\n",
      "        }\n",
      "    ]\n",
      "}\n"
     ]
    }
   ],
   "source": [
    "myMethod = cc.CodeableConcept()\n",
    "myMethodCoding = co.Coding()\n",
    "myMethodCoding.system = 'http://hl7.org/fhir/v2/0488'\n",
    "myMethodCoding.code = 'SWA'\n",
    "myMethodCoding.display = 'Swab'\n",
    "myMethod.coding = [myMethodCoding] # is_list for coding is True, so must be put into a list\n",
    "print(json.dumps(myMethod.as_json(), indent=4))"
   ]
  },
  {
   "cell_type": "markdown",
   "metadata": {},
   "source": [
    "Now put `myBodySite` and `myMethod` into `myCollection`, and put `myCollection` into `mySpecimen`."
   ]
  },
  {
   "cell_type": "code",
   "execution_count": 18,
   "metadata": {},
   "outputs": [
    {
     "name": "stdout",
     "output_type": "stream",
     "text": [
      "{\n",
      "    \"collection\": {\n",
      "        \"bodySite\": {\n",
      "            \"coding\": [\n",
      "                {\n",
      "                    \"code\": \"261063000\",\n",
      "                    \"display\": \"Buccal space\",\n",
      "                    \"system\": \"http://snomed.info/sct\"\n",
      "                }\n",
      "            ]\n",
      "        },\n",
      "        \"method\": {\n",
      "            \"coding\": [\n",
      "                {\n",
      "                    \"code\": \"SWA\",\n",
      "                    \"display\": \"Swab\",\n",
      "                    \"system\": \"http://hl7.org/fhir/v2/0488\"\n",
      "                }\n",
      "            ]\n",
      "        }\n",
      "    },\n",
      "    \"subject\": {\n",
      "        \"reference\": \"Patient/3004\"\n",
      "    },\n",
      "    \"resourceType\": \"Specimen\"\n",
      "}\n"
     ]
    }
   ],
   "source": [
    "myCollection.bodySite = myBodySite\n",
    "myCollection.method = myMethod\n",
    "mySpecimen.collection = myCollection\n",
    "print(json.dumps(mySpecimen.as_json(), indent=4))"
   ]
  },
  {
   "cell_type": "markdown",
   "metadata": {},
   "source": [
    "Now let's try posting it the FHIR server, using the same settings we used in makePatient.ipynb"
   ]
  },
  {
   "cell_type": "code",
   "execution_count": 19,
   "metadata": {},
   "outputs": [
    {
     "name": "stdout",
     "output_type": "stream",
     "text": [
      "{\n",
      "    \"resourceType\": \"Specimen\",\n",
      "    \"id\": \"3010\",\n",
      "    \"meta\": {\n",
      "        \"versionId\": \"1\",\n",
      "        \"lastUpdated\": \"2021-06-26T02:51:46.070+00:00\"\n",
      "    },\n",
      "    \"subject\": {\n",
      "        \"reference\": \"Patient/3004\"\n",
      "    },\n",
      "    \"collection\": {\n",
      "        \"method\": {\n",
      "            \"coding\": [\n",
      "                {\n",
      "                    \"system\": \"http://hl7.org/fhir/v2/0488\",\n",
      "                    \"code\": \"SWA\",\n",
      "                    \"display\": \"Swab\"\n",
      "                }\n",
      "            ]\n",
      "        },\n",
      "        \"bodySite\": {\n",
      "            \"coding\": [\n",
      "                {\n",
      "                    \"system\": \"http://snomed.info/sct\",\n",
      "                    \"code\": \"261063000\",\n",
      "                    \"display\": \"Buccal space\"\n",
      "                }\n",
      "            ]\n",
      "        }\n",
      "    }\n",
      "}\n"
     ]
    }
   ],
   "source": [
    "settings = {\n",
    "        'app_id': 'my_web_app',\n",
    "        'api_base': 'http://fhirtest.b12x.org/r3'\n",
    "    }\n",
    "smart = client.FHIRClient(settings=settings)\n",
    "response = mySpecimen.create(smart.server)\n",
    "print(json.dumps(response.json(), indent=4))"
   ]
  },
  {
   "cell_type": "code",
   "execution_count": 20,
   "metadata": {},
   "outputs": [
    {
     "name": "stdout",
     "output_type": "stream",
     "text": [
      "http://fhirtest.b12x.org/r3/Specimen/3010/_history/1\n"
     ]
    }
   ],
   "source": [
    "print(response.headers['Location'])"
   ]
  },
  {
   "cell_type": "code",
   "execution_count": null,
   "metadata": {},
   "outputs": [],
   "source": []
  }
 ],
 "metadata": {
  "kernelspec": {
   "display_name": "Python 3",
   "language": "python",
   "name": "python3"
  },
  "language_info": {
   "codemirror_mode": {
    "name": "ipython",
    "version": 3
   },
   "file_extension": ".py",
   "mimetype": "text/x-python",
   "name": "python",
   "nbconvert_exporter": "python",
   "pygments_lexer": "ipython3",
   "version": "3.9.5"
  }
 },
 "nbformat": 4,
 "nbformat_minor": 2
}
