{
 "cells": [
  {
   "cell_type": "markdown",
   "metadata": {},
   "source": [
    "This notebook explores the fhirclient package\n",
    "* github\n",
    "    * https://github.com/smart-on-fhir/client-py\n",
    "* Documentation\n",
    "    * http://docs.smarthealthit.org/client-py/\n",
    "    \n",
    "An example in the documentation showed how to create a Patient resource..."
   ]
  },
  {
   "cell_type": "code",
   "execution_count": 1,
   "metadata": {},
   "outputs": [],
   "source": [
    "import fhirclient.models.patient as p\n",
    "patient = p.Patient()"
   ]
  },
  {
   "cell_type": "markdown",
   "metadata": {},
   "source": [
    "But the docs don't go into what methods and attributes are in it. We can use `help()` to find out."
   ]
  },
  {
   "cell_type": "code",
   "execution_count": 2,
   "metadata": {},
   "outputs": [
    {
     "name": "stdout",
     "output_type": "stream",
     "text": [
      "Help on Patient in module fhirclient.models.patient object:\n",
      "\n",
      "class Patient(fhirclient.models.domainresource.DomainResource)\n",
      " |  Information about an individual or animal receiving health care services.\n",
      " |  \n",
      " |  Demographics and other administrative information about an individual or\n",
      " |  animal receiving care or other health-related services.\n",
      " |  \n",
      " |  Method resolution order:\n",
      " |      Patient\n",
      " |      fhirclient.models.domainresource.DomainResource\n",
      " |      fhirclient.models.resource.Resource\n",
      " |      fhirclient.models.fhirabstractresource.FHIRAbstractResource\n",
      " |      fhirclient.models.fhirabstractbase.FHIRAbstractBase\n",
      " |      builtins.object\n",
      " |  \n",
      " |  Methods defined here:\n",
      " |  \n",
      " |  __init__(self, jsondict=None, strict=True)\n",
      " |      Initialize all valid properties.\n",
      " |      \n",
      " |      :raises: FHIRValidationError on validation errors, unless strict is False\n",
      " |      :param dict jsondict: A JSON dictionary to use for initialization\n",
      " |      :param bool strict: If True (the default), invalid variables will raise a TypeError\n",
      " |  \n",
      " |  elementProperties(self)\n",
      " |      Returns a list of tuples, one tuple for each property that should\n",
      " |      be serialized, as: (\"name\", \"json_name\", type, is_list, \"of_many\", not_optional)\n",
      " |  \n",
      " |  ----------------------------------------------------------------------\n",
      " |  Data and other attributes defined here:\n",
      " |  \n",
      " |  resource_type = 'Patient'\n",
      " |  \n",
      " |  ----------------------------------------------------------------------\n",
      " |  Methods inherited from fhirclient.models.fhirabstractresource.FHIRAbstractResource:\n",
      " |  \n",
      " |  as_json(self)\n",
      " |      Serializes to JSON by inspecting `elementProperties()` and creating\n",
      " |      a JSON dictionary of all registered properties. Checks:\n",
      " |      \n",
      " |      - whether required properties are not None (and lists not empty)\n",
      " |      - whether not-None properties are of the correct type\n",
      " |      \n",
      " |      :raises: FHIRValidationError if properties have the wrong type or if\n",
      " |          required properties are empty\n",
      " |      :returns: A validated dict object that can be JSON serialized\n",
      " |  \n",
      " |  create(self, server)\n",
      " |      Attempt to create the receiver on the given server, using a POST\n",
      " |      command.\n",
      " |      \n",
      " |      :param FHIRServer server: The server to create the receiver on\n",
      " |      :returns: None or the response JSON on success\n",
      " |  \n",
      " |  delete(self, server=None)\n",
      " |      Delete the receiver from the given server with a DELETE command.\n",
      " |      \n",
      " |      :param FHIRServer server: The server to update the receiver on;\n",
      " |          optional, will use the instance's `server` if needed.\n",
      " |      :returns: None or the response JSON on success\n",
      " |  \n",
      " |  relativeBase(self)\n",
      " |  \n",
      " |  relativePath(self)\n",
      " |  \n",
      " |  search(self, struct=None)\n",
      " |      Search can be started via a dictionary containing a search\n",
      " |      construct.\n",
      " |      \n",
      " |      Calling this method with a search struct will return a `FHIRSearch`\n",
      " |      object representing the search struct, with \"$type\" and \"id\" added.\n",
      " |      \n",
      " |      :param dict struct: An optional search structure\n",
      " |      :returns: A FHIRSearch instance\n",
      " |  \n",
      " |  update(self, server=None)\n",
      " |      Update the receiver's representation on the given server, issuing\n",
      " |      a PUT command.\n",
      " |      \n",
      " |      :param FHIRServer server: The server to update the receiver on;\n",
      " |          optional, will use the instance's `server` if needed.\n",
      " |      :returns: None or the response JSON on success\n",
      " |  \n",
      " |  ----------------------------------------------------------------------\n",
      " |  Class methods inherited from fhirclient.models.fhirabstractresource.FHIRAbstractResource:\n",
      " |  \n",
      " |  read(rem_id, server) from builtins.type\n",
      " |      Read the resource with the given id from the given server. The\n",
      " |      passed-in server instance must support a `request_json()` method call,\n",
      " |      taking a relative path as first (and only mandatory) argument.\n",
      " |      \n",
      " |      :param str rem_id: The id of the resource on the remote server\n",
      " |      :param FHIRServer server: An instance of a FHIR server or compatible class\n",
      " |      :returns: An instance of the receiving class\n",
      " |  \n",
      " |  read_from(path, server) from builtins.type\n",
      " |      Requests data from the given REST path on the server and creates\n",
      " |      an instance of the receiving class.\n",
      " |      \n",
      " |      :param str path: The REST path to read from\n",
      " |      :param FHIRServer server: An instance of a FHIR server or compatible class\n",
      " |      :returns: An instance of the receiving class\n",
      " |  \n",
      " |  where(struct) from builtins.type\n",
      " |      Search can be started via a dictionary containing a search\n",
      " |      construct.\n",
      " |      \n",
      " |      Calling this method with a search struct will return a `FHIRSearch`\n",
      " |      object representing the search struct\n",
      " |      \n",
      " |      :param dict struct: A search structure\n",
      " |      :returns: A FHIRSearch instance\n",
      " |  \n",
      " |  ----------------------------------------------------------------------\n",
      " |  Data descriptors inherited from fhirclient.models.fhirabstractresource.FHIRAbstractResource:\n",
      " |  \n",
      " |  server\n",
      " |      Walks the owner hierarchy until it finds an owner with a server.\n",
      " |  \n",
      " |  ----------------------------------------------------------------------\n",
      " |  Methods inherited from fhirclient.models.fhirabstractbase.FHIRAbstractBase:\n",
      " |  \n",
      " |  didResolveReference(self, refid, resolved)\n",
      " |      Called by `FHIRResource` when it resolves a reference. Stores the\n",
      " |      resolved reference into the `_resolved` dictionary.\n",
      " |      \n",
      " |      :param refid: The id of the resource that was resolved\n",
      " |      :param refid: The resolved resource, ready to be cached\n",
      " |  \n",
      " |  owningBundle(self)\n",
      " |      Walks the owner hierarchy and returns the next parent that is a\n",
      " |      `Bundle` instance.\n",
      " |  \n",
      " |  owningResource(self)\n",
      " |      Walks the owner hierarchy and returns the next parent that is a\n",
      " |      `DomainResource` instance.\n",
      " |  \n",
      " |  resolvedReference(self, refid)\n",
      " |      Returns the resolved reference with the given id, if it has been\n",
      " |      resolved already. If it hasn't, forwards the call to its owner if it\n",
      " |      has one.\n",
      " |      \n",
      " |      You should probably use `resolve()` on the `FHIRReference` itself.\n",
      " |      \n",
      " |      :param refid: The id of the resource to resolve\n",
      " |      :returns: An instance of `Resource`, if it was found\n",
      " |  \n",
      " |  update_with_json(self, jsondict)\n",
      " |      Update the receiver with data in a JSON dictionary.\n",
      " |      \n",
      " |      :raises: FHIRValidationError on validation errors\n",
      " |      :param dict jsondict: The JSON dictionary to use to update the receiver\n",
      " |      :returns: None on success, a list of errors if there were errors\n",
      " |  \n",
      " |  ----------------------------------------------------------------------\n",
      " |  Class methods inherited from fhirclient.models.fhirabstractbase.FHIRAbstractBase:\n",
      " |  \n",
      " |  with_json(jsonobj) from builtins.type\n",
      " |      Initialize an element from a JSON dictionary or array.\n",
      " |      \n",
      " |      If the JSON dictionary has a \"resourceType\" entry and the specified\n",
      " |      resource type is not the receiving classes type, uses\n",
      " |      `FHIRElementFactory` to return a correct class instance.\n",
      " |      \n",
      " |      :raises: TypeError on anything but dict or list of dicts\n",
      " |      :raises: FHIRValidationError if instantiation fails\n",
      " |      :param jsonobj: A dict or list of dicts to instantiate from\n",
      " |      :returns: An instance or a list of instances created from JSON data\n",
      " |  \n",
      " |  with_json_and_owner(jsonobj, owner) from builtins.type\n",
      " |      Instantiates by forwarding to `with_json()`, then remembers the\n",
      " |      \"owner\" of the instantiated elements. The \"owner\" is the resource\n",
      " |      containing the receiver and is used to resolve contained resources.\n",
      " |      \n",
      " |      :raises: TypeError on anything but dict or list of dicts\n",
      " |      :raises: FHIRValidationError if instantiation fails\n",
      " |      :param dict jsonobj: Decoded JSON dictionary (or list thereof)\n",
      " |      :param FHIRElement owner: The owning parent\n",
      " |      :returns: An instance or a list of instances created from JSON data\n",
      " |  \n",
      " |  ----------------------------------------------------------------------\n",
      " |  Data descriptors inherited from fhirclient.models.fhirabstractbase.FHIRAbstractBase:\n",
      " |  \n",
      " |  __dict__\n",
      " |      dictionary for instance variables (if defined)\n",
      " |  \n",
      " |  __weakref__\n",
      " |      list of weak references to the object (if defined)\n",
      "\n"
     ]
    }
   ],
   "source": [
    "help(patient)"
   ]
  },
  {
   "cell_type": "markdown",
   "metadata": {},
   "source": [
    "The `elementProperties()` method looks interesting"
   ]
  },
  {
   "cell_type": "code",
   "execution_count": 3,
   "metadata": {},
   "outputs": [
    {
     "data": {
      "text/plain": [
       "[('id', 'id', str, False, None, False),\n",
       " ('implicitRules', 'implicitRules', str, False, None, False),\n",
       " ('language', 'language', str, False, None, False),\n",
       " ('meta', 'meta', fhirclient.models.meta.Meta, False, None, False),\n",
       " ('contained',\n",
       "  'contained',\n",
       "  fhirclient.models.resource.Resource,\n",
       "  True,\n",
       "  None,\n",
       "  False),\n",
       " ('extension',\n",
       "  'extension',\n",
       "  fhirclient.models.extension.Extension,\n",
       "  True,\n",
       "  None,\n",
       "  False),\n",
       " ('modifierExtension',\n",
       "  'modifierExtension',\n",
       "  fhirclient.models.extension.Extension,\n",
       "  True,\n",
       "  None,\n",
       "  False),\n",
       " ('text', 'text', fhirclient.models.narrative.Narrative, False, None, False),\n",
       " ('active', 'active', bool, False, None, False),\n",
       " ('address', 'address', fhirclient.models.address.Address, True, None, False),\n",
       " ('animal',\n",
       "  'animal',\n",
       "  fhirclient.models.patient.PatientAnimal,\n",
       "  False,\n",
       "  None,\n",
       "  False),\n",
       " ('birthDate',\n",
       "  'birthDate',\n",
       "  fhirclient.models.fhirdate.FHIRDate,\n",
       "  False,\n",
       "  None,\n",
       "  False),\n",
       " ('communication',\n",
       "  'communication',\n",
       "  fhirclient.models.patient.PatientCommunication,\n",
       "  True,\n",
       "  None,\n",
       "  False),\n",
       " ('contact',\n",
       "  'contact',\n",
       "  fhirclient.models.patient.PatientContact,\n",
       "  True,\n",
       "  None,\n",
       "  False),\n",
       " ('deceasedBoolean', 'deceasedBoolean', bool, False, 'deceased', False),\n",
       " ('deceasedDateTime',\n",
       "  'deceasedDateTime',\n",
       "  fhirclient.models.fhirdate.FHIRDate,\n",
       "  False,\n",
       "  'deceased',\n",
       "  False),\n",
       " ('gender', 'gender', str, False, None, False),\n",
       " ('generalPractitioner',\n",
       "  'generalPractitioner',\n",
       "  fhirclient.models.fhirreference.FHIRReference,\n",
       "  True,\n",
       "  None,\n",
       "  False),\n",
       " ('identifier',\n",
       "  'identifier',\n",
       "  fhirclient.models.identifier.Identifier,\n",
       "  True,\n",
       "  None,\n",
       "  False),\n",
       " ('link', 'link', fhirclient.models.patient.PatientLink, True, None, False),\n",
       " ('managingOrganization',\n",
       "  'managingOrganization',\n",
       "  fhirclient.models.fhirreference.FHIRReference,\n",
       "  False,\n",
       "  None,\n",
       "  False),\n",
       " ('maritalStatus',\n",
       "  'maritalStatus',\n",
       "  fhirclient.models.codeableconcept.CodeableConcept,\n",
       "  False,\n",
       "  None,\n",
       "  False),\n",
       " ('multipleBirthBoolean',\n",
       "  'multipleBirthBoolean',\n",
       "  bool,\n",
       "  False,\n",
       "  'multipleBirth',\n",
       "  False),\n",
       " ('multipleBirthInteger',\n",
       "  'multipleBirthInteger',\n",
       "  int,\n",
       "  False,\n",
       "  'multipleBirth',\n",
       "  False),\n",
       " ('name', 'name', fhirclient.models.humanname.HumanName, True, None, False),\n",
       " ('photo',\n",
       "  'photo',\n",
       "  fhirclient.models.attachment.Attachment,\n",
       "  True,\n",
       "  None,\n",
       "  False),\n",
       " ('telecom',\n",
       "  'telecom',\n",
       "  fhirclient.models.contactpoint.ContactPoint,\n",
       "  True,\n",
       "  None,\n",
       "  False)]"
      ]
     },
     "execution_count": 3,
     "metadata": {},
     "output_type": "execute_result"
    }
   ],
   "source": [
    "patient.elementProperties()"
   ]
  },
  {
   "cell_type": "markdown",
   "metadata": {},
   "source": [
    "Looks like a list of tuples. Let's make it easier to read."
   ]
  },
  {
   "cell_type": "code",
   "execution_count": 4,
   "metadata": {},
   "outputs": [
    {
     "name": "stdout",
     "output_type": "stream",
     "text": [
      "('id', 'id', <class 'str'>, False, None, False)\n",
      "('implicitRules', 'implicitRules', <class 'str'>, False, None, False)\n",
      "('language', 'language', <class 'str'>, False, None, False)\n",
      "('meta', 'meta', <class 'fhirclient.models.meta.Meta'>, False, None, False)\n",
      "('contained', 'contained', <class 'fhirclient.models.resource.Resource'>, True, None, False)\n",
      "('extension', 'extension', <class 'fhirclient.models.extension.Extension'>, True, None, False)\n",
      "('modifierExtension', 'modifierExtension', <class 'fhirclient.models.extension.Extension'>, True, None, False)\n",
      "('text', 'text', <class 'fhirclient.models.narrative.Narrative'>, False, None, False)\n",
      "('active', 'active', <class 'bool'>, False, None, False)\n",
      "('address', 'address', <class 'fhirclient.models.address.Address'>, True, None, False)\n",
      "('animal', 'animal', <class 'fhirclient.models.patient.PatientAnimal'>, False, None, False)\n",
      "('birthDate', 'birthDate', <class 'fhirclient.models.fhirdate.FHIRDate'>, False, None, False)\n",
      "('communication', 'communication', <class 'fhirclient.models.patient.PatientCommunication'>, True, None, False)\n",
      "('contact', 'contact', <class 'fhirclient.models.patient.PatientContact'>, True, None, False)\n",
      "('deceasedBoolean', 'deceasedBoolean', <class 'bool'>, False, 'deceased', False)\n",
      "('deceasedDateTime', 'deceasedDateTime', <class 'fhirclient.models.fhirdate.FHIRDate'>, False, 'deceased', False)\n",
      "('gender', 'gender', <class 'str'>, False, None, False)\n",
      "('generalPractitioner', 'generalPractitioner', <class 'fhirclient.models.fhirreference.FHIRReference'>, True, None, False)\n",
      "('identifier', 'identifier', <class 'fhirclient.models.identifier.Identifier'>, True, None, False)\n",
      "('link', 'link', <class 'fhirclient.models.patient.PatientLink'>, True, None, False)\n",
      "('managingOrganization', 'managingOrganization', <class 'fhirclient.models.fhirreference.FHIRReference'>, False, None, False)\n",
      "('maritalStatus', 'maritalStatus', <class 'fhirclient.models.codeableconcept.CodeableConcept'>, False, None, False)\n",
      "('multipleBirthBoolean', 'multipleBirthBoolean', <class 'bool'>, False, 'multipleBirth', False)\n",
      "('multipleBirthInteger', 'multipleBirthInteger', <class 'int'>, False, 'multipleBirth', False)\n",
      "('name', 'name', <class 'fhirclient.models.humanname.HumanName'>, True, None, False)\n",
      "('photo', 'photo', <class 'fhirclient.models.attachment.Attachment'>, True, None, False)\n",
      "('telecom', 'telecom', <class 'fhirclient.models.contactpoint.ContactPoint'>, True, None, False)\n"
     ]
    }
   ],
   "source": [
    "for element in patient.elementProperties():\n",
    "    print(element)"
   ]
  },
  {
   "cell_type": "markdown",
   "metadata": {},
   "source": [
    "Each tuple has six members. From the `help(patient)`, we see what each member is:\n",
    "```\n",
    "  elementProperties(self)\n",
    "     Returns a list of tuples, one tuple for each property that should\n",
    "     be serialized, as: (\"name\", \"json_name\", type, is_list, \"of_many\", not_optional)\n",
    "```\n",
    "The first three elements are easy to figure out. The last three required looking at the resource specification to confirm suspicions.\n",
    "* `is_list` = Boolean that indicates if more than one member is allowed, i.e., MAX > 1, e.g., cardinality of `0..*` or `1..*`\n",
    "* `of_many` = choice element (pick one), with prefix indicated, e.g, `deceasedBoolean` or `deceasedDateTime`\n",
    "* `not_optional` = required, e.g., cardinality of `1..*`\n",
    "\n",
    "How many elements are required?"
   ]
  },
  {
   "cell_type": "code",
   "execution_count": 5,
   "metadata": {},
   "outputs": [
    {
     "data": {
      "text/plain": [
       "0"
      ]
     },
     "execution_count": 5,
     "metadata": {},
     "output_type": "execute_result"
    }
   ],
   "source": [
    "required = []\n",
    "for element in patient.elementProperties():\n",
    "    if element[5] == True:\n",
    "        required.append(element)\n",
    "len(required)"
   ]
  },
  {
   "cell_type": "markdown",
   "metadata": {},
   "source": [
    "How many elements can have more than one?"
   ]
  },
  {
   "cell_type": "code",
   "execution_count": 6,
   "metadata": {},
   "outputs": [
    {
     "data": {
      "text/plain": [
       "12"
      ]
     },
     "execution_count": 6,
     "metadata": {},
     "output_type": "execute_result"
    }
   ],
   "source": [
    "moreThanOne = []\n",
    "for element in patient.elementProperties():\n",
    "    if element[3] == True:\n",
    "        moreThanOne.append(element)\n",
    "len(moreThanOne)"
   ]
  },
  {
   "cell_type": "markdown",
   "metadata": {},
   "source": [
    "What are they?"
   ]
  },
  {
   "cell_type": "code",
   "execution_count": 7,
   "metadata": {},
   "outputs": [
    {
     "name": "stdout",
     "output_type": "stream",
     "text": [
      "('contained', 'contained', <class 'fhirclient.models.resource.Resource'>, True, None, False)\n",
      "('extension', 'extension', <class 'fhirclient.models.extension.Extension'>, True, None, False)\n",
      "('modifierExtension', 'modifierExtension', <class 'fhirclient.models.extension.Extension'>, True, None, False)\n",
      "('address', 'address', <class 'fhirclient.models.address.Address'>, True, None, False)\n",
      "('communication', 'communication', <class 'fhirclient.models.patient.PatientCommunication'>, True, None, False)\n",
      "('contact', 'contact', <class 'fhirclient.models.patient.PatientContact'>, True, None, False)\n",
      "('generalPractitioner', 'generalPractitioner', <class 'fhirclient.models.fhirreference.FHIRReference'>, True, None, False)\n",
      "('identifier', 'identifier', <class 'fhirclient.models.identifier.Identifier'>, True, None, False)\n",
      "('link', 'link', <class 'fhirclient.models.patient.PatientLink'>, True, None, False)\n",
      "('name', 'name', <class 'fhirclient.models.humanname.HumanName'>, True, None, False)\n",
      "('photo', 'photo', <class 'fhirclient.models.attachment.Attachment'>, True, None, False)\n",
      "('telecom', 'telecom', <class 'fhirclient.models.contactpoint.ContactPoint'>, True, None, False)\n"
     ]
    }
   ],
   "source": [
    "for element in moreThanOne:\n",
    "    print(element)"
   ]
  },
  {
   "cell_type": "markdown",
   "metadata": {},
   "source": [
    "Another method for the patient object is `.as_json()` which will serialize the object.<p>\n",
    "Let's try it."
   ]
  },
  {
   "cell_type": "code",
   "execution_count": 8,
   "metadata": {},
   "outputs": [
    {
     "data": {
      "text/plain": [
       "{'resourceType': 'Patient'}"
      ]
     },
     "execution_count": 8,
     "metadata": {},
     "output_type": "execute_result"
    }
   ],
   "source": [
    "patient.as_json()"
   ]
  },
  {
   "cell_type": "markdown",
   "metadata": {},
   "source": [
    "When patient was created, it automatically filled in the `resourceType`\n",
    "\n",
    "Let's add an `id`."
   ]
  },
  {
   "cell_type": "code",
   "execution_count": 9,
   "metadata": {},
   "outputs": [
    {
     "name": "stdout",
     "output_type": "stream",
     "text": [
      "{'id': 'patient-0', 'resourceType': 'Patient'}\n"
     ]
    }
   ],
   "source": [
    "patient.id = 'patient-0'\n",
    "print(patient.as_json())"
   ]
  },
  {
   "cell_type": "markdown",
   "metadata": {},
   "source": [
    "We can pretty print this with `json.dumps()`"
   ]
  },
  {
   "cell_type": "code",
   "execution_count": 10,
   "metadata": {},
   "outputs": [
    {
     "name": "stdout",
     "output_type": "stream",
     "text": [
      "{\n",
      "    \"id\": \"patient-0\",\n",
      "    \"resourceType\": \"Patient\"\n",
      "}\n"
     ]
    }
   ],
   "source": [
    "import json\n",
    "print(json.dumps(patient.as_json(), indent=4))"
   ]
  },
  {
   "cell_type": "markdown",
   "metadata": {},
   "source": [
    "Now let's create a Specimen resource.<br>\n",
    "It's similar to how we created a Patient."
   ]
  },
  {
   "cell_type": "code",
   "execution_count": 11,
   "metadata": {},
   "outputs": [
    {
     "name": "stdout",
     "output_type": "stream",
     "text": [
      "('id', 'id', <class 'str'>, False, None, False)\n",
      "('implicitRules', 'implicitRules', <class 'str'>, False, None, False)\n",
      "('language', 'language', <class 'str'>, False, None, False)\n",
      "('meta', 'meta', <class 'fhirclient.models.meta.Meta'>, False, None, False)\n",
      "('contained', 'contained', <class 'fhirclient.models.resource.Resource'>, True, None, False)\n",
      "('extension', 'extension', <class 'fhirclient.models.extension.Extension'>, True, None, False)\n",
      "('modifierExtension', 'modifierExtension', <class 'fhirclient.models.extension.Extension'>, True, None, False)\n",
      "('text', 'text', <class 'fhirclient.models.narrative.Narrative'>, False, None, False)\n",
      "('accessionIdentifier', 'accessionIdentifier', <class 'fhirclient.models.identifier.Identifier'>, False, None, False)\n",
      "('collection', 'collection', <class 'fhirclient.models.specimen.SpecimenCollection'>, False, None, False)\n",
      "('container', 'container', <class 'fhirclient.models.specimen.SpecimenContainer'>, True, None, False)\n",
      "('identifier', 'identifier', <class 'fhirclient.models.identifier.Identifier'>, True, None, False)\n",
      "('note', 'note', <class 'fhirclient.models.annotation.Annotation'>, True, None, False)\n",
      "('parent', 'parent', <class 'fhirclient.models.fhirreference.FHIRReference'>, True, None, False)\n",
      "('processing', 'processing', <class 'fhirclient.models.specimen.SpecimenProcessing'>, True, None, False)\n",
      "('receivedTime', 'receivedTime', <class 'fhirclient.models.fhirdate.FHIRDate'>, False, None, False)\n",
      "('request', 'request', <class 'fhirclient.models.fhirreference.FHIRReference'>, True, None, False)\n",
      "('status', 'status', <class 'str'>, False, None, False)\n",
      "('subject', 'subject', <class 'fhirclient.models.fhirreference.FHIRReference'>, False, None, True)\n",
      "('type', 'type', <class 'fhirclient.models.codeableconcept.CodeableConcept'>, False, None, False)\n"
     ]
    }
   ],
   "source": [
    "import fhirclient.models.specimen as s\n",
    "specimen = s.Specimen()\n",
    "for element in specimen.elementProperties():\n",
    "    print(element)"
   ]
  },
  {
   "cell_type": "markdown",
   "metadata": {},
   "source": [
    "Which are required?"
   ]
  },
  {
   "cell_type": "code",
   "execution_count": 12,
   "metadata": {},
   "outputs": [
    {
     "name": "stdout",
     "output_type": "stream",
     "text": [
      "('subject', 'subject', <class 'fhirclient.models.fhirreference.FHIRReference'>, False, None, True)\n"
     ]
    }
   ],
   "source": [
    "required = []\n",
    "for element in specimen.elementProperties():\n",
    "    if element[5] == True:\n",
    "        required.append(element)\n",
    "for element in required:\n",
    "    print(element)"
   ]
  },
  {
   "cell_type": "markdown",
   "metadata": {},
   "source": [
    "To add a subject, we need an object that is a `fhirclient.models.fhirreference.FHIRReference`<p>"
   ]
  },
  {
   "cell_type": "code",
   "execution_count": 13,
   "metadata": {},
   "outputs": [
    {
     "name": "stdout",
     "output_type": "stream",
     "text": [
      "('extension', 'extension', <class 'fhirclient.models.extension.Extension'>, True, None, False)\n",
      "('id', 'id', <class 'str'>, False, None, False)\n",
      "('display', 'display', <class 'str'>, False, None, False)\n",
      "('identifier', 'identifier', <class 'fhirclient.models.identifier.Identifier'>, False, None, False)\n",
      "('reference', 'reference', <class 'str'>, False, None, False)\n"
     ]
    }
   ],
   "source": [
    "import fhirclient.models.fhirreference as r\n",
    "reference = r.FHIRReference()\n",
    "for element in reference.elementProperties():\n",
    "    print(element)"
   ]
  },
  {
   "cell_type": "markdown",
   "metadata": {},
   "source": [
    "What we want is the `id` which is a `<class str>`. We don't have one yet that associated with a server, but we can create one that will be used as a local reference in a bundle. For that we'll use a `uuid`. We'll create one for our `Patient` and create an attribute for it. "
   ]
  },
  {
   "cell_type": "code",
   "execution_count": 14,
   "metadata": {},
   "outputs": [
    {
     "name": "stdout",
     "output_type": "stream",
     "text": [
      "urn:uuid:ea36ec83-40e6-4d74-a6ab-3e63620be27b\n"
     ]
    }
   ],
   "source": [
    "import uuid\n",
    "patient.uuid = uuid.uuid4().urn\n",
    "print(patient.uuid)"
   ]
  },
  {
   "cell_type": "markdown",
   "metadata": {},
   "source": [
    "One thing I discovered is that even though I can add an attribute to a resource object, it won't affect the behaviour of the methods. For example, I can see `uuid` when I do a `patient.__dict__`, but it's not listed among the `.elementsProperties()` method."
   ]
  },
  {
   "cell_type": "code",
   "execution_count": 15,
   "metadata": {},
   "outputs": [
    {
     "data": {
      "text/plain": [
       "{'active': None,\n",
       " 'address': None,\n",
       " 'animal': None,\n",
       " 'birthDate': None,\n",
       " 'communication': None,\n",
       " 'contact': None,\n",
       " 'deceasedBoolean': None,\n",
       " 'deceasedDateTime': None,\n",
       " 'gender': None,\n",
       " 'generalPractitioner': None,\n",
       " 'identifier': None,\n",
       " 'link': None,\n",
       " 'managingOrganization': None,\n",
       " 'maritalStatus': None,\n",
       " 'multipleBirthBoolean': None,\n",
       " 'multipleBirthInteger': None,\n",
       " 'name': None,\n",
       " 'photo': None,\n",
       " 'telecom': None,\n",
       " 'contained': None,\n",
       " 'extension': None,\n",
       " 'modifierExtension': None,\n",
       " 'text': None,\n",
       " 'id': 'patient-0',\n",
       " 'implicitRules': None,\n",
       " 'language': None,\n",
       " 'meta': None,\n",
       " '_server': None,\n",
       " '_resolved': None,\n",
       " '_owner': None,\n",
       " 'uuid': 'urn:uuid:ea36ec83-40e6-4d74-a6ab-3e63620be27b'}"
      ]
     },
     "execution_count": 15,
     "metadata": {},
     "output_type": "execute_result"
    }
   ],
   "source": [
    "patient.__dict__"
   ]
  },
  {
   "cell_type": "code",
   "execution_count": 16,
   "metadata": {},
   "outputs": [
    {
     "name": "stdout",
     "output_type": "stream",
     "text": [
      "('id', 'id', <class 'str'>, False, None, False)\n",
      "('implicitRules', 'implicitRules', <class 'str'>, False, None, False)\n",
      "('language', 'language', <class 'str'>, False, None, False)\n",
      "('meta', 'meta', <class 'fhirclient.models.meta.Meta'>, False, None, False)\n",
      "('contained', 'contained', <class 'fhirclient.models.resource.Resource'>, True, None, False)\n",
      "('extension', 'extension', <class 'fhirclient.models.extension.Extension'>, True, None, False)\n",
      "('modifierExtension', 'modifierExtension', <class 'fhirclient.models.extension.Extension'>, True, None, False)\n",
      "('text', 'text', <class 'fhirclient.models.narrative.Narrative'>, False, None, False)\n",
      "('active', 'active', <class 'bool'>, False, None, False)\n",
      "('address', 'address', <class 'fhirclient.models.address.Address'>, True, None, False)\n",
      "('animal', 'animal', <class 'fhirclient.models.patient.PatientAnimal'>, False, None, False)\n",
      "('birthDate', 'birthDate', <class 'fhirclient.models.fhirdate.FHIRDate'>, False, None, False)\n",
      "('communication', 'communication', <class 'fhirclient.models.patient.PatientCommunication'>, True, None, False)\n",
      "('contact', 'contact', <class 'fhirclient.models.patient.PatientContact'>, True, None, False)\n",
      "('deceasedBoolean', 'deceasedBoolean', <class 'bool'>, False, 'deceased', False)\n",
      "('deceasedDateTime', 'deceasedDateTime', <class 'fhirclient.models.fhirdate.FHIRDate'>, False, 'deceased', False)\n",
      "('gender', 'gender', <class 'str'>, False, None, False)\n",
      "('generalPractitioner', 'generalPractitioner', <class 'fhirclient.models.fhirreference.FHIRReference'>, True, None, False)\n",
      "('identifier', 'identifier', <class 'fhirclient.models.identifier.Identifier'>, True, None, False)\n",
      "('link', 'link', <class 'fhirclient.models.patient.PatientLink'>, True, None, False)\n",
      "('managingOrganization', 'managingOrganization', <class 'fhirclient.models.fhirreference.FHIRReference'>, False, None, False)\n",
      "('maritalStatus', 'maritalStatus', <class 'fhirclient.models.codeableconcept.CodeableConcept'>, False, None, False)\n",
      "('multipleBirthBoolean', 'multipleBirthBoolean', <class 'bool'>, False, 'multipleBirth', False)\n",
      "('multipleBirthInteger', 'multipleBirthInteger', <class 'int'>, False, 'multipleBirth', False)\n",
      "('name', 'name', <class 'fhirclient.models.humanname.HumanName'>, True, None, False)\n",
      "('photo', 'photo', <class 'fhirclient.models.attachment.Attachment'>, True, None, False)\n",
      "('telecom', 'telecom', <class 'fhirclient.models.contactpoint.ContactPoint'>, True, None, False)\n"
     ]
    }
   ],
   "source": [
    "for element in patient.elementProperties():\n",
    "    print(element)"
   ]
  },
  {
   "cell_type": "code",
   "execution_count": 17,
   "metadata": {},
   "outputs": [
    {
     "name": "stdout",
     "output_type": "stream",
     "text": [
      "{\n",
      "    \"subject\": {\n",
      "        \"id\": \"urn:uuid:ea36ec83-40e6-4d74-a6ab-3e63620be27b\"\n",
      "    },\n",
      "    \"resourceType\": \"Specimen\"\n",
      "}\n"
     ]
    }
   ],
   "source": [
    "reference.id = patient.uuid\n",
    "specimen.subject = reference\n",
    "print(json.dumps(specimen.as_json(), indent=4))"
   ]
  },
  {
   "cell_type": "markdown",
   "metadata": {},
   "source": [
    "Since we need reference ids for all resources in the bundle we will create, we should add one for `specimen`"
   ]
  },
  {
   "cell_type": "code",
   "execution_count": 18,
   "metadata": {},
   "outputs": [
    {
     "name": "stdout",
     "output_type": "stream",
     "text": [
      "urn:uuid:89eed5f9-0366-4a18-aacd-abebc4472606\n"
     ]
    }
   ],
   "source": [
    "specimen.uuid = uuid.uuid4().urn\n",
    "print(specimen.uuid)"
   ]
  },
  {
   "cell_type": "code",
   "execution_count": 19,
   "metadata": {},
   "outputs": [
    {
     "name": "stdout",
     "output_type": "stream",
     "text": [
      "{\n",
      "    \"subject\": {\n",
      "        \"id\": \"urn:uuid:ea36ec83-40e6-4d74-a6ab-3e63620be27b\"\n",
      "    },\n",
      "    \"resourceType\": \"Specimen\"\n",
      "}\n"
     ]
    }
   ],
   "source": [
    "print(json.dumps(specimen.as_json(), indent=4))"
   ]
  },
  {
   "cell_type": "markdown",
   "metadata": {},
   "source": [
    "Let's add some more information about the sample. For example, we can add `collection` which is a `<class 'fhirclient.models.specimen.SpecimenCollection'>`"
   ]
  },
  {
   "cell_type": "code",
   "execution_count": 20,
   "metadata": {},
   "outputs": [
    {
     "name": "stdout",
     "output_type": "stream",
     "text": [
      "('extension', 'extension', <class 'fhirclient.models.extension.Extension'>, True, None, False)\n",
      "('id', 'id', <class 'str'>, False, None, False)\n",
      "('modifierExtension', 'modifierExtension', <class 'fhirclient.models.extension.Extension'>, True, None, False)\n",
      "('bodySite', 'bodySite', <class 'fhirclient.models.codeableconcept.CodeableConcept'>, False, None, False)\n",
      "('collectedDateTime', 'collectedDateTime', <class 'fhirclient.models.fhirdate.FHIRDate'>, False, 'collected', False)\n",
      "('collectedPeriod', 'collectedPeriod', <class 'fhirclient.models.period.Period'>, False, 'collected', False)\n",
      "('collector', 'collector', <class 'fhirclient.models.fhirreference.FHIRReference'>, False, None, False)\n",
      "('method', 'method', <class 'fhirclient.models.codeableconcept.CodeableConcept'>, False, None, False)\n",
      "('quantity', 'quantity', <class 'fhirclient.models.quantity.Quantity'>, False, None, False)\n"
     ]
    }
   ],
   "source": [
    "collection = s.SpecimenCollection()\n",
    "for element in collection.elementProperties():\n",
    "    print(element)"
   ]
  },
  {
   "cell_type": "code",
   "execution_count": 21,
   "metadata": {},
   "outputs": [
    {
     "name": "stdout",
     "output_type": "stream",
     "text": [
      "{\n",
      "    \"subject\": {\n",
      "        \"id\": \"urn:uuid:ea36ec83-40e6-4d74-a6ab-3e63620be27b\"\n",
      "    },\n",
      "    \"resourceType\": \"Specimen\"\n",
      "}\n"
     ]
    }
   ],
   "source": [
    "print(json.dumps(specimen.as_json(), indent=4))"
   ]
  },
  {
   "cell_type": "markdown",
   "metadata": {},
   "source": [
    "Adding `bodySite` to `collection`"
   ]
  },
  {
   "cell_type": "code",
   "execution_count": 22,
   "metadata": {},
   "outputs": [
    {
     "name": "stdout",
     "output_type": "stream",
     "text": [
      "('extension', 'extension', <class 'fhirclient.models.extension.Extension'>, True, None, False)\n",
      "('id', 'id', <class 'str'>, False, None, False)\n",
      "('coding', 'coding', <class 'fhirclient.models.coding.Coding'>, True, None, False)\n",
      "('text', 'text', <class 'str'>, False, None, False)\n"
     ]
    }
   ],
   "source": [
    "import fhirclient.models.codeableconcept as cc\n",
    "bodysite = cc.CodeableConcept()\n",
    "for element in bodysite.elementProperties():\n",
    "    print(element)"
   ]
  },
  {
   "cell_type": "markdown",
   "metadata": {},
   "source": [
    "Adding `coding` to `bodysite`"
   ]
  },
  {
   "cell_type": "code",
   "execution_count": 23,
   "metadata": {},
   "outputs": [
    {
     "name": "stdout",
     "output_type": "stream",
     "text": [
      "('extension', 'extension', <class 'fhirclient.models.extension.Extension'>, True, None, False)\n",
      "('id', 'id', <class 'str'>, False, None, False)\n",
      "('code', 'code', <class 'str'>, False, None, False)\n",
      "('display', 'display', <class 'str'>, False, None, False)\n",
      "('system', 'system', <class 'str'>, False, None, False)\n",
      "('userSelected', 'userSelected', <class 'bool'>, False, None, False)\n",
      "('version', 'version', <class 'str'>, False, None, False)\n"
     ]
    }
   ],
   "source": [
    "import fhirclient.models.coding as c\n",
    "bodysitecode = c.Coding()\n",
    "for element in bodysitecode.elementProperties():\n",
    "    print(element)"
   ]
  },
  {
   "cell_type": "markdown",
   "metadata": {},
   "source": [
    "Fill in details for `system`, `code`, and `display`"
   ]
  },
  {
   "cell_type": "code",
   "execution_count": 24,
   "metadata": {},
   "outputs": [
    {
     "name": "stdout",
     "output_type": "stream",
     "text": [
      "{\n",
      "    \"code\": \"261063000\",\n",
      "    \"display\": \"Buccal space\",\n",
      "    \"system\": \"http://snomed.info/sct\"\n",
      "}\n"
     ]
    },
    {
     "ename": "FHIRValidationError",
     "evalue": "{root}:\n  coding:\n    Expecting property \"coding\" on <class 'fhirclient.models.codeableconcept.CodeableConcept'> to be list, but is <class 'fhirclient.models.coding.Coding'>",
     "output_type": "error",
     "traceback": [
      "\u001b[1;31m---------------------------------------------------------------------------\u001b[0m",
      "\u001b[1;31mFHIRValidationError\u001b[0m                       Traceback (most recent call last)",
      "\u001b[1;32m<ipython-input-24-e97e713022a3>\u001b[0m in \u001b[0;36m<module>\u001b[1;34m()\u001b[0m\n\u001b[0;32m      4\u001b[0m \u001b[0mprint\u001b[0m\u001b[1;33m(\u001b[0m\u001b[0mjson\u001b[0m\u001b[1;33m.\u001b[0m\u001b[0mdumps\u001b[0m\u001b[1;33m(\u001b[0m\u001b[0mbodysitecode\u001b[0m\u001b[1;33m.\u001b[0m\u001b[0mas_json\u001b[0m\u001b[1;33m(\u001b[0m\u001b[1;33m)\u001b[0m\u001b[1;33m,\u001b[0m \u001b[0mindent\u001b[0m\u001b[1;33m=\u001b[0m\u001b[1;36m4\u001b[0m\u001b[1;33m)\u001b[0m\u001b[1;33m)\u001b[0m\u001b[1;33m\u001b[0m\u001b[0m\n\u001b[0;32m      5\u001b[0m \u001b[0mbodysite\u001b[0m\u001b[1;33m.\u001b[0m\u001b[0mcoding\u001b[0m \u001b[1;33m=\u001b[0m \u001b[0mbodysitecode\u001b[0m\u001b[1;33m\u001b[0m\u001b[0m\n\u001b[1;32m----> 6\u001b[1;33m \u001b[0mprint\u001b[0m\u001b[1;33m(\u001b[0m\u001b[0mjson\u001b[0m\u001b[1;33m.\u001b[0m\u001b[0mdumps\u001b[0m\u001b[1;33m(\u001b[0m\u001b[0mbodysite\u001b[0m\u001b[1;33m.\u001b[0m\u001b[0mas_json\u001b[0m\u001b[1;33m(\u001b[0m\u001b[1;33m)\u001b[0m\u001b[1;33m,\u001b[0m \u001b[0mindent\u001b[0m\u001b[1;33m=\u001b[0m\u001b[1;36m4\u001b[0m\u001b[1;33m)\u001b[0m\u001b[1;33m)\u001b[0m\u001b[1;33m\u001b[0m\u001b[0m\n\u001b[0m\u001b[0;32m      7\u001b[0m \u001b[0mcollection\u001b[0m\u001b[1;33m.\u001b[0m\u001b[0mbodySite\u001b[0m \u001b[1;33m=\u001b[0m \u001b[0mbodysite\u001b[0m\u001b[1;33m\u001b[0m\u001b[0m\n\u001b[0;32m      8\u001b[0m \u001b[0mprint\u001b[0m\u001b[1;33m(\u001b[0m\u001b[0mjson\u001b[0m\u001b[1;33m.\u001b[0m\u001b[0mdumps\u001b[0m\u001b[1;33m(\u001b[0m\u001b[0mcollection\u001b[0m\u001b[1;33m.\u001b[0m\u001b[0mas_json\u001b[0m\u001b[1;33m(\u001b[0m\u001b[1;33m)\u001b[0m\u001b[1;33m,\u001b[0m \u001b[0mindent\u001b[0m\u001b[1;33m=\u001b[0m\u001b[1;36m4\u001b[0m\u001b[1;33m)\u001b[0m\u001b[1;33m)\u001b[0m\u001b[1;33m\u001b[0m\u001b[0m\n",
      "\u001b[1;32m~/src/github-bmilius-nmdp/pytestfhir/venv/lib/python3.6/site-packages/fhirclient/models/fhirabstractbase.py\u001b[0m in \u001b[0;36mas_json\u001b[1;34m(self)\u001b[0m\n\u001b[0;32m    295\u001b[0m \u001b[1;33m\u001b[0m\u001b[0m\n\u001b[0;32m    296\u001b[0m         \u001b[1;32mif\u001b[0m \u001b[0mlen\u001b[0m\u001b[1;33m(\u001b[0m\u001b[0merrs\u001b[0m\u001b[1;33m)\u001b[0m \u001b[1;33m>\u001b[0m \u001b[1;36m0\u001b[0m\u001b[1;33m:\u001b[0m\u001b[1;33m\u001b[0m\u001b[0m\n\u001b[1;32m--> 297\u001b[1;33m             \u001b[1;32mraise\u001b[0m \u001b[0mFHIRValidationError\u001b[0m\u001b[1;33m(\u001b[0m\u001b[0merrs\u001b[0m\u001b[1;33m)\u001b[0m\u001b[1;33m\u001b[0m\u001b[0m\n\u001b[0m\u001b[0;32m    298\u001b[0m         \u001b[1;32mreturn\u001b[0m \u001b[0mjs\u001b[0m\u001b[1;33m\u001b[0m\u001b[0m\n\u001b[0;32m    299\u001b[0m \u001b[1;33m\u001b[0m\u001b[0m\n",
      "\u001b[1;31mFHIRValidationError\u001b[0m: {root}:\n  coding:\n    Expecting property \"coding\" on <class 'fhirclient.models.codeableconcept.CodeableConcept'> to be list, but is <class 'fhirclient.models.coding.Coding'>"
     ]
    }
   ],
   "source": [
    "bodysitecode.system = 'http://snomed.info/sct'\n",
    "bodysitecode.code = '261063000'\n",
    "bodysitecode.display = 'Buccal space'\n",
    "print(json.dumps(bodysitecode.as_json(), indent=4))\n",
    "bodysite.coding = bodysitecode\n",
    "print(json.dumps(bodysite.as_json(), indent=4))\n",
    "collection.bodySite = bodysite\n",
    "print(json.dumps(collection.as_json(), indent=4))"
   ]
  },
  {
   "cell_type": "markdown",
   "metadata": {},
   "source": [
    "Repeat for `method`"
   ]
  },
  {
   "cell_type": "code",
   "execution_count": null,
   "metadata": {},
   "outputs": [],
   "source": [
    "method = cc.CodeableConcept()\n",
    "methodcode = c.Coding()\n",
    "methodcode.system = 'http://hl7.org/fhir/v2/0488'\n",
    "methodcode.code = 'SWA'\n",
    "methodcode.display = 'Swab'\n",
    "method.coding = methodcode\n",
    "collection.method = method"
   ]
  },
  {
   "cell_type": "markdown",
   "metadata": {},
   "source": [
    "Add this collection to `specimen`"
   ]
  },
  {
   "cell_type": "code",
   "execution_count": null,
   "metadata": {},
   "outputs": [],
   "source": [
    "specimen.collection = collection\n",
    "print(json.dumps(specimen.as_json, indent=4))"
   ]
  },
  {
   "cell_type": "code",
   "execution_count": null,
   "metadata": {},
   "outputs": [],
   "source": []
  }
 ],
 "metadata": {
  "kernelspec": {
   "display_name": "Python 3",
   "language": "python",
   "name": "python3"
  },
  "language_info": {
   "codemirror_mode": {
    "name": "ipython",
    "version": 3
   },
   "file_extension": ".py",
   "mimetype": "text/x-python",
   "name": "python",
   "nbconvert_exporter": "python",
   "pygments_lexer": "ipython3",
   "version": "3.7.3"
  }
 },
 "nbformat": 4,
 "nbformat_minor": 2
}
