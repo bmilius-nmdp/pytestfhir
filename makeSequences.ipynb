{
 "cells": [
  {
   "cell_type": "markdown",
   "metadata": {},
   "source": [
    "The Specimen was sent to the lab for HLA-A typing by full gene sequencing. Two sequences were acquired. Both sequences are put into a single fasta file."
   ]
  },
  {
   "cell_type": "code",
   "execution_count": 1,
   "metadata": {},
   "outputs": [],
   "source": [
    "import json\n",
    "from Bio import SeqIO # biopython\n",
    "from yattag import Doc # for generating HTML\n",
    "from fhirclient import client\n",
    "import fhirclient.models.codeableconcept as cc\n",
    "import fhirclient.models.coding as co\n",
    "import fhirclient.models.sequence as seq\n",
    "import fhirclient.models.narrative as nar"
   ]
  },
  {
   "cell_type": "code",
   "execution_count": 2,
   "metadata": {},
   "outputs": [
    {
     "name": "stdout",
     "output_type": "stream",
     "text": [
      "HLA-A*01:01:01:01\n",
      "HLA-A*01:02\n"
     ]
    }
   ],
   "source": [
    "# check the fasta file for ids\n",
    "myFastas = list(SeqIO.parse(\"seq.fasta\", \"fasta\"))\n",
    "for s in myFastas:\n",
    "    print(s.id)"
   ]
  },
  {
   "cell_type": "code",
   "execution_count": 3,
   "metadata": {},
   "outputs": [
    {
     "name": "stdout",
     "output_type": "stream",
     "text": [
      "('id', 'id', <class 'str'>, False, None, False)\n",
      "('implicitRules', 'implicitRules', <class 'str'>, False, None, False)\n",
      "('language', 'language', <class 'str'>, False, None, False)\n",
      "('meta', 'meta', <class 'fhirclient.models.meta.Meta'>, False, None, False)\n",
      "('contained', 'contained', <class 'fhirclient.models.resource.Resource'>, True, None, False)\n",
      "('extension', 'extension', <class 'fhirclient.models.extension.Extension'>, True, None, False)\n",
      "('modifierExtension', 'modifierExtension', <class 'fhirclient.models.extension.Extension'>, True, None, False)\n",
      "('text', 'text', <class 'fhirclient.models.narrative.Narrative'>, False, None, False)\n",
      "('coordinateSystem', 'coordinateSystem', <class 'int'>, False, None, True)\n",
      "('device', 'device', <class 'fhirclient.models.fhirreference.FHIRReference'>, False, None, False)\n",
      "('identifier', 'identifier', <class 'fhirclient.models.identifier.Identifier'>, True, None, False)\n",
      "('observedSeq', 'observedSeq', <class 'str'>, False, None, False)\n",
      "('patient', 'patient', <class 'fhirclient.models.fhirreference.FHIRReference'>, False, None, False)\n",
      "('performer', 'performer', <class 'fhirclient.models.fhirreference.FHIRReference'>, False, None, False)\n",
      "('pointer', 'pointer', <class 'fhirclient.models.fhirreference.FHIRReference'>, True, None, False)\n",
      "('quality', 'quality', <class 'fhirclient.models.sequence.SequenceQuality'>, True, None, False)\n",
      "('quantity', 'quantity', <class 'fhirclient.models.quantity.Quantity'>, False, None, False)\n",
      "('readCoverage', 'readCoverage', <class 'int'>, False, None, False)\n",
      "('referenceSeq', 'referenceSeq', <class 'fhirclient.models.sequence.SequenceReferenceSeq'>, False, None, False)\n",
      "('repository', 'repository', <class 'fhirclient.models.sequence.SequenceRepository'>, True, None, False)\n",
      "('specimen', 'specimen', <class 'fhirclient.models.fhirreference.FHIRReference'>, False, None, False)\n",
      "('type', 'type', <class 'str'>, False, None, False)\n",
      "('variant', 'variant', <class 'fhirclient.models.sequence.SequenceVariant'>, True, None, False)\n"
     ]
    }
   ],
   "source": [
    "mySeq = seq.Sequence()\n",
    "for eproperty in mySeq.elementProperties():\n",
    "    print(eproperty)"
   ]
  },
  {
   "cell_type": "code",
   "execution_count": 4,
   "metadata": {},
   "outputs": [
    {
     "name": "stdout",
     "output_type": "stream",
     "text": [
      "('coordinateSystem', 'coordinateSystem', <class 'int'>, False, None, True)\n"
     ]
    }
   ],
   "source": [
    "for eproperty in mySeq.elementProperties():\n",
    "    if eproperty[5] == True:\n",
    "        print(eproperty)"
   ]
  },
  {
   "cell_type": "code",
   "execution_count": 5,
   "metadata": {},
   "outputs": [],
   "source": [
    "mySeq.coordinateSystem = 0\n",
    "mySeq.type = 'dna'"
   ]
  },
  {
   "cell_type": "code",
   "execution_count": 6,
   "metadata": {},
   "outputs": [
    {
     "name": "stdout",
     "output_type": "stream",
     "text": [
      "('extension', 'extension', <class 'fhirclient.models.extension.Extension'>, True, None, False)\n",
      "('id', 'id', <class 'str'>, False, None, False)\n",
      "('modifierExtension', 'modifierExtension', <class 'fhirclient.models.extension.Extension'>, True, None, False)\n",
      "('chromosome', 'chromosome', <class 'fhirclient.models.codeableconcept.CodeableConcept'>, False, None, False)\n",
      "('genomeBuild', 'genomeBuild', <class 'str'>, False, None, False)\n",
      "('referenceSeqId', 'referenceSeqId', <class 'fhirclient.models.codeableconcept.CodeableConcept'>, False, None, False)\n",
      "('referenceSeqPointer', 'referenceSeqPointer', <class 'fhirclient.models.fhirreference.FHIRReference'>, False, None, False)\n",
      "('referenceSeqString', 'referenceSeqString', <class 'str'>, False, None, False)\n",
      "('strand', 'strand', <class 'int'>, False, None, False)\n",
      "('windowEnd', 'windowEnd', <class 'int'>, False, None, True)\n",
      "('windowStart', 'windowStart', <class 'int'>, False, None, True)\n"
     ]
    }
   ],
   "source": [
    "seqRef = seq.SequenceReferenceSeq()\n",
    "for eproperty in seqRef.elementProperties():\n",
    "    print(eproperty)"
   ]
  },
  {
   "cell_type": "code",
   "execution_count": 7,
   "metadata": {},
   "outputs": [
    {
     "name": "stdout",
     "output_type": "stream",
     "text": [
      "{\n",
      "    \"coding\": [\n",
      "        {\n",
      "            \"code\": \"HLA00001\",\n",
      "            \"display\": \"HLA-A*01:01:01:01\",\n",
      "            \"system\": \"http://www.ebi.ac.uk/ipd/imgt/hla/\",\n",
      "            \"version\": \"3.23\"\n",
      "        }\n",
      "    ]\n",
      "}\n"
     ]
    }
   ],
   "source": [
    "refSeqId = cc.CodeableConcept()\n",
    "refSeqIdCoding = co.Coding()\n",
    "refSeqIdCoding.system = 'http://www.ebi.ac.uk/ipd/imgt/hla/'\n",
    "refSeqIdCoding.version = '3.23'\n",
    "refSeqIdCoding.code = 'HLA00001'\n",
    "refSeqIdCoding.display = myFastas[0].id\n",
    "refSeqId.coding = [refSeqIdCoding] # is_list for coding is True, so must be put into a list\n",
    "print(json.dumps(refSeqId.as_json(), indent=4))"
   ]
  },
  {
   "cell_type": "code",
   "execution_count": 8,
   "metadata": {},
   "outputs": [
    {
     "name": "stdout",
     "output_type": "stream",
     "text": [
      "HLA-A*01:01:01:01\n"
     ]
    }
   ],
   "source": [
    "seqRef.referenceSeqId = refSeqId\n",
    "seqRef.windowStart = 0\n",
    "seqRef.windowEnd = len(myFastas[0].seq) # interval coordinate system, whole sequence\n",
    "seqRef.referenceSeqString = str(myFastas[0].seq)\n",
    "mySeq.referenceSeq = seqRef\n",
    "# print(json.dumps(mySeq.as_json(), indent=4))\n",
    "print(myFastas[0].id)\n",
    "doc, tag, text = Doc().tagtext()\n",
    "with tag('div', xmlns=\"http://www.w3.org/1999/xhtml\"):\n",
    "    with tag('pre'):\n",
    "        text('this is ' +  \n",
    "             myFastas[0].id + \n",
    "             ' end'\n",
    "        )\n",
    "# print(doc.getvalue())\n"
   ]
  },
  {
   "cell_type": "code",
   "execution_count": 9,
   "metadata": {},
   "outputs": [
    {
     "name": "stdout",
     "output_type": "stream",
     "text": [
      "{\n",
      "    \"text\": {\n",
      "        \"div\": \"<div xmlns=\\\"http://www.w3.org/1999/xhtml\\\"><table><tr><td>fasta id</td><td>HLA-A*01:01:01:01</td></tr><tr><td>reference display</td><td>HLA-A*01:01:01:01</td></tr><tr><td>reference system</td><td>http://www.ebi.ac.uk/ipd/imgt/hla/</td></tr><tr><td>reference code</td><td>HLA00001</td></tr><tr><td>coordinate system</td><td>0</td></tr><tr><td>start =</td><td>0</td></tr><tr><td>end =</td><td>3503</td></tr></table></div>\",\n",
      "        \"status\": \"generated\"\n",
      "    },\n",
      "    \"coordinateSystem\": 0,\n",
      "    \"referenceSeq\": {\n",
      "        \"referenceSeqId\": {\n",
      "            \"coding\": [\n",
      "                {\n",
      "                    \"code\": \"HLA00001\",\n",
      "                    \"display\": \"HLA-A*01:01:01:01\",\n",
      "                    \"system\": \"http://www.ebi.ac.uk/ipd/imgt/hla/\",\n",
      "                    \"version\": \"3.23\"\n",
      "                }\n",
      "            ]\n",
      "        },\n",
      "        \"referenceSeqString\": \"CAGGAGCAGAGGGGTCAGGGCGAAGTCCCAGGGCCCCAGGCGTGGCTCTCAGGGTCTCAGGCCCCGAAGGCGGTGTATGGATTGGGGAGTCCCAGCCTTGGGGATTCCCCAACTCCGCAGTTTCTTTTCTCCCTCTCCCAACCTACGTAGGGTCCTTCATCCTGGATACTCACGACGCGGACCCAGTTCTCACTCCCATTGGGTGTCGGGTTTCCAGAGAAGCCAATCAGTGTCGTCGCGGTCGCTGTTCTAAAGTCCGCACGCACCCACCGGGACTCAGATTCTCCCCAGACGCCGAGGATGGCCGTCATGGCGCCCCGAACCCTCCTCCTGCTACTCTCGGGGGCCCTGGCCCTGACCCAGACCTGGGCGGGTGAGTGCGGGGTCGGGAGGGAAACCGCCTCTGCGGGGAGAAGCAAGGGGCCCTCCTGGCGGGGGCGCAGGACCGGGGGAGCCGCGCCGGGAGGAGGGTCGGGCAGGTCTCAGCCACTGCTCGCCCCCAGGCTCCCACTCCATGAGGTATTTCTTCACATCCGTGTCCCGGCCCGGCCGCGGGGAGCCCCGCTTCATCGCCGTGGGCTACGTGGACGACACGCAGTTCGTGCGGTTCGACAGCGACGCCGCGAGCCAGAAGATGGAGCCGCGGGCGCCGTGGATAGAGCAGGAGGGGCCGGAGTATTGGGACCAGGAGACACGGAATATGAAGGCCCACTCACAGACTGACCGAGCGAACCTGGGGACCCTGCGCGGCTACTACAACCAGAGCGAGGACGGTGAGTGACCCCGGCCCGGGGCGCAGGTCACGACCCCTCATCCCCCACGGACGGGCCAGGTCGCCCACAGTCTCCGGGTCCGAGATCCACCCCGAAGCCGCGGGACTCCGAGACCCTTGTCCCGGGAGAGGCCCAGGCGCCTTTACCCGGTTTCATTTTCAGTTTAGGCCAAAAATCCCCCCGGGTTGGTCGGGGCGGGGCGGGGCTCGGGGGACTGGGCTGACCGCGGGGTCGGGGCCAGGTTCTCACACCATCCAGATAATGTATGGCTGCGACGTGGGGCCGGACGGGCGCTTCCTCCGCGGGTACCGGCAGGACGCCTACGACGGCAAGGATTACATCGCCCTGAACGAGGACCTGCGCTCTTGGACCGCGGCGGACATGGCAGCTCAGATCACCAAGCGCAAGTGGGAGGCGGTCCATGCGGCGGAGCAGCGGAGAGTCTACCTGGAGGGCCGGTGCGTGGACGGGCTCCGCAGATACCTGGAGAACGGGAAGGAGACGCTGCAGCGCACGGGTACCAGGGGCCACGGGGCGCCTCCCTGATCGCCTATAGATCTCCCGGGCTGGCCTCCCACAAGGAGGGGAGACAATTGGGACCAACACTAGAATATCACCCTCCCTCTGGTCCTGAGGGAGAGGAATCCTCCTGGGTTTCCAGATCCTGTACCAGAGAGTGACTCTGAGGTTCCGCCCTGCTCTCTGACACAATTAAGGGATAAAATCTCTGAAGGAGTGACGGGAAGACGATCCCTCGAATACTGATGAGTGGTTCCCTTTGACACCGGCAGCAGCCTTGGGCCCGTGACTTTTCCTCTCAGGCCTTGTTCTCTGCTTCACACTCAATGTGTGTGGGGGTCTGAGTCCAGCACTTCTGAGTCTCTCAGCCTCCACTCAGGTCAGGACCAGAAGTCGCTGTTCCCTTCTCAGGGAATAGAAGATTATCCCAGGTGCCTGTGTCCAGGCTGGTGTCTGGGTTCTGTGCTCTCTTCCCCATCCCGGGTGTCCTGTCCATTCTCAAGATGGCCACATGCGTGCTGGTGGAGTGTCCCATGACAGATGCAAAATGCCTGAATTTTCTGACTCTTCCCGTCAGACCCCCCCAAGACACATATGACCCACCACCCCATCTCTGACCATGAGGCCACCCTGAGGTGCTGGGCCCTGGGCTTCTACCCTGCGGAGATCACACTGACCTGGCAGCGGGATGGGGAGGACCAGACCCAGGACACGGAGCTCGTGGAGACCAGGCCTGCAGGGGATGGAACCTTCCAGAAGTGGGCGGCTGTGGTGGTGCCTTCTGGAGAGGAGCAGAGATACACCTGCCATGTGCAGCATGAGGGTCTGCCCAAGCCCCTCACCCTGAGATGGGGTAAGGAGGGAGATGGGGGTGTCATGTCTCTTAGGGAAAGCAGGAGCCTCTCTGGAGACCTTTAGCAGGGTCAGGGCCCCTCACCTTCCCCTCTTTTCCCAGAGCTGTCTTCCCAGCCCACCATCCCCATCGTGGGCATCATTGCTGGCCTGGTTCTCCTTGGAGCTGTGATCACTGGAGCTGTGGTCGCTGCCGTGATGTGGAGGAGGAAGAGCTCAGGTGGAGAAGGGGTGAAGGGTGGGGTCTGAGATTTCTTGTCTCACTGAGGGTTCCAAGCCCCAGCTAGAAATGTGCCCTGTCTCATTACTGGGAAGCACCTTCCACAATCATGGGCCGACCCAGCCTGGGCCCTGTGTGCCAGCACTTACTCTTTTGTAAAGCACCTGTTAAAATGAAGGACAGATTTATCACCTTGATTACGGCGGTGATGGGACCTGATCCCAGCAGTCACAAGTCACAGGGGAAGGTCCCTGAGGACAGACCTCAGGAGGGCTATTGGTCCAGGACCCACACCTGCTTTCTTCATGTTTCCTGATCCCGCCCTGGGTCTGCAGTCACACATTTCTGGAAACTTCTCTGGGGTCCAAGACTAGGAGGTTCCTCTAGGACCTTAAGGCCCTGGCTCCTTTCTGGTATCTCACAGGACATTTTCTTCCCACAGATAGAAAAGGAGGGAGTTACACTCAGGCTGCAAGTAAGTATGAAGGAGGCTGATGCCTGAGGTCCTTGGGATATTGTGTTTGGGAGCCCATGGGGGAGCTCACCCACCCCACAATTCCTCCTCTAGCCACATCTTCTGTGGGATCTGACCAGGTTCTGTTTTTGTTCTACCCCAGGCAGTGACAGTGCCCAGGGCTCTGATGTGTCTCTCACAGCTTGTAAAGGTGAGAGCTTGGAGGGCCTGATGTGTGTTGGGTGTTGGGTGGAACAGTGGACACAGCTGTGCTATGGGGTTTCTTTGCGTTGGATGTATTGAGCATGCGATGGGCTGTTTAAGGTGTGACCCCTCACTGTGATGGATATGAATTTGTTCATGAATATTTTTTTCTATAGTGTGAGACAGCTGCCTTGTGTGGGACTGAGAGGCAAGAGTTGTTCCTGCCCTTCCCTTTGTGACTTGAAGAACCCTGACTTTGTTTCTGCAAAGGCACCTGCATGTGTCTGTGTTCGTGTAGGCATAATGTGAGGAGGTGGGGAGAGCACCCCACCCCCATGTCCACCATGACCCTCTTCCCACGCTGACCTGTGCTCCCTCTCCAATCATCTTTCCTGTTCCAGAGAGGTGGGGCTGAGGTGTCTCCATCTCTGTCTCAACTTCATGGTGCACTGAGCTGTAACTTCTTCCTTCCCTATTAAAA\",\n",
      "        \"windowEnd\": 3503,\n",
      "        \"windowStart\": 0\n",
      "    },\n",
      "    \"type\": \"dna\",\n",
      "    \"resourceType\": \"Sequence\"\n",
      "}\n"
     ]
    }
   ],
   "source": [
    "myText = nar.Narrative()\n",
    "myText.status = 'generated' # status is required\n",
    "# use Doc from the yattag package to build the div\n",
    "# use the id from the fasta file for the text\n",
    "myDiv, tag, text = Doc().tagtext()\n",
    "with tag('div', xmlns='http://www.w3.org/1999/xhtml'):\n",
    "    with tag('table'):\n",
    "        with tag('tr'):\n",
    "            with tag('td'):\n",
    "                text('fasta id')\n",
    "            with tag('td'):\n",
    "                text(myFastas[0].id)\n",
    "        with tag('tr'):\n",
    "            with tag('td'):\n",
    "                text('reference display') \n",
    "            with tag('td'):\n",
    "                text(mySeq.referenceSeq.referenceSeqId.coding[0].display)\n",
    "        with tag('tr'):\n",
    "            with tag('td'):\n",
    "                text('reference system')\n",
    "            with tag('td'):\n",
    "                text(mySeq.referenceSeq.referenceSeqId.coding[0].system)\n",
    "        with tag('tr'):\n",
    "            with tag('td'):\n",
    "                text('reference code') \n",
    "            with tag('td'):\n",
    "                text(mySeq.referenceSeq.referenceSeqId.coding[0].code)\n",
    "        with tag('tr'):\n",
    "            with tag('td'):        \n",
    "                text('coordinate system') \n",
    "            with tag('td'):\n",
    "                text(mySeq.coordinateSystem)\n",
    "        with tag('tr'):\n",
    "            with tag('td'):        \n",
    "                text('start =') \n",
    "            with tag('td'):\n",
    "                text(mySeq.referenceSeq.windowStart)\n",
    "        with tag('tr'):\n",
    "            with tag('td'):        \n",
    "                text('end =') \n",
    "            with tag('td'):\n",
    "                text(mySeq.referenceSeq.windowEnd)\n",
    "# print(doc.getvalue())\n",
    "myText.div = myDiv.getvalue()\n",
    "mySeq.text = myText\n",
    "print(json.dumps(mySeq.as_json(), indent=4))"
   ]
  },
  {
   "cell_type": "code",
   "execution_count": 10,
   "metadata": {},
   "outputs": [
    {
     "name": "stdout",
     "output_type": "stream",
     "text": [
      "patient json written to file sequence.json\n"
     ]
    }
   ],
   "source": [
    "# write resource to file\n",
    "fname = 'sequence.json'\n",
    "with open(fname, 'w') as outfile:\n",
    "    json.dump(mySeq.as_json(), outfile, indent=4)\n",
    "print(\"patient json written to file {fn}\".format(fn=fname))"
   ]
  },
  {
   "cell_type": "code",
   "execution_count": 11,
   "metadata": {},
   "outputs": [
    {
     "name": "stdout",
     "output_type": "stream",
     "text": [
      "{\n",
      "    \"resourceType\": \"OperationOutcome\",\n",
      "    \"text\": {\n",
      "        \"status\": \"generated\",\n",
      "        \"div\": \"<div xmlns=\\\"http://www.w3.org/1999/xhtml\\\"><h1>Operation Outcome</h1><table border=\\\"0\\\"><tr><td style=\\\"font-weight: bold;\\\">INFORMATION</td><td>[]</td><td><pre>Successfully created resource &quot;Sequence/2613/_history/1&quot; in 3ms</pre></td>\\n\\t\\t\\t\\t\\t\\n\\t\\t\\t\\t\\n\\t\\t\\t</tr>\\n\\t\\t</table>\\n\\t</div>\"\n",
      "    },\n",
      "    \"issue\": [\n",
      "        {\n",
      "            \"severity\": \"information\",\n",
      "            \"code\": \"informational\",\n",
      "            \"diagnostics\": \"Successfully created resource \\\"Sequence/2613/_history/1\\\" in 3ms\"\n",
      "        }\n",
      "    ]\n",
      "}\n",
      "http://fhirtest.b12x.org/baseDstu3/Sequence/2613/_history/1\n"
     ]
    }
   ],
   "source": [
    "doit = True\n",
    "if doit:\n",
    "    settings = {\n",
    "        'app_id': 'my_web_app',\n",
    "        'api_base': 'http://fhirtest.b12x.org/baseDstu3'\n",
    "    }\n",
    "    smart = client.FHIRClient(settings=settings)\n",
    "    response = mySeq.create(smart.server)\n",
    "    print(json.dumps(response.json(), indent=4))\n",
    "    print(response.headers['location'])"
   ]
  },
  {
   "cell_type": "markdown",
   "metadata": {},
   "source": [
    "```python\n",
    "    import fhirclient.models.narrative as n\n",
    "    narrative = n.Narrative()\n",
    "    narrative.div = (\n",
    "        '<div xmlns=\"http://www.w3.org/1999/xhtml\">'\n",
    "        '<pre>HLA-A*01:01:01:01, exon 3</pre>'\n",
    "        '</div>'\n",
    "    )\n",
    "    narrative.status = 'generated'\n",
    "    sequence.text = narrative\n",
    "```\n"
   ]
  },
  {
   "cell_type": "markdown",
   "metadata": {},
   "source": [
    "```xml\n",
    "<text>\n",
    "    <status value=\"generated\"/>\n",
    "    <div xmlns=\"http://www.w3.org/1999/xhtml\">\n",
    "        <pre>&quot;HLA-A*01:01:01:01, exon 2&quot;</pre>\n",
    "    </div>\n",
    "</text>\n",
    "<type value=\"dna\"/>\n",
    "<coordinateSystem value=\"0\"/>\n",
    "<referenceSeq>\n",
    "    <referenceSeqId>\n",
    "        <coding>\n",
    "            <system value=\"http://www.ebi.ac.uk/ipd/imgt/hla/\"/>\n",
    "            <version value=\"3.23\"/>\n",
    "            <code value=\"HLA00001\"/>\n",
    "            <display value=\"HLA-A*01:01:01:01\"/>\n",
    "        </coding>\n",
    "    </referenceSeqId>\n",
    "    <windowStart value=\"503\"/>\n",
    "    <windowEnd value=\"773\"/>\n",
    "</referenceSeq>\n",
    "<observedSeq value=\"GCTCCCAC...\"/>\n",
    "```"
   ]
  },
  {
   "cell_type": "code",
   "execution_count": null,
   "metadata": {},
   "outputs": [],
   "source": []
  }
 ],
 "metadata": {
  "kernelspec": {
   "display_name": "Python 3",
   "language": "python",
   "name": "python3"
  },
  "language_info": {
   "codemirror_mode": {
    "name": "ipython",
    "version": 3
   },
   "file_extension": ".py",
   "mimetype": "text/x-python",
   "name": "python",
   "nbconvert_exporter": "python",
   "pygments_lexer": "ipython3",
   "version": "3.6.5"
  }
 },
 "nbformat": 4,
 "nbformat_minor": 2
}
